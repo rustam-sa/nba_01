{
 "cells": [
  {
   "cell_type": "code",
   "execution_count": 1,
   "metadata": {},
   "outputs": [
    {
     "name": "stdout",
     "output_type": "stream",
     "text": [
      "Index(['SEASON_ID', 'TEAM_ID', 'TEAM_ABBREVIATION', 'TEAM_NAME', 'GAME_ID',\n",
      "       'GAME_DATE', 'MATCHUP', 'WL', 'MIN', 'PTS', 'FGM', 'FGA', 'FG_PCT',\n",
      "       'FG3M', 'FG3A', 'FG3_PCT', 'FTM', 'FTA', 'FT_PCT', 'OREB', 'DREB',\n",
      "       'REB', 'AST', 'STL', 'BLK', 'TOV', 'PF', 'PLUS_MINUS'],\n",
      "      dtype='object')\n"
     ]
    }
   ],
   "source": [
    "from nba_api.stats.static import teams\n",
    "from nba_api.stats.endpoints import leaguegamefinder\n",
    "\n",
    "# Function to fetch seasons data\n",
    "def fetch_seasons():\n",
    "    # Get all teams to ensure comprehensive games data\n",
    "    all_teams = teams.get_teams()\n",
    "    # Example: Get games for the Los Angeles Lakers\n",
    "    team_id = next(team['id'] for team in all_teams if team['full_name'] == 'Los Angeles Lakers')\n",
    "    \n",
    "    # Fetch game finder for specific team\n",
    "    gamefinder = leaguegamefinder.LeagueGameFinder(team_id_nullable=team_id)\n",
    "    games_df = gamefinder.get_data_frames()[0]\n",
    "    print(games_df.columns)\n",
    "    # Extract unique seasons from the games data\n",
    "    seasons = games_df['SEASON_ID'].unique()\n",
    "    return seasons\n",
    "\n",
    "# Fetching seasons\n",
    "seasons = fetch_seasons()\n"
   ]
  }
 ],
 "metadata": {
  "kernelspec": {
   "display_name": "nba_01-7yhASJUA",
   "language": "python",
   "name": "python3"
  },
  "language_info": {
   "codemirror_mode": {
    "name": "ipython",
    "version": 3
   },
   "file_extension": ".py",
   "mimetype": "text/x-python",
   "name": "python",
   "nbconvert_exporter": "python",
   "pygments_lexer": "ipython3",
   "version": "3.12.3"
  }
 },
 "nbformat": 4,
 "nbformat_minor": 2
}
