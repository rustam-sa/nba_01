{
 "cells": [
  {
   "cell_type": "code",
   "execution_count": 17,
   "metadata": {},
   "outputs": [
    {
     "name": "stdout",
     "output_type": "stream",
     "text": [
      "    minutes  points  rebounds  assists  fg3m  fgm  steals  blocks        date\n",
      "82     33.0      18        10        5     0    7       1       0  2024-05-14\n",
      "1      41.0      27         7        6     2   11       1       2  2024-05-12\n",
      "0      33.0      13         2        5     3    5       2       0  2024-05-10\n",
      "5      33.0      20         4        2     3    8       1       0  2024-05-06\n",
      "3      32.0       9         3        6     0    4       2       0  2024-05-04\n",
      "6      46.0       7        13        6     1    3       1       1  2024-04-29\n",
      "7      41.0       7         3        4     0    3       1       0  2024-04-27\n",
      "2      41.0      29        15        3     0   12       1       0  2024-04-25\n",
      "4      39.0      14         7        3     0    5       0       0  2024-04-22\n",
      "10     32.0      12        11        7     0    5       0       0  2024-04-20\n",
      "49     26.0      15         5        5     0    4       0       1  2024-04-14\n",
      "39     28.0      13         4        4     1    6       1       0  2024-04-12\n",
      "16     27.0       5         5        9     0    2       1       0  2024-04-10\n",
      "79     35.0      18         6        7     0    5       1       2  2024-04-04\n",
      "40     33.0      23         7        4     2    9       1       1  2024-04-02\n",
      "55     28.0       8         8        5     1    3       1       0  2024-03-31\n",
      "17     30.0      14         7        4     2    5       0       0  2024-03-29\n",
      "30     36.0      18         6        2     1    7       0       0  2024-03-27\n",
      "31     36.0      22        12        5     0    8       0       3  2024-03-23\n",
      "20     35.0      10         4        8     0    5       1       0  2024-03-21\n",
      "18     32.0      14        11        2     0    5       0       0  2024-03-19\n",
      "62     33.0      11         8        4     0    4       0       1  2024-03-17\n",
      "41     25.0       7         3        7     0    3       0       0  2024-03-15\n",
      "11     33.0      16         8        4     1    6       0       0  2024-03-13\n",
      "44     30.0      19         2        1     1    8       0       0  2024-03-11\n"
     ]
    }
   ],
   "source": [
    "import pandas as pd\n",
    "from models import Player, TradPlayerStats, AdvPlayerStats, Game\n",
    "from sqlalchemy import and_\n",
    "from data_manager import DataManager\n",
    "dm = DataManager()\n",
    "session = dm.get_session()\n",
    "\n",
    "def get_and_save_player_data(player_id, save=False):\n",
    "    data = session.query(\n",
    "        Player,\n",
    "        TradPlayerStats,\n",
    "        AdvPlayerStats,\n",
    "        Game\n",
    "    ).join(Game, TradPlayerStats.game_id == Game.id)\\\n",
    "    .join(Player, TradPlayerStats.player_id == Player.id)\\\n",
    "    .join(AdvPlayerStats, and_(TradPlayerStats.game_id == AdvPlayerStats.game_id, \n",
    "                                TradPlayerStats.player_id == AdvPlayerStats.player_id))\\\n",
    "    .filter(\n",
    "        (TradPlayerStats.player_id == player_id)# &\n",
    "        #  (Game.season_type == \"Playoffs\")\n",
    "    ).all()\n",
    "\n",
    "    # Convert the query result to a DataFrame\n",
    "    data_list = []\n",
    "    for player, trad_stats, adv_stats, game in data:\n",
    "        row = {\n",
    "            'player_name': player.name,\n",
    "            'player_position': player.position,\n",
    "            'minutes': trad_stats.minutes,\n",
    "            'points': trad_stats.pts,\n",
    "            'rebounds': trad_stats.reb,\n",
    "            'assists': trad_stats.ast,\n",
    "            'efg': adv_stats.efg_pct,\n",
    "            'fg3a': trad_stats.fg3a,\n",
    "            'fg3m': trad_stats.fg3m,\n",
    "            'fg3_pct': trad_stats.fg3_pct,\n",
    "            'fga': trad_stats.fga,\n",
    "            'fgm': trad_stats.fgm,\n",
    "            'fta': trad_stats.fta,\n",
    "            'ft_pct': trad_stats.ft_pct, \n",
    "            'steals': trad_stats.stl,\n",
    "            'blocks': trad_stats.blk,\n",
    "            'date': game.date,\n",
    "\n",
    "        }\n",
    "        data_list.append(row)\n",
    "    if save:\n",
    "        data_df.to_csv(f\"data_pile/{player_name}.csv\")\n",
    "    data_df = pd.DataFrame(data_list)\n",
    "    return data_df\n",
    "\n",
    "\n"
   ]
  },
  {
   "cell_type": "code",
   "execution_count": 19,
   "metadata": {},
   "outputs": [
    {
     "name": "stdout",
     "output_type": "stream",
     "text": [
      "    minutes  points  rebounds  assists  fg3m  fgm  steals  blocks        date\n",
      "85     37.0      16         5        4     4    6       1       0  2024-05-14\n",
      "1      31.0       3         1        3     1    1       1       2  2024-05-12\n",
      "0      36.0      12         4        4     0    3       0       0  2024-05-10\n",
      "5      27.0       4         3        0     0    2       1       0  2024-05-06\n",
      "3      37.0       6         2        3     2    2       2       1  2024-05-04\n",
      "6      32.0       5         3        3     1    2       1       0  2024-04-29\n",
      "7      40.0      14         2        3     2    6       4       0  2024-04-27\n",
      "2      35.0       5         2        1     1    2       2       0  2024-04-25\n",
      "4      35.0       6         1        3     0    2       0       1  2024-04-22\n",
      "9      36.0      12         2        1     4    4       3       0  2024-04-20\n",
      "49     24.0      11         4        3     1    5       0       1  2024-04-14\n",
      "37     28.0       5         1        1     1    2       1       0  2024-04-12\n",
      "15     26.0       9         3        1     1    4       0       1  2024-04-10\n",
      "43     29.0       6         2        4     0    3       0       1  2024-04-09\n",
      "8      27.0      24         2        1     6    9       2       0  2024-04-06\n",
      "81     37.0      16         4        3     4    6       1       1  2024-04-04\n",
      "38     32.0       4         0        2     1    1       1       1  2024-04-02\n",
      "57     34.0      22         3        4     6    7       1       0  2024-03-31\n",
      "16     27.0       0         3        2     0    0       0       0  2024-03-29\n",
      "28     36.0      13         6        6     3    5       2       1  2024-03-27\n",
      "50     25.0       9         2        2     1    3       1       0  2024-03-25\n",
      "29     34.0      13         3        1     3    4       2       2  2024-03-23\n",
      "19     36.0       6         4        3     2    2       1       3  2024-03-21\n",
      "17     37.0       9         2        1     2    3       2       1  2024-03-19\n",
      "64     31.0      10         3        2     2    4       0       2  2024-03-17\n"
     ]
    }
   ],
   "source": [
    "player_name = \"Kentavious Caldwell-Pope\"\n",
    "player = session.query(Player).where(Player.name == player_name).all()[0]\n",
    "game_log = get_and_save_player_data(player.id).sort_values(by=\"date\", ascending=False)\n",
    "print(game_log.head(25)[['minutes', 'points', 'rebounds', 'assists', 'fg3m', 'fgm', 'steals', 'blocks', 'date']])"
   ]
  },
  {
   "cell_type": "code",
   "execution_count": 2,
   "metadata": {},
   "outputs": [
    {
     "name": "stdout",
     "output_type": "stream",
     "text": [
      "[<models.Player object at 0x000001CEA75B6B70>]\n"
     ]
    }
   ],
   "source": []
  }
 ],
 "metadata": {
  "kernelspec": {
   "display_name": "nba_01-7yhASJUA",
   "language": "python",
   "name": "python3"
  },
  "language_info": {
   "codemirror_mode": {
    "name": "ipython",
    "version": 3
   },
   "file_extension": ".py",
   "mimetype": "text/x-python",
   "name": "python",
   "nbconvert_exporter": "python",
   "pygments_lexer": "ipython3",
   "version": "3.12.3"
  }
 },
 "nbformat": 4,
 "nbformat_minor": 2
}
