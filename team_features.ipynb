{
 "cells": [
  {
   "cell_type": "code",
   "execution_count": 818,
   "metadata": {},
   "outputs": [],
   "source": [
    "import pandas as pd\n",
    "import numpy as np\n",
    "from scipy import stats\n",
    "from data_manager import DataManager"
   ]
  },
  {
   "cell_type": "code",
   "execution_count": 819,
   "metadata": {},
   "outputs": [],
   "source": [
    "dm = DataManager()"
   ]
  },
  {
   "cell_type": "code",
   "execution_count": 820,
   "metadata": {},
   "outputs": [],
   "source": [
    "def get_features(player_name, target_stat):\n",
    "    team_stats = dm.get_team_rolling_stats(player_name)\n",
    "    if not team_stats:\n",
    "        return None\n",
    "    team_stats_df = pd.concat(team_stats, axis=0).reset_index(drop=True)\n",
    "    player_id = dm.get_player_id(player_name)\n",
    "    player_stats = dm.get_and_save_player_data(player_id)[::-1]\n",
    "    averaged_player_stats = rolling_player_stats(player_stats, target_stat=target_stat, window_size=5)\n",
    "    averaged_player_stats['date'] = pd.to_datetime(averaged_player_stats['date'])\n",
    "    team_stats_df['date'] = pd.to_datetime(team_stats_df['date'])\n",
    "    merged = pd.merge(averaged_player_stats, team_stats_df, on='date', how='inner', suffixes=[None, \"_team\"])\n",
    "    return merged\n",
    "\n",
    "def get_features_corr_matrix(df, target_col):\n",
    "    df[target_col] = df[target_col].astype(float)\n",
    "    df.loc[:, target_col] = df[target_col].shift(1)\n",
    "    df.replace(\"\", np.nan, inplace=True)\n",
    "    df.dropna(inplace=True)\n",
    "    correlation_matrix = df.corr()\n",
    "    return correlation_matrix[target_col]\n",
    "\n",
    "\n",
    "def get_stat_corrs(player_name, stat):\n",
    "    merged = get_features(player_name)\n",
    "    if merged is None or merged.empty:\n",
    "        return None\n",
    "    corr = get_features_corr_matrix(merged, stat)\n",
    "    return player_name, corr\n",
    "\n",
    "\n",
    "def rolling_player_stats(player_stats, target_stat, average_method=\"median\", window_size=5):\n",
    "    player_stats['target'] = player_stats[target_stat]\n",
    "    stats_to_roll_cols = ['minutes', 'points', 'rebounds',\n",
    "        'assists', 'efg', 'fg3a', 'fg3m', 'fg3_pct', 'fga', 'fgm', 'fta',\n",
    "        'ft_pct', 'steals', 'blocks']\n",
    "    stats_to_roll = player_stats.copy()[stats_to_roll_cols]\n",
    "    z_scores = np.abs(stats.zscore(stats_to_roll))\n",
    "    # Define a threshold for identifying outliers\n",
    "    # Filter out rows with any column's z-score exceeding the threshold\n",
    "    stats_to_roll = stats_to_roll[(z_scores < 3).all(axis=1)]\n",
    "    if average_method == \"median\":\n",
    "        rolling_averages = stats_to_roll.shift(1).rolling(window=window_size).median()\n",
    "    elif average_method == \"mean\":\n",
    "        rolling_averages = stats_to_roll.shift(1).rolling(window=window_size).mean()\n",
    "    rolling_averages['date'] = player_stats['date']\n",
    "    rolling_averages['target'] = player_stats[target_stat]\n",
    "    rolling_averages.replace(\"\", np.nan, inplace=True)\n",
    "    rolling_averages.dropna(inplace=True)\n",
    "    return rolling_averages"
   ]
  },
  {
   "cell_type": "code",
   "execution_count": 821,
   "metadata": {},
   "outputs": [
    {
     "name": "stdout",
     "output_type": "stream",
     "text": [
      "Index(['minutes', 'points', 'rebounds', 'assists', 'efg', 'fg3a', 'fg3m',\n",
      "       'fg3_pct', 'fga', 'fgm', 'fta', 'ft_pct', 'steals', 'blocks', 'date',\n",
      "       'target', 'efg_team', 'fg3a_team', 'fg3_pct_team', 'fga_team',\n",
      "       'fta_team', 'ft_pct_team', 'steals_team', 'blocks_team', 'to', 'pace',\n",
      "       'e_def_rating', 'e_off_rating', 'opp_efg', 'opp_fg3a', 'opp_fg3_pct',\n",
      "       'opp_fga', 'opp_fta', 'opp_ft_pct', 'opp_steals', 'opp_blocks',\n",
      "       'opp_to', 'opp_pace', 'opp_e_def_rating', 'opp_e_off_rating'],\n",
      "      dtype='object')\n"
     ]
    }
   ],
   "source": [
    "player_name = \"Sam Hauser\"\n",
    "target_stat = \"points\"\n",
    "features = get_features(player_name=player_name, target_stat=target_stat)\n",
    "print(features.columns)"
   ]
  },
  {
   "cell_type": "code",
   "execution_count": 822,
   "metadata": {},
   "outputs": [],
   "source": [
    "data = features[['minutes', 'points', 'opp_pace', 'opp_e_def_rating', 'opp_e_off_rating', 'pace', 'target']]\n",
    "# Define the split ratio\n",
    "train_size = 0.8\n",
    "\n",
    "# Determine the split index\n",
    "split_index = int(len(data) * train_size)\n",
    "\n",
    "# Split the DataFrame\n",
    "train_df = data.iloc[:split_index]\n",
    "# z_scores = np.abs(stats.zscore(train_df))\n",
    "# # Set a threshold (commonly 3)\n",
    "# threshold = 3\n",
    "# train_df = train_df[(z_scores < threshold).all(axis=1)]\n",
    "\n",
    "test_df = data.iloc[split_index:]\n",
    "\n",
    "\n"
   ]
  },
  {
   "cell_type": "code",
   "execution_count": 823,
   "metadata": {},
   "outputs": [],
   "source": [
    "y_train = train_df['target']\n",
    "y_train_binary = pd.Series(np.where(y_train > y_train.median(), 1, 0))\n",
    "X_train = train_df.drop(['target'], axis=1)\n",
    "\n",
    "y_test = test_df['target']\n",
    "y_test_binary = pd.Series(np.where(y_test > y_test.median(), 1, 0))\n",
    "X_test = test_df.drop(['target'], axis=1)\n"
   ]
  },
  {
   "cell_type": "code",
   "execution_count": 824,
   "metadata": {},
   "outputs": [],
   "source": [
    "from sklearn.model_selection import train_test_split\n",
    "from sklearn.linear_model import LinearRegression, LogisticRegression\n",
    "from sklearn.metrics import mean_squared_error, r2_score\n",
    "from sklearn.ensemble import RandomForestRegressor\n",
    "import matplotlib.pyplot as plt\n",
    "# rf_model = RandomForestRegressor(n_estimators=4000, random_state=42)\n",
    "# rf_model.fit(X_train, y_train)\n",
    "from scipy.special import expit \n",
    "import xgboost as xgb\n",
    "\n",
    "xg_reg = xgb.XGBRegressor(objective='reg:squarederror', colsample_bytree=0.3, learning_rate=0.1,\n",
    "                          max_depth=3, n_estimators=100)\n",
    "\n",
    "# xg_reg.fit(X_train, y_train)\n",
    "\n",
    "# Train the model\n",
    "xg_reg.fit(X_train, y_train)\n",
    "y_pred = xg_reg.predict(X_test)\n",
    "\n",
    "# Train the model\n"
   ]
  },
  {
   "cell_type": "code",
   "execution_count": 825,
   "metadata": {},
   "outputs": [
    {
     "name": "stdout",
     "output_type": "stream",
     "text": [
      "5.0\n"
     ]
    }
   ],
   "source": [
    "y_pred = pd.Series(y_pred)\n",
    "results = pd.concat([y_pred, y_test.reset_index(drop=True), y_test_binary], axis=1)\n",
    "results.columns = ['y_pred', 'y_test', 'y_test_binary']\n",
    "print(y_test.median())"
   ]
  },
  {
   "cell_type": "code",
   "execution_count": 826,
   "metadata": {},
   "outputs": [
    {
     "name": "stdout",
     "output_type": "stream",
     "text": [
      "       y_pred  y_test  y_test_binary\n",
      "0    9.398875       8              1\n",
      "1   11.126532      16              1\n",
      "2    5.913223      12              1\n",
      "3   12.782369       6              1\n",
      "4    9.734514       5              0\n",
      "5   11.599652       0              0\n",
      "6    6.381793      17              1\n",
      "7    7.716197       0              0\n",
      "8    7.707021       2              0\n",
      "9    9.410731       6              1\n",
      "10  12.977635       2              0\n",
      "11  11.417250       5              0\n",
      "12  10.027883       0              0\n",
      "13  10.027883       2              0\n",
      "14  15.161420       0              0\n"
     ]
    }
   ],
   "source": [
    "results.to_csv('test.csv')\n",
    "print(results)"
   ]
  }
 ],
 "metadata": {
  "kernelspec": {
   "display_name": "nba_01-7yhASJUA",
   "language": "python",
   "name": "python3"
  },
  "language_info": {
   "codemirror_mode": {
    "name": "ipython",
    "version": 3
   },
   "file_extension": ".py",
   "mimetype": "text/x-python",
   "name": "python",
   "nbconvert_exporter": "python",
   "pygments_lexer": "ipython3",
   "version": "3.12.3"
  }
 },
 "nbformat": 4,
 "nbformat_minor": 2
}
