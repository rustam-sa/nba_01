{
 "cells": [
  {
   "cell_type": "code",
   "execution_count": 13,
   "metadata": {},
   "outputs": [],
   "source": [
    "import pandas as pd\n",
    "import date_utils as dt_mng\n",
    "from data_manager import DataManager"
   ]
  },
  {
   "cell_type": "code",
   "execution_count": 14,
   "metadata": {},
   "outputs": [],
   "source": [
    "dt = DataManager()"
   ]
  },
  {
   "cell_type": "code",
   "execution_count": 15,
   "metadata": {},
   "outputs": [
    {
     "name": "stdout",
     "output_type": "stream",
     "text": [
      "Directory already exists: e:\\coding_projects\\nba_01\\days\n",
      "Directory already exists: e:\\coding_projects\\nba_01\\days\\2024-05-25\n"
     ]
    }
   ],
   "source": [
    "today_dir = dt_mng.get_or_create_directory_in_days()\n"
   ]
  },
  {
   "cell_type": "code",
   "execution_count": 16,
   "metadata": {},
   "outputs": [],
   "source": [
    "parlays = [\"parlays0\", \"parlays1\", \"parlays2\"]"
   ]
  },
  {
   "cell_type": "code",
   "execution_count": 17,
   "metadata": {},
   "outputs": [],
   "source": [
    "taken = [pd.read_csv(f\"{today_dir}/parlays{i}.csv\", index_col=0) for i in range(len(parlays))]"
   ]
  },
  {
   "cell_type": "code",
   "execution_count": 18,
   "metadata": {},
   "outputs": [
    {
     "name": "stdout",
     "output_type": "stream",
     "text": [
      "                 PLAYER     TEAM      STAT  THRESH   ODDS   TYPE      PROB  \\\n",
      "0.0          Sam Hauser  Celtics    points     4.5 -125.0   over  0.928249   \n",
      "1.0    Payton Pritchard  Celtics    points     7.5 -120.0   over  0.917255   \n",
      "2.0        Jrue Holiday  Celtics    points    14.5 -110.0  under  0.816901   \n",
      "3.0    Payton Pritchard  Celtics   assists     2.5  110.0   over  0.814858   \n",
      "4.0    Payton Pritchard  Celtics    points     7.5 -120.0   over  0.917255   \n",
      "...                 ...      ...       ...     ...    ...    ...       ...   \n",
      "51.0       Myles Turner   Pacers  rebounds     7.5 -135.0  under  0.663964   \n",
      "52.0       Myles Turner   Pacers      fg3m     1.5 -150.0   over  0.691559   \n",
      "53.0  Tyrese Haliburton   Pacers    points    16.5 -105.0   over  0.682634   \n",
      "54.0         Al Horford  Celtics  rebounds     7.5 -135.0  under  0.675680   \n",
      "55.0       Jaylen Brown  Celtics    points    26.5 -120.0  under  0.674605   \n",
      "\n",
      "            EV  HOUSE_PROB  PARLAY_EV  PARLAY_PROB  PARLAY_HOUSE_PROB  \\\n",
      "0.0   3.354245    0.555556  13.116114     0.566769           0.075586   \n",
      "1.0   3.408175    0.545455  13.116114     0.566769           0.075586   \n",
      "2.0   2.797688    0.523810  13.116114     0.566769           0.075586   \n",
      "3.0   3.556006    0.476190  13.116114     0.566769           0.075586   \n",
      "4.0   3.408175    0.545455  12.260867     0.499497           0.074212   \n",
      "...        ...         ...        ...          ...                ...   \n",
      "51.0  0.778949    0.574468   4.507550     0.206597           0.092199   \n",
      "52.0  0.762991    0.600000   4.491593     0.215183           0.096297   \n",
      "53.0  1.663805    0.512195   4.491593     0.215183           0.096297   \n",
      "54.0  0.880920    0.574468   4.491593     0.215183           0.096297   \n",
      "55.0  1.183876    0.545455   4.491593     0.215183           0.096297   \n",
      "\n",
      "      PARLAY_ID     TO_WIN                       PROP_TAG  \n",
      "0.0         0.0  12.230000         Sam Hauser_points_over  \n",
      "1.0         0.0  12.230000   Payton Pritchard_points_over  \n",
      "2.0         0.0  12.230000      Jrue Holiday_points_under  \n",
      "3.0         0.0  12.230000  Payton Pritchard_assists_over  \n",
      "4.0         3.0  12.475000   Payton Pritchard_points_over  \n",
      "...         ...        ...                            ...  \n",
      "51.0     8941.0   9.846114    Myles Turner_rebounds_under  \n",
      "52.0     8978.0   9.384578         Myles Turner_fg3m_over  \n",
      "53.0     8978.0   9.384578  Tyrese Haliburton_points_over  \n",
      "54.0     8978.0   9.384578      Al Horford_rebounds_under  \n",
      "55.0     8978.0   9.384578      Jaylen Brown_points_under  \n",
      "\n",
      "[170 rows x 15 columns]\n"
     ]
    }
   ],
   "source": [
    "taken = pd.concat(taken, axis=0)\n",
    "pivot_df = dt.create_pivot_table_for_tracking(taken)\n",
    "pivot_df.to_csv(f\"{today_dir}/taken_parlays_as_pivot.csv\")\n",
    "print(taken)"
   ]
  }
 ],
 "metadata": {
  "kernelspec": {
   "display_name": "nba_01-7yhASJUA",
   "language": "python",
   "name": "python3"
  },
  "language_info": {
   "codemirror_mode": {
    "name": "ipython",
    "version": 3
   },
   "file_extension": ".py",
   "mimetype": "text/x-python",
   "name": "python",
   "nbconvert_exporter": "python",
   "pygments_lexer": "ipython3",
   "version": "3.12.3"
  }
 },
 "nbformat": 4,
 "nbformat_minor": 2
}
