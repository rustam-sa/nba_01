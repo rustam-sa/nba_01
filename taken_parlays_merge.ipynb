{
 "cells": [
  {
   "cell_type": "code",
   "execution_count": 1,
   "metadata": {},
   "outputs": [],
   "source": [
    "import pandas as pd\n",
    "import date_utils as dt_mng\n",
    "from data_manager import DataManager"
   ]
  },
  {
   "cell_type": "code",
   "execution_count": 2,
   "metadata": {},
   "outputs": [],
   "source": [
    "dt = DataManager()"
   ]
  },
  {
   "cell_type": "code",
   "execution_count": 3,
   "metadata": {},
   "outputs": [
    {
     "name": "stdout",
     "output_type": "stream",
     "text": [
      "Directory already exists: e:\\coding_projects\\nba_01\\days\n",
      "Directory already exists: e:\\coding_projects\\nba_01\\days\\2024-05-27\n"
     ]
    }
   ],
   "source": [
    "today_dir = dt_mng.get_or_create_directory_in_days()\n"
   ]
  },
  {
   "cell_type": "code",
   "execution_count": 4,
   "metadata": {},
   "outputs": [],
   "source": [
    "parlays = [\"parlays\"]"
   ]
  },
  {
   "cell_type": "code",
   "execution_count": 5,
   "metadata": {},
   "outputs": [],
   "source": [
    "taken = [pd.read_csv(f\"{today_dir}/parlays{i}.csv\", index_col=0) for i in range(len(parlays))]"
   ]
  },
  {
   "cell_type": "code",
   "execution_count": 6,
   "metadata": {},
   "outputs": [
    {
     "name": "stdout",
     "output_type": "stream",
     "text": [
      "               PLAYER     TEAM      STAT  THRESH  ODDS   TYPE      PROB  \\\n",
      "0    Payton Pritchard  Celtics    points     6.5  -135   over  0.937749   \n",
      "1     Andrew Nembhard   Pacers    points    15.5   100  under  0.864748   \n",
      "2     Andrew Nembhard   Pacers   assists     6.5   100  under  0.796368   \n",
      "3    Payton Pritchard  Celtics    points     6.5  -135   over  0.937749   \n",
      "4     Andrew Nembhard   Pacers    points    15.5   100  under  0.864748   \n",
      "..                ...      ...       ...     ...   ...    ...       ...   \n",
      "154     Pascal Siakam   Pacers    points    23.5  -125  under  0.709960   \n",
      "155     Derrick White  Celtics    points    14.5  -130   over  0.692866   \n",
      "156     Pascal Siakam   Pacers   assists     4.5  -145  under  0.744182   \n",
      "157     Derrick White  Celtics    points    14.5  -130   over  0.692866   \n",
      "158      Myles Turner   Pacers  rebounds     7.5  -115  under  0.634425   \n",
      "\n",
      "           EV  HOUSE_PROB  PARLAY_EV  PARLAY_PROB  PARLAY_HOUSE_PROB  \\\n",
      "0    3.161893    0.574468   9.773060     0.645789           0.143617   \n",
      "1    3.647485    0.500000   9.773060     0.645789           0.143617   \n",
      "2    2.963683    0.500000   9.773060     0.645789           0.143617   \n",
      "3    3.161893    0.574468   9.653537     0.636097           0.143617   \n",
      "4    3.647485    0.500000   9.653537     0.636097           0.143617   \n",
      "..        ...         ...        ...          ...                ...   \n",
      "154  1.389643    0.555556   3.369875     0.366312           0.199824   \n",
      "155  1.129200    0.565217   3.369875     0.366312           0.199824   \n",
      "156  1.287052    0.591837   3.346744     0.327121           0.178927   \n",
      "157  1.129200    0.565217   3.346744     0.327121           0.178927   \n",
      "158  0.930491    0.534884   3.346744     0.327121           0.178927   \n",
      "\n",
      "     PARLAY_ID    TO_WIN                       PROP_TAG  \n",
      "0            0  5.962963   Payton Pritchard_points_over  \n",
      "1            0  5.962963   Andrew Nembhard_points_under  \n",
      "2            0  5.962963  Andrew Nembhard_assists_under  \n",
      "3            1  5.962963   Payton Pritchard_points_over  \n",
      "4            1  5.962963   Andrew Nembhard_points_under  \n",
      "..         ...       ...                            ...  \n",
      "154       7004  4.004396     Pascal Siakam_points_under  \n",
      "155       7004  4.004396      Derrick White_points_over  \n",
      "156       7084  4.588859    Pascal Siakam_assists_under  \n",
      "157       7084  4.588859      Derrick White_points_over  \n",
      "158       7084  4.588859    Myles Turner_rebounds_under  \n",
      "\n",
      "[159 rows x 15 columns]\n"
     ]
    }
   ],
   "source": [
    "taken = pd.concat(taken, axis=0)\n",
    "pivot_df = dt.create_pivot_table_for_tracking(taken)\n",
    "pivot_df.to_csv(f\"{today_dir}/taken_parlays_as_pivot.csv\")\n",
    "print(taken)"
   ]
  }
 ],
 "metadata": {
  "kernelspec": {
   "display_name": "nba_01-7yhASJUA",
   "language": "python",
   "name": "python3"
  },
  "language_info": {
   "codemirror_mode": {
    "name": "ipython",
    "version": 3
   },
   "file_extension": ".py",
   "mimetype": "text/x-python",
   "name": "python",
   "nbconvert_exporter": "python",
   "pygments_lexer": "ipython3",
   "version": "3.12.3"
  }
 },
 "nbformat": 4,
 "nbformat_minor": 2
}
