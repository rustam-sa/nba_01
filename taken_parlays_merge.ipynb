{
 "cells": [
  {
   "cell_type": "code",
   "execution_count": 1,
   "metadata": {},
   "outputs": [],
   "source": [
    "import pandas as pd\n",
    "import date_utils as dt_mng\n",
    "from data_manager import DataManager"
   ]
  },
  {
   "cell_type": "code",
   "execution_count": 2,
   "metadata": {},
   "outputs": [],
   "source": [
    "dt = DataManager()"
   ]
  },
  {
   "cell_type": "code",
   "execution_count": 3,
   "metadata": {},
   "outputs": [
    {
     "name": "stdout",
     "output_type": "stream",
     "text": [
      "Directory already exists: e:\\coding_projects\\nba_01\\days\n",
      "Directory already exists: e:\\coding_projects\\nba_01\\days\\2024-05-24\n"
     ]
    }
   ],
   "source": [
    "today_dir = dt_mng.get_or_create_directory_in_days()\n"
   ]
  },
  {
   "cell_type": "code",
   "execution_count": 4,
   "metadata": {},
   "outputs": [],
   "source": [
    "taken_1 = pd.read_csv(f\"{today_dir}/parlays.csv\", index_col=0)\n",
    "taken_2 = pd.read_csv(f\"{today_dir}/parlays2.csv\", index_col=0)"
   ]
  },
  {
   "cell_type": "code",
   "execution_count": 5,
   "metadata": {},
   "outputs": [
    {
     "name": "stdout",
     "output_type": "stream",
     "text": [
      "                      PLAYER          TEAM      STAT  THRESH  ODDS   TYPE  \\\n",
      "0   Nickeil Alexander-Walker  Timberwolves       fgm     1.5  -155   over   \n",
      "1             Daniel Gafford     Mavericks   assists     0.5  -150   over   \n",
      "2                   Naz Reid  Timberwolves    points    10.5  -110   over   \n",
      "3            Jaden McDaniels  Timberwolves      fg3m     1.5   110  under   \n",
      "4   Nickeil Alexander-Walker  Timberwolves       fgm     1.5  -155   over   \n",
      "..                       ...           ...       ...     ...   ...    ...   \n",
      "58          Dereck Lively II     Mavericks    steals     0.5  -115  under   \n",
      "59               Luka Doncic     Mavericks  rebounds     8.5  -125   over   \n",
      "60             Kyle Anderson  Timberwolves    steals     0.5  -125   over   \n",
      "61             Kyle Anderson  Timberwolves       fgm     1.5  -115   over   \n",
      "62             Kyle Anderson  Timberwolves   assists     2.5  -110   over   \n",
      "\n",
      "        PROB        EV  HOUSE_PROB  PARLAY_EV  PARLAY_PROB  PARLAY_HOUSE_PROB  \\\n",
      "0   0.833945  1.859871    0.607843   7.861794     0.340553           0.090970   \n",
      "1   0.806020  1.716833    0.600000   7.861794     0.340553           0.090970   \n",
      "2   0.799216  2.628878    0.523810   7.861794     0.340553           0.090970   \n",
      "3   0.633925  1.656213    0.476190   7.861794     0.340553           0.090970   \n",
      "4   0.833945  1.859871    0.607843   7.786589     0.353541           0.095518   \n",
      "..       ...       ...         ...        ...          ...                ...   \n",
      "58  0.670320  1.266035    0.534884   6.822084     0.053427           0.015418   \n",
      "59  0.662658  0.963926    0.555556   6.822084     0.053427           0.015418   \n",
      "60  0.632121  0.689085    0.555556   6.822084     0.053427           0.015418   \n",
      "61  0.625501  0.847078    0.534884   6.822084     0.053427           0.015418   \n",
      "62  0.620096  0.919101    0.523810   6.822084     0.053427           0.015418   \n",
      "\n",
      "    PARLAY_ID     TO_WIN                           PROP_TAG  \n",
      "0           0   9.992669  Nickeil Alexander-Walker_fgm_over  \n",
      "1           0   9.992669        Daniel Gafford_assists_over  \n",
      "2           0   9.992669               Naz Reid_points_over  \n",
      "3           0   9.992669         Jaden McDaniels_fg3m_under  \n",
      "4           1   9.469208  Nickeil Alexander-Walker_fgm_over  \n",
      "..        ...        ...                                ...  \n",
      "58    1310111  63.859577      Dereck Lively II_steals_under  \n",
      "59    1310111  63.859577          Luka Doncic_rebounds_over  \n",
      "60    1310111  63.859577          Kyle Anderson_steals_over  \n",
      "61    1310111  63.859577             Kyle Anderson_fgm_over  \n",
      "62    1310111  63.859577         Kyle Anderson_assists_over  \n",
      "\n",
      "[179 rows x 15 columns]\n"
     ]
    }
   ],
   "source": [
    "taken = pd.concat([taken_1, taken_2], axis=0)\n",
    "pivot_df = dt.create_pivot_table_for_tracking(taken)\n",
    "pivot_df.to_csv(f\"{today_dir}/taken_parlays_as_pivot.csv\")\n",
    "print(taken)"
   ]
  }
 ],
 "metadata": {
  "kernelspec": {
   "display_name": "nba_01-7yhASJUA",
   "language": "python",
   "name": "python3"
  },
  "language_info": {
   "codemirror_mode": {
    "name": "ipython",
    "version": 3
   },
   "file_extension": ".py",
   "mimetype": "text/x-python",
   "name": "python",
   "nbconvert_exporter": "python",
   "pygments_lexer": "ipython3",
   "version": "3.12.3"
  }
 },
 "nbformat": 4,
 "nbformat_minor": 2
}
