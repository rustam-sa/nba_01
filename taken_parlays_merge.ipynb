{
 "cells": [
  {
   "cell_type": "code",
   "execution_count": 2,
   "metadata": {},
   "outputs": [],
   "source": [
    "import pandas as pd\n",
    "import date_utils as dt_mng\n",
    "from data_manager import DataManager"
   ]
  },
  {
   "cell_type": "code",
   "execution_count": 3,
   "metadata": {},
   "outputs": [],
   "source": [
    "dt = DataManager()"
   ]
  },
  {
   "cell_type": "code",
   "execution_count": 4,
   "metadata": {},
   "outputs": [
    {
     "name": "stdout",
     "output_type": "stream",
     "text": [
      "Directory already exists: e:\\coding_projects\\nba_01\\days\n",
      "Directory already exists: e:\\coding_projects\\nba_01\\days\\2024-05-28\n"
     ]
    }
   ],
   "source": [
    "today_dir = dt_mng.get_or_create_directory_in_days()\n"
   ]
  },
  {
   "cell_type": "code",
   "execution_count": 5,
   "metadata": {},
   "outputs": [],
   "source": [
    "parlays = [\"selected_parlay_df\"]"
   ]
  },
  {
   "cell_type": "code",
   "execution_count": 6,
   "metadata": {},
   "outputs": [],
   "source": [
    "taken = [pd.read_csv(f\"{today_dir}/{df}.csv\", index_col=0) for df in parlays]"
   ]
  },
  {
   "cell_type": "code",
   "execution_count": 7,
   "metadata": {},
   "outputs": [
    {
     "name": "stdout",
     "output_type": "stream",
     "text": [
      "               PLAYER          TEAM      STAT  THRESH  ODDS   TYPE      PROB  \\\n",
      "0      Daniel Gafford     Mavericks    points    11.5   100  under  0.841467   \n",
      "1         Jaden Hardy     Mavericks    points     5.5  -130  under  0.822883   \n",
      "2      Daniel Gafford     Mavericks  rebounds     7.5  -105  under  0.802018   \n",
      "3      Daniel Gafford     Mavericks    points    11.5   100  under  0.841467   \n",
      "4      Daniel Gafford     Mavericks  rebounds     7.5  -105  under  0.802018   \n",
      "5   Derrick Jones Jr.     Mavericks    steals     0.5   115  under  0.594521   \n",
      "6      Daniel Gafford     Mavericks    points    11.5   100  under  0.841467   \n",
      "7      Daniel Gafford     Mavericks  rebounds     7.5  -105  under  0.802018   \n",
      "8         Rudy Gobert  Timberwolves       fgm     4.5   110   over  0.587119   \n",
      "9      Daniel Gafford     Mavericks    points    11.5   100  under  0.841467   \n",
      "10        Jaden Hardy     Mavericks    steals     0.5  -210  under  0.811936   \n",
      "11     Daniel Gafford     Mavericks  rebounds     7.5  -105  under  0.802018   \n",
      "12     Daniel Gafford     Mavericks    points    11.5   100  under  0.841467   \n",
      "13     Daniel Gafford     Mavericks  rebounds     7.5  -105  under  0.802018   \n",
      "14     Daniel Gafford     Mavericks    steals     0.5  -120  under  0.644036   \n",
      "15     Daniel Gafford     Mavericks    points    11.5   100  under  0.841467   \n",
      "16     Daniel Gafford     Mavericks  rebounds     7.5  -105  under  0.802018   \n",
      "17        Jaden Hardy     Mavericks  rebounds     1.5  -135  under  0.674707   \n",
      "18        Jaden Hardy     Mavericks    points     5.5  -130  under  0.822883   \n",
      "19  Derrick Jones Jr.     Mavericks    steals     0.5   115  under  0.594521   \n",
      "20        Rudy Gobert  Timberwolves       fgm     4.5   110   over  0.587119   \n",
      "21        Jaden Hardy     Mavericks    points     5.5  -130  under  0.822883   \n",
      "22        Jaden Hardy     Mavericks    steals     0.5  -210  under  0.811936   \n",
      "23  Derrick Jones Jr.     Mavericks    steals     0.5   115  under  0.594521   \n",
      "24        Jaden Hardy     Mavericks    points     5.5  -130  under  0.822883   \n",
      "25        Jaden Hardy     Mavericks  rebounds     1.5  -135  under  0.674707   \n",
      "26  Derrick Jones Jr.     Mavericks    steals     0.5   115  under  0.594521   \n",
      "27           Naz Reid  Timberwolves    points    12.5  -115   over  0.601096   \n",
      "28  Derrick Jones Jr.     Mavericks    steals     0.5   115  under  0.594521   \n",
      "29        Rudy Gobert  Timberwolves       fgm     4.5   110   over  0.587119   \n",
      "30  Derrick Jones Jr.     Mavericks    steals     0.5   115  under  0.594521   \n",
      "31        Rudy Gobert  Timberwolves       fgm     4.5   110   over  0.587119   \n",
      "32       Kyrie Irving     Mavericks      fg3m     2.5  -105   over  0.567789   \n",
      "\n",
      "          EV  HOUSE_PROB  PARLAY_EV  PARLAY_PROB  PARLAY_HOUSE_PROB  \\\n",
      "0   3.414671    0.500000   8.523247     0.555341           0.144751   \n",
      "1   2.279348    0.565217   8.523247     0.555341           0.144751   \n",
      "2   2.829227    0.512195   8.523247     0.555341           0.144751   \n",
      "3   3.414671    0.500000   7.634995     0.401225           0.119115   \n",
      "4   2.829227    0.512195   7.634995     0.401225           0.119115   \n",
      "5   1.391096    0.465116   7.634995     0.401225           0.119115   \n",
      "6   3.414671    0.500000   7.408645     0.396230           0.121951   \n",
      "7   2.829227    0.512195   7.408645     0.396230           0.121951   \n",
      "8   1.164746    0.476190   7.408645     0.396230           0.121951   \n",
      "9   3.414671    0.500000   7.236762     0.547953           0.173485   \n",
      "10  0.992864    0.677419   7.236762     0.547953           0.173485   \n",
      "11  2.829227    0.512195   7.236762     0.547953           0.173485   \n",
      "12  3.414671    0.500000   7.147566     0.434642           0.139690   \n",
      "13  2.829227    0.512195   7.147566     0.434642           0.139690   \n",
      "14  0.903667    0.545455   7.147566     0.434642           0.139690   \n",
      "15  3.414671    0.500000   7.116349     0.455341           0.147120   \n",
      "16  2.829227    0.512195   7.116349     0.455341           0.147120   \n",
      "17  0.872450    0.574468   7.116349     0.455341           0.147120   \n",
      "18  2.279348    0.565217   4.835190     0.287231           0.125187   \n",
      "19  1.391096    0.465116   4.835190     0.287231           0.125187   \n",
      "20  1.164746    0.476190   4.835190     0.287231           0.125187   \n",
      "21  2.279348    0.565217   4.663307     0.397216           0.178088   \n",
      "22  0.992864    0.677419   4.663307     0.397216           0.178088   \n",
      "23  1.391096    0.465116   4.663307     0.397216           0.178088   \n",
      "24  2.279348    0.565217   4.542894     0.330081           0.151023   \n",
      "25  0.872450    0.574468   4.542894     0.330081           0.151023   \n",
      "26  1.391096    0.465116   4.542894     0.330081           0.151023   \n",
      "27  0.618937    0.534884   3.174779     0.209815           0.118468   \n",
      "28  1.391096    0.465116   3.174779     0.209815           0.118468   \n",
      "29  1.164746    0.476190   3.174779     0.209815           0.118468   \n",
      "30  1.391096    0.465116   3.098542     0.198189           0.113443   \n",
      "31  1.164746    0.476190   3.098542     0.198189           0.113443   \n",
      "32  0.542700    0.512195   3.098542     0.198189           0.113443   \n",
      "\n",
      "    PARLAY_ID    TO_WIN                        PROP_TAG  \n",
      "0           0  5.908425     Daniel Gafford_points_under  \n",
      "1           0  5.908425        Jaden Hardy_points_under  \n",
      "2           0  5.908425   Daniel Gafford_rebounds_under  \n",
      "3           2  7.395238     Daniel Gafford_points_under  \n",
      "4           2  7.395238   Daniel Gafford_rebounds_under  \n",
      "5           2  7.395238  Derrick Jones Jr._steals_under  \n",
      "6           4  7.200000     Daniel Gafford_points_under  \n",
      "7           4  7.200000   Daniel Gafford_rebounds_under  \n",
      "8           4  7.200000            Rudy Gobert_fgm_over  \n",
      "9           5  4.764172     Daniel Gafford_points_under  \n",
      "10          5  4.764172        Jaden Hardy_steals_under  \n",
      "11          5  4.764172   Daniel Gafford_rebounds_under  \n",
      "12          6  6.158730     Daniel Gafford_points_under  \n",
      "13          6  6.158730   Daniel Gafford_rebounds_under  \n",
      "14          6  6.158730     Daniel Gafford_steals_under  \n",
      "15          7  5.797178     Daniel Gafford_points_under  \n",
      "16          7  5.797178   Daniel Gafford_rebounds_under  \n",
      "17          7  5.797178      Jaden Hardy_rebounds_under  \n",
      "18        102  6.988077        Jaden Hardy_points_under  \n",
      "19        102  6.988077  Derrick Jones Jr._steals_under  \n",
      "20        102  6.988077            Rudy Gobert_fgm_over  \n",
      "21        117  4.615201        Jaden Hardy_points_under  \n",
      "22        117  4.615201        Jaden Hardy_steals_under  \n",
      "23        117  4.615201  Derrick Jones Jr._steals_under  \n",
      "24        126  5.621510        Jaden Hardy_points_under  \n",
      "25        126  5.621510      Jaden Hardy_rebounds_under  \n",
      "26        126  5.621510  Derrick Jones Jr._steals_under  \n",
      "27        289  7.441087            Naz Reid_points_over  \n",
      "28        289  7.441087  Derrick Jones Jr._steals_under  \n",
      "29        289  7.441087            Rudy Gobert_fgm_over  \n",
      "30        294  7.815000  Derrick Jones Jr._steals_under  \n",
      "31        294  7.815000            Rudy Gobert_fgm_over  \n",
      "32        294  7.815000          Kyrie Irving_fg3m_over  \n"
     ]
    }
   ],
   "source": [
    "taken = pd.concat(taken, axis=0)\n",
    "pivot_df = dt.create_pivot_table_for_tracking(taken)\n",
    "pivot_df.to_csv(f\"{today_dir}/taken_parlays_as_pivot.csv\")\n",
    "print(taken)"
   ]
  }
 ],
 "metadata": {
  "kernelspec": {
   "display_name": "nba_01-7yhASJUA",
   "language": "python",
   "name": "python3"
  },
  "language_info": {
   "codemirror_mode": {
    "name": "ipython",
    "version": 3
   },
   "file_extension": ".py",
   "mimetype": "text/x-python",
   "name": "python",
   "nbconvert_exporter": "python",
   "pygments_lexer": "ipython3",
   "version": "3.12.3"
  }
 },
 "nbformat": 4,
 "nbformat_minor": 2
}
