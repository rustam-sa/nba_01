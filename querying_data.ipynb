{
 "cells": [
  {
   "cell_type": "code",
   "execution_count": 2,
   "metadata": {},
   "outputs": [
    {
     "name": "stdout",
     "output_type": "stream",
     "text": [
      "Index(['id', 'fg3a', 'ast', 'player_id', 'fg3_pct', 'stl', 'start_position',\n",
      "       'ftm', 'blk', 'minutes', 'fta', 'to', 'fgm', 'ft_pct', 'pf', 'fga',\n",
      "       'oreb', 'pts', 'fg_pct', 'dreb', 'plus_minus', 'game_id', 'fg3m',\n",
      "       'reb'],\n",
      "      dtype='object')\n"
     ]
    }
   ],
   "source": [
    "import pandas as pd \n",
    "from sqlalchemy import and_\n",
    "from models import Player, TradPlayerStats, AdvPlayerStats, Game\n",
    "from data_manager import DataManager\n",
    "dm = DataManager()\n",
    "session = dm.get_session()\n",
    "player_name = \"Nikola Jokic\"\n",
    "player = session.query(Player).filter(Player.name==player_name).all()[0]\n",
    "player_id = player.id\n",
    "\n",
    "stats = session.query(TradPlayerStats).join(TradPlayerStats.game).filter(TradPlayerStats.player_id == player_id).all()\n",
    "stats = dm.convert_to_df(stats)\n",
    "print(stats.columns)\n"
   ]
  },
  {
   "cell_type": "code",
   "execution_count": 3,
   "metadata": {},
   "outputs": [
    {
     "name": "stdout",
     "output_type": "stream",
     "text": [
      "     player_name player_position  minutes  points    efg        date\n",
      "0   Nikola Jokic               C     41.0      25  0.595  2024-04-29\n",
      "1   Nikola Jokic               C     41.0      33  0.550  2024-04-27\n",
      "2   Nikola Jokic               C     38.0      24  0.692  2024-04-25\n",
      "3   Nikola Jokic               C     41.0      27  0.625  2024-04-22\n",
      "4   Nikola Jokic               C     39.0      32  0.674  2024-04-20\n",
      "..           ...             ...      ...     ...    ...         ...\n",
      "83  Nikola Jokic               C     42.0      38  0.500  2023-11-24\n",
      "84  Nikola Jokic               C     38.0      36  0.538  2023-11-12\n",
      "85  Nikola Jokic               C     40.0      36  0.646  2024-04-04\n",
      "86  Nikola Jokic               C     37.0      22  0.313  2023-12-06\n",
      "87  Nikola Jokic               C     35.0      32  0.391  2023-11-14\n",
      "\n",
      "[88 rows x 6 columns]\n"
     ]
    }
   ],
   "source": [
    "\n",
    "# Query to join four tables with correct join conditions and multiple filters\n",
    "data = session.query(\n",
    "    Player,\n",
    "    TradPlayerStats,\n",
    "    AdvPlayerStats,\n",
    "    Game\n",
    ").join(Game, TradPlayerStats.game_id == Game.id)\\\n",
    " .join(Player, TradPlayerStats.player_id == Player.id)\\\n",
    " .join(AdvPlayerStats, and_(TradPlayerStats.game_id == AdvPlayerStats.game_id, \n",
    "                            TradPlayerStats.player_id == AdvPlayerStats.player_id))\\\n",
    " .filter(\n",
    "     (TradPlayerStats.player_id == player_id)# &\n",
    "    #  (Game.season_type == \"Playoffs\")\n",
    " ).all()\n",
    "\n",
    "# Convert the query result to a DataFrame\n",
    "data_list = []\n",
    "for player, trad_stats, adv_stats, game in data:\n",
    "    row = {\n",
    "        'player_name': player.name,\n",
    "        'player_position': player.position,\n",
    "        'minutes': trad_stats.minutes,\n",
    "        'points': trad_stats.pts,\n",
    "        'efg': adv_stats.efg_pct,\n",
    "        'date': game.date,\n",
    "    }\n",
    "    data_list.append(row)\n",
    "\n",
    "data_df = pd.DataFrame(data_list)\n",
    "\n",
    "print(data_df)\n"
   ]
  },
  {
   "cell_type": "code",
   "execution_count": 4,
   "metadata": {},
   "outputs": [],
   "source": [
    "data_df = pd.DataFrame(data_list)\n",
    "data_df.to_csv('data.csv')"
   ]
  }
 ],
 "metadata": {
  "kernelspec": {
   "display_name": "nba_01-7yhASJUA",
   "language": "python",
   "name": "python3"
  },
  "language_info": {
   "codemirror_mode": {
    "name": "ipython",
    "version": 3
   },
   "file_extension": ".py",
   "mimetype": "text/x-python",
   "name": "python",
   "nbconvert_exporter": "python",
   "pygments_lexer": "ipython3",
   "version": "3.12.3"
  }
 },
 "nbformat": 4,
 "nbformat_minor": 2
}
