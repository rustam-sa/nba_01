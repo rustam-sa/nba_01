{
 "cells": [
  {
   "cell_type": "code",
   "execution_count": 18,
   "metadata": {},
   "outputs": [],
   "source": [
    "from common_nba_api_functions import rate_limited_request\n",
    "from common_db_functions import get_players_from_db\n",
    "players = get_players_from_db()\n",
    "player_ids = [player.player_id for player in players]\n",
    "season = \"2023-24\""
   ]
  },
  {
   "cell_type": "code",
   "execution_count": 19,
   "metadata": {},
   "outputs": [
    {
     "name": "stdout",
     "output_type": "stream",
     "text": [
      "Index(['SEASON_ID', 'Player_ID', 'Game_ID', 'GAME_DATE', 'MATCHUP', 'WL',\n",
      "       'MIN', 'FGM', 'FGA', 'FG_PCT', 'FG3M', 'FG3A', 'FG3_PCT', 'FTM', 'FTA',\n",
      "       'FT_PCT', 'OREB', 'DREB', 'REB', 'AST', 'STL', 'BLK', 'TOV', 'PF',\n",
      "       'PTS', 'PLUS_MINUS', 'VIDEO_AVAILABLE'],\n",
      "      dtype='object')\n"
     ]
    }
   ],
   "source": [
    "from nba_api.stats.endpoints import playergamelog\n",
    "\n",
    "games_by_player = []\n",
    "for player_id in player_ids[:1]:\n",
    "    gamelog = playergamelog.PlayerGameLog(player_id=player_id, season='2022-23')\n",
    "    games_df = gamelog.get_data_frames()[0]\n",
    "    games_by_player.append(games_df)\n",
    "print(games_df.columns)"
   ]
  },
  {
   "cell_type": "code",
   "execution_count": 21,
   "metadata": {},
   "outputs": [],
   "source": [
    "import pandas as pd\n",
    "from nba_api.stats.endpoints import playergamelog\n",
    "from db_config import get_session\n",
    "from models import GameStats, Player\n",
    "from common_nba_api_functions import rate_limited_request\n",
    "session = get_session()\n",
    "\n",
    "\n",
    "def fetch_and_store_player_game_stats(player_id):\n",
    "\n",
    "    # Fetch player game logs\n",
    "    gamelog = playergamelog.PlayerGameLog(player_id=player_id, season=season)\n",
    "    games_df = gamelog.get_data_frames()[0]\n",
    "    for index, game in games_df.iterrows():\n",
    "        # Ensure player exists in the DB, necessary to link stats\n",
    "        db_player = session.query(Player).filter(Player.player_id == player_id).first()\n",
    "        if not db_player:\n",
    "            continue  # Or handle adding a new player if this case is possible\n",
    "        \n",
    "        # Check if the game stats already exist to avoid duplicates\n",
    "        existing_game_stat = session.query(GameStats).filter(GameStats.game_id == game['Game_ID'], GameStats.player_id == db_player.id).first()\n",
    "        \n",
    "        if existing_game_stat:\n",
    "            # Update existing record with new data\n",
    "            existing_game_stat.points = game['PTS']\n",
    "            existing_game_stat.assists = game['AST']\n",
    "            existing_game_stat.rebounds = game['REB']\n",
    "            existing_game_stat.steals = game['STL']\n",
    "            existing_game_stat.blocks = game['BLK']\n",
    "            existing_game_stat.turnovers = game['TOV']\n",
    "            existing_game_stat.fouls = game['PF']\n",
    "            existing_game_stat.minutes = game['MIN']\n",
    "            existing_game_stat.fg_made = game['FGM']\n",
    "            existing_game_stat.fg_attempts = game['FGA']\n",
    "            existing_game_stat.fg_percentage = game['FG_PCT']\n",
    "            existing_game_stat.fg3_made = game['FG3M']\n",
    "            existing_game_stat.fg3_attempts = game['FG3A']\n",
    "            existing_game_stat.fg3_percentage = game['FG3_PCT']\n",
    "            existing_game_stat.ft_made = game['FTM']\n",
    "            existing_game_stat.ft_attempts = game['FTA']\n",
    "            existing_game_stat.ft_percentage = game['FT_PCT']\n",
    "            existing_game_stat.plus_minus = game['PLUS_MINUS']\n",
    "        else:\n",
    "            # Create and add new game stats record if it doesn't exist\n",
    "            new_game_stat = GameStats(\n",
    "                player_id=db_player.id,\n",
    "                game_id=game['Game_ID'],\n",
    "                points=game['PTS'],\n",
    "                assists=game['AST'],\n",
    "                rebounds=game['REB'],\n",
    "                steals=game['STL'],\n",
    "                blocks=game['BLK'],\n",
    "                turnovers=game['TOV'],\n",
    "                fouls=game['PF'],\n",
    "                minutes=game['MIN'],\n",
    "                fg_made=game['FGM'],\n",
    "                fg_attempts=game['FGA'],\n",
    "                fg_percentage=game['FG_PCT'],\n",
    "                fg3_made=game['FG3M'],\n",
    "                fg3_attempts=game['FG3A'],\n",
    "                fg3_percentage=game['FG3_PCT'],\n",
    "                ft_made=game['FTM'],\n",
    "                ft_attempts=game['FTA'],\n",
    "                ft_percentage=game['FT_PCT'],\n",
    "                plus_minus=game['PLUS_MINUS']\n",
    "            )\n",
    "            session.add(new_game_stat)\n",
    "    \n",
    "    # Commit changes to the database\n",
    "    session.commit()\n",
    "\n",
    "for player_id in player_ids:\n",
    "    rate_limited_request(2)\n",
    "    fetch_and_store_player_game_stats(player_id)\n",
    "\n",
    "    # Close session\n",
    "    session.close()"
   ]
  }
 ],
 "metadata": {
  "kernelspec": {
   "display_name": "nba_01-7yhASJUA",
   "language": "python",
   "name": "python3"
  },
  "language_info": {
   "codemirror_mode": {
    "name": "ipython",
    "version": 3
   },
   "file_extension": ".py",
   "mimetype": "text/x-python",
   "name": "python",
   "nbconvert_exporter": "python",
   "pygments_lexer": "ipython3",
   "version": "3.12.3"
  }
 },
 "nbformat": 4,
 "nbformat_minor": 2
}
