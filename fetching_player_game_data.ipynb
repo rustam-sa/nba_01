{
 "cells": [
  {
   "cell_type": "code",
   "execution_count": 3,
   "metadata": {},
   "outputs": [],
   "source": [
    "from common_nba_api_functions import rate_limited_request\n",
    "from common_db_functions import get_players_from_db\n",
    "players = get_players_from_db()\n",
    "player_ids = [player.player_id for player in players]\n"
   ]
  },
  {
   "cell_type": "code",
   "execution_count": 4,
   "metadata": {},
   "outputs": [
    {
     "name": "stdout",
     "output_type": "stream",
     "text": [
      "KeyError for player 1630552: 'resultSet'\n"
     ]
    },
    {
     "ename": "NameError",
     "evalue": "name 'gamelog' is not defined",
     "output_type": "error",
     "traceback": [
      "\u001b[1;31m---------------------------------------------------------------------------\u001b[0m",
      "\u001b[1;31mKeyError\u001b[0m                                  Traceback (most recent call last)",
      "Cell \u001b[1;32mIn[4], line 6\u001b[0m\n\u001b[0;32m      5\u001b[0m \u001b[38;5;28;01mtry\u001b[39;00m:\n\u001b[1;32m----> 6\u001b[0m     gamelog \u001b[38;5;241m=\u001b[39m \u001b[43mplayergamelog\u001b[49m\u001b[38;5;241;43m.\u001b[39;49m\u001b[43mPlayerGameLog\u001b[49m\u001b[43m(\u001b[49m\u001b[43mplayer_id\u001b[49m\u001b[38;5;241;43m=\u001b[39;49m\u001b[43mplayer_id\u001b[49m\u001b[43m,\u001b[49m\u001b[43m \u001b[49m\u001b[43mseason\u001b[49m\u001b[38;5;241;43m=\u001b[39;49m\u001b[43mseason\u001b[49m\u001b[43m)\u001b[49m\n\u001b[0;32m      7\u001b[0m     df \u001b[38;5;241m=\u001b[39m gamelog\u001b[38;5;241m.\u001b[39mget_data_frames()[\u001b[38;5;241m0\u001b[39m]\n",
      "File \u001b[1;32mc:\\Users\\rusta\\.virtualenvs\\nba_01-7yhASJUA\\Lib\\site-packages\\nba_api\\stats\\endpoints\\playergamelog.py:72\u001b[0m, in \u001b[0;36mPlayerGameLog.__init__\u001b[1;34m(self, player_id, season, season_type_all_star, date_from_nullable, date_to_nullable, league_id_nullable, proxy, headers, timeout, get_request)\u001b[0m\n\u001b[0;32m     71\u001b[0m \u001b[38;5;28;01mif\u001b[39;00m get_request:\n\u001b[1;32m---> 72\u001b[0m     \u001b[38;5;28;43mself\u001b[39;49m\u001b[38;5;241;43m.\u001b[39;49m\u001b[43mget_request\u001b[49m\u001b[43m(\u001b[49m\u001b[43m)\u001b[49m\n",
      "File \u001b[1;32mc:\\Users\\rusta\\.virtualenvs\\nba_01-7yhASJUA\\Lib\\site-packages\\nba_api\\stats\\endpoints\\playergamelog.py:82\u001b[0m, in \u001b[0;36mPlayerGameLog.get_request\u001b[1;34m(self)\u001b[0m\n\u001b[0;32m     75\u001b[0m \u001b[38;5;28mself\u001b[39m\u001b[38;5;241m.\u001b[39mnba_response \u001b[38;5;241m=\u001b[39m NBAStatsHTTP()\u001b[38;5;241m.\u001b[39msend_api_request(\n\u001b[0;32m     76\u001b[0m     endpoint\u001b[38;5;241m=\u001b[39m\u001b[38;5;28mself\u001b[39m\u001b[38;5;241m.\u001b[39mendpoint,\n\u001b[0;32m     77\u001b[0m     parameters\u001b[38;5;241m=\u001b[39m\u001b[38;5;28mself\u001b[39m\u001b[38;5;241m.\u001b[39mparameters,\n\u001b[1;32m   (...)\u001b[0m\n\u001b[0;32m     80\u001b[0m     timeout\u001b[38;5;241m=\u001b[39m\u001b[38;5;28mself\u001b[39m\u001b[38;5;241m.\u001b[39mtimeout,\n\u001b[0;32m     81\u001b[0m )\n\u001b[1;32m---> 82\u001b[0m \u001b[38;5;28;43mself\u001b[39;49m\u001b[38;5;241;43m.\u001b[39;49m\u001b[43mload_response\u001b[49m\u001b[43m(\u001b[49m\u001b[43m)\u001b[49m\n",
      "File \u001b[1;32mc:\\Users\\rusta\\.virtualenvs\\nba_01-7yhASJUA\\Lib\\site-packages\\nba_api\\stats\\endpoints\\playergamelog.py:85\u001b[0m, in \u001b[0;36mPlayerGameLog.load_response\u001b[1;34m(self)\u001b[0m\n\u001b[0;32m     84\u001b[0m \u001b[38;5;28;01mdef\u001b[39;00m \u001b[38;5;21mload_response\u001b[39m(\u001b[38;5;28mself\u001b[39m):\n\u001b[1;32m---> 85\u001b[0m     data_sets \u001b[38;5;241m=\u001b[39m \u001b[38;5;28;43mself\u001b[39;49m\u001b[38;5;241;43m.\u001b[39;49m\u001b[43mnba_response\u001b[49m\u001b[38;5;241;43m.\u001b[39;49m\u001b[43mget_data_sets\u001b[49m\u001b[43m(\u001b[49m\u001b[43m)\u001b[49m\n\u001b[0;32m     86\u001b[0m     \u001b[38;5;28mself\u001b[39m\u001b[38;5;241m.\u001b[39mdata_sets \u001b[38;5;241m=\u001b[39m [\n\u001b[0;32m     87\u001b[0m         Endpoint\u001b[38;5;241m.\u001b[39mDataSet(data\u001b[38;5;241m=\u001b[39mdata_set)\n\u001b[0;32m     88\u001b[0m         \u001b[38;5;28;01mfor\u001b[39;00m data_set_name, data_set \u001b[38;5;129;01min\u001b[39;00m data_sets\u001b[38;5;241m.\u001b[39mitems()\n\u001b[0;32m     89\u001b[0m     ]\n",
      "File \u001b[1;32mc:\\Users\\rusta\\.virtualenvs\\nba_01-7yhASJUA\\Lib\\site-packages\\nba_api\\stats\\library\\http.py:129\u001b[0m, in \u001b[0;36mNBAStatsResponse.get_data_sets\u001b[1;34m(self, endpoint)\u001b[0m\n\u001b[0;32m    128\u001b[0m \u001b[38;5;28;01melse\u001b[39;00m:\n\u001b[1;32m--> 129\u001b[0m     results \u001b[38;5;241m=\u001b[39m \u001b[43mraw_dict\u001b[49m\u001b[43m[\u001b[49m\u001b[38;5;124;43m\"\u001b[39;49m\u001b[38;5;124;43mresultSet\u001b[39;49m\u001b[38;5;124;43m\"\u001b[39;49m\u001b[43m]\u001b[49m\n\u001b[0;32m    130\u001b[0m \u001b[38;5;28;01mif\u001b[39;00m \u001b[38;5;28misinstance\u001b[39m(results, \u001b[38;5;28mdict\u001b[39m):\n",
      "\u001b[1;31mKeyError\u001b[0m: 'resultSet'",
      "\nDuring handling of the above exception, another exception occurred:\n",
      "\u001b[1;31mNameError\u001b[0m                                 Traceback (most recent call last)",
      "Cell \u001b[1;32mIn[4], line 14\u001b[0m\n\u001b[0;32m     12\u001b[0m \u001b[38;5;28;01mexcept\u001b[39;00m \u001b[38;5;167;01mKeyError\u001b[39;00m \u001b[38;5;28;01mas\u001b[39;00m ke:\n\u001b[0;32m     13\u001b[0m     \u001b[38;5;28mprint\u001b[39m(\u001b[38;5;124mf\u001b[39m\u001b[38;5;124m\"\u001b[39m\u001b[38;5;124mKeyError for player \u001b[39m\u001b[38;5;132;01m{\u001b[39;00mplayer_id\u001b[38;5;132;01m}\u001b[39;00m\u001b[38;5;124m: \u001b[39m\u001b[38;5;132;01m{\u001b[39;00mke\u001b[38;5;132;01m}\u001b[39;00m\u001b[38;5;124m\"\u001b[39m)\n\u001b[1;32m---> 14\u001b[0m     response \u001b[38;5;241m=\u001b[39m \u001b[43mgamelog\u001b[49m\u001b[38;5;241m.\u001b[39mget_json()\n\u001b[0;32m     15\u001b[0m     \u001b[38;5;28mprint\u001b[39m(\u001b[38;5;124m\"\u001b[39m\u001b[38;5;124mAPI Response:\u001b[39m\u001b[38;5;124m\"\u001b[39m, response) \n\u001b[0;32m     16\u001b[0m \u001b[38;5;28;01mexcept\u001b[39;00m \u001b[38;5;167;01mException\u001b[39;00m \u001b[38;5;28;01mas\u001b[39;00m e:\n",
      "\u001b[1;31mNameError\u001b[0m: name 'gamelog' is not defined"
     ]
    }
   ],
   "source": [
    "season = \"2023-2024\"\n",
    "games_by_players = []\n",
    "for player_id in player_ids:\n",
    "    rate_limited_request(2)  # Sensible delay\n",
    "    try:\n",
    "        gamelog = playergamelog.PlayerGameLog(player_id=player_id, season=season)\n",
    "        df = gamelog.get_data_frames()[0]\n",
    "        if df.empty:\n",
    "            print(f\"No games found for player {player_id} in season {season}.\")\n",
    "            continue\n",
    "        print(df.head())\n",
    "    except KeyError as ke:\n",
    "        print(f\"KeyError for player {player_id}: {ke}\")\n",
    "        response = gamelog.get_json()\n",
    "        print(\"API Response:\", response) \n",
    "    except Exception as e:\n",
    "        print(f\"Failed for player {player_id}: {str(e)}\")"
   ]
  },
  {
   "cell_type": "code",
   "execution_count": 5,
   "metadata": {},
   "outputs": [
    {
     "name": "stdout",
     "output_type": "stream",
     "text": [
      "2023-24 season's first game: 2023-10-05\n",
      "The 2023-24 season's last game: 2024-05-10\n"
     ]
    },
    {
     "ename": "JSONDecodeError",
     "evalue": "Expecting value: line 1 column 1 (char 0)",
     "output_type": "error",
     "traceback": [
      "\u001b[1;31m---------------------------------------------------------------------------\u001b[0m",
      "\u001b[1;31mJSONDecodeError\u001b[0m                           Traceback (most recent call last)",
      "Cell \u001b[1;32mIn[5], line 17\u001b[0m\n\u001b[0;32m     15\u001b[0m player_ids \u001b[38;5;241m=\u001b[39m [\u001b[38;5;124m\"\u001b[39m\u001b[38;5;124m201939\u001b[39m\u001b[38;5;124m\"\u001b[39m, \u001b[38;5;124m\"\u001b[39m\u001b[38;5;124m202691\u001b[39m\u001b[38;5;124m\"\u001b[39m, \u001b[38;5;124m\"\u001b[39m\u001b[38;5;124m203507\u001b[39m\u001b[38;5;124m\"\u001b[39m]  \u001b[38;5;66;03m# Example player IDs\u001b[39;00m\n\u001b[0;32m     16\u001b[0m player_id \u001b[38;5;241m=\u001b[39m player_ids[\u001b[38;5;241m0\u001b[39m]\n\u001b[1;32m---> 17\u001b[0m gamelog \u001b[38;5;241m=\u001b[39m \u001b[43mplayergamelog\u001b[49m\u001b[38;5;241;43m.\u001b[39;49m\u001b[43mPlayerGameLog\u001b[49m\u001b[43m(\u001b[49m\u001b[43mplayer_id\u001b[49m\u001b[38;5;241;43m=\u001b[39;49m\u001b[43mplayer_id\u001b[49m\u001b[43m,\u001b[49m\u001b[43m \u001b[49m\u001b[43mdate_from_nullable\u001b[49m\u001b[38;5;241;43m=\u001b[39;49m\u001b[43mdate_from\u001b[49m\u001b[43m,\u001b[49m\u001b[43m \u001b[49m\u001b[43mdate_to_nullable\u001b[49m\u001b[38;5;241;43m=\u001b[39;49m\u001b[43mdate_to\u001b[49m\u001b[43m)\u001b[49m\n\u001b[0;32m     19\u001b[0m \u001b[38;5;66;03m# Convert the result to a DataFrame\u001b[39;00m\n\u001b[0;32m     20\u001b[0m df \u001b[38;5;241m=\u001b[39m gamelog\u001b[38;5;241m.\u001b[39mget_data_frames()[\u001b[38;5;241m0\u001b[39m]\n",
      "File \u001b[1;32mc:\\Users\\rusta\\.virtualenvs\\nba_01-7yhASJUA\\Lib\\site-packages\\nba_api\\stats\\endpoints\\playergamelog.py:72\u001b[0m, in \u001b[0;36mPlayerGameLog.__init__\u001b[1;34m(self, player_id, season, season_type_all_star, date_from_nullable, date_to_nullable, league_id_nullable, proxy, headers, timeout, get_request)\u001b[0m\n\u001b[0;32m     63\u001b[0m \u001b[38;5;28mself\u001b[39m\u001b[38;5;241m.\u001b[39mparameters \u001b[38;5;241m=\u001b[39m {\n\u001b[0;32m     64\u001b[0m     \u001b[38;5;124m\"\u001b[39m\u001b[38;5;124mPlayerID\u001b[39m\u001b[38;5;124m\"\u001b[39m: player_id,\n\u001b[0;32m     65\u001b[0m     \u001b[38;5;124m\"\u001b[39m\u001b[38;5;124mSeason\u001b[39m\u001b[38;5;124m\"\u001b[39m: season,\n\u001b[1;32m   (...)\u001b[0m\n\u001b[0;32m     69\u001b[0m     \u001b[38;5;124m\"\u001b[39m\u001b[38;5;124mLeagueID\u001b[39m\u001b[38;5;124m\"\u001b[39m: league_id_nullable,\n\u001b[0;32m     70\u001b[0m }\n\u001b[0;32m     71\u001b[0m \u001b[38;5;28;01mif\u001b[39;00m get_request:\n\u001b[1;32m---> 72\u001b[0m     \u001b[38;5;28;43mself\u001b[39;49m\u001b[38;5;241;43m.\u001b[39;49m\u001b[43mget_request\u001b[49m\u001b[43m(\u001b[49m\u001b[43m)\u001b[49m\n",
      "File \u001b[1;32mc:\\Users\\rusta\\.virtualenvs\\nba_01-7yhASJUA\\Lib\\site-packages\\nba_api\\stats\\endpoints\\playergamelog.py:82\u001b[0m, in \u001b[0;36mPlayerGameLog.get_request\u001b[1;34m(self)\u001b[0m\n\u001b[0;32m     74\u001b[0m \u001b[38;5;28;01mdef\u001b[39;00m \u001b[38;5;21mget_request\u001b[39m(\u001b[38;5;28mself\u001b[39m):\n\u001b[0;32m     75\u001b[0m     \u001b[38;5;28mself\u001b[39m\u001b[38;5;241m.\u001b[39mnba_response \u001b[38;5;241m=\u001b[39m NBAStatsHTTP()\u001b[38;5;241m.\u001b[39msend_api_request(\n\u001b[0;32m     76\u001b[0m         endpoint\u001b[38;5;241m=\u001b[39m\u001b[38;5;28mself\u001b[39m\u001b[38;5;241m.\u001b[39mendpoint,\n\u001b[0;32m     77\u001b[0m         parameters\u001b[38;5;241m=\u001b[39m\u001b[38;5;28mself\u001b[39m\u001b[38;5;241m.\u001b[39mparameters,\n\u001b[1;32m   (...)\u001b[0m\n\u001b[0;32m     80\u001b[0m         timeout\u001b[38;5;241m=\u001b[39m\u001b[38;5;28mself\u001b[39m\u001b[38;5;241m.\u001b[39mtimeout,\n\u001b[0;32m     81\u001b[0m     )\n\u001b[1;32m---> 82\u001b[0m     \u001b[38;5;28;43mself\u001b[39;49m\u001b[38;5;241;43m.\u001b[39;49m\u001b[43mload_response\u001b[49m\u001b[43m(\u001b[49m\u001b[43m)\u001b[49m\n",
      "File \u001b[1;32mc:\\Users\\rusta\\.virtualenvs\\nba_01-7yhASJUA\\Lib\\site-packages\\nba_api\\stats\\endpoints\\playergamelog.py:85\u001b[0m, in \u001b[0;36mPlayerGameLog.load_response\u001b[1;34m(self)\u001b[0m\n\u001b[0;32m     84\u001b[0m \u001b[38;5;28;01mdef\u001b[39;00m \u001b[38;5;21mload_response\u001b[39m(\u001b[38;5;28mself\u001b[39m):\n\u001b[1;32m---> 85\u001b[0m     data_sets \u001b[38;5;241m=\u001b[39m \u001b[38;5;28;43mself\u001b[39;49m\u001b[38;5;241;43m.\u001b[39;49m\u001b[43mnba_response\u001b[49m\u001b[38;5;241;43m.\u001b[39;49m\u001b[43mget_data_sets\u001b[49m\u001b[43m(\u001b[49m\u001b[43m)\u001b[49m\n\u001b[0;32m     86\u001b[0m     \u001b[38;5;28mself\u001b[39m\u001b[38;5;241m.\u001b[39mdata_sets \u001b[38;5;241m=\u001b[39m [\n\u001b[0;32m     87\u001b[0m         Endpoint\u001b[38;5;241m.\u001b[39mDataSet(data\u001b[38;5;241m=\u001b[39mdata_set)\n\u001b[0;32m     88\u001b[0m         \u001b[38;5;28;01mfor\u001b[39;00m data_set_name, data_set \u001b[38;5;129;01min\u001b[39;00m data_sets\u001b[38;5;241m.\u001b[39mitems()\n\u001b[0;32m     89\u001b[0m     ]\n\u001b[0;32m     90\u001b[0m     \u001b[38;5;28mself\u001b[39m\u001b[38;5;241m.\u001b[39mplayer_game_log \u001b[38;5;241m=\u001b[39m Endpoint\u001b[38;5;241m.\u001b[39mDataSet(data\u001b[38;5;241m=\u001b[39mdata_sets[\u001b[38;5;124m\"\u001b[39m\u001b[38;5;124mPlayerGameLog\u001b[39m\u001b[38;5;124m\"\u001b[39m])\n",
      "File \u001b[1;32mc:\\Users\\rusta\\.virtualenvs\\nba_01-7yhASJUA\\Lib\\site-packages\\nba_api\\stats\\library\\http.py:122\u001b[0m, in \u001b[0;36mNBAStatsResponse.get_data_sets\u001b[1;34m(self, endpoint)\u001b[0m\n\u001b[0;32m    121\u001b[0m \u001b[38;5;28;01mdef\u001b[39;00m \u001b[38;5;21mget_data_sets\u001b[39m(\u001b[38;5;28mself\u001b[39m, endpoint\u001b[38;5;241m=\u001b[39m\u001b[38;5;28;01mNone\u001b[39;00m):\n\u001b[1;32m--> 122\u001b[0m     raw_dict \u001b[38;5;241m=\u001b[39m \u001b[38;5;28;43mself\u001b[39;49m\u001b[38;5;241;43m.\u001b[39;49m\u001b[43mget_dict\u001b[49m\u001b[43m(\u001b[49m\u001b[43m)\u001b[49m\n\u001b[0;32m    124\u001b[0m     \u001b[38;5;28;01mif\u001b[39;00m endpoint \u001b[38;5;129;01mis\u001b[39;00m \u001b[38;5;28;01mNone\u001b[39;00m:\n\u001b[0;32m    125\u001b[0m         \u001b[38;5;66;03m# Process Tabular Json\u001b[39;00m\n\u001b[0;32m    126\u001b[0m         \u001b[38;5;28;01mif\u001b[39;00m \u001b[38;5;124m\"\u001b[39m\u001b[38;5;124mresultSets\u001b[39m\u001b[38;5;124m\"\u001b[39m \u001b[38;5;129;01min\u001b[39;00m raw_dict:\n",
      "File \u001b[1;32mc:\\Users\\rusta\\.virtualenvs\\nba_01-7yhASJUA\\Lib\\site-packages\\nba_api\\library\\http.py:42\u001b[0m, in \u001b[0;36mNBAResponse.get_dict\u001b[1;34m(self)\u001b[0m\n\u001b[0;32m     41\u001b[0m \u001b[38;5;28;01mdef\u001b[39;00m \u001b[38;5;21mget_dict\u001b[39m(\u001b[38;5;28mself\u001b[39m):\n\u001b[1;32m---> 42\u001b[0m     \u001b[38;5;28;01mreturn\u001b[39;00m \u001b[43mjson\u001b[49m\u001b[38;5;241;43m.\u001b[39;49m\u001b[43mloads\u001b[49m\u001b[43m(\u001b[49m\u001b[38;5;28;43mself\u001b[39;49m\u001b[38;5;241;43m.\u001b[39;49m\u001b[43m_response\u001b[49m\u001b[43m)\u001b[49m\n",
      "File \u001b[1;32m~\\miniconda3\\envs\\nba_01_db\\Lib\\json\\__init__.py:346\u001b[0m, in \u001b[0;36mloads\u001b[1;34m(s, cls, object_hook, parse_float, parse_int, parse_constant, object_pairs_hook, **kw)\u001b[0m\n\u001b[0;32m    341\u001b[0m     s \u001b[38;5;241m=\u001b[39m s\u001b[38;5;241m.\u001b[39mdecode(detect_encoding(s), \u001b[38;5;124m'\u001b[39m\u001b[38;5;124msurrogatepass\u001b[39m\u001b[38;5;124m'\u001b[39m)\n\u001b[0;32m    343\u001b[0m \u001b[38;5;28;01mif\u001b[39;00m (\u001b[38;5;28mcls\u001b[39m \u001b[38;5;129;01mis\u001b[39;00m \u001b[38;5;28;01mNone\u001b[39;00m \u001b[38;5;129;01mand\u001b[39;00m object_hook \u001b[38;5;129;01mis\u001b[39;00m \u001b[38;5;28;01mNone\u001b[39;00m \u001b[38;5;129;01mand\u001b[39;00m\n\u001b[0;32m    344\u001b[0m         parse_int \u001b[38;5;129;01mis\u001b[39;00m \u001b[38;5;28;01mNone\u001b[39;00m \u001b[38;5;129;01mand\u001b[39;00m parse_float \u001b[38;5;129;01mis\u001b[39;00m \u001b[38;5;28;01mNone\u001b[39;00m \u001b[38;5;129;01mand\u001b[39;00m\n\u001b[0;32m    345\u001b[0m         parse_constant \u001b[38;5;129;01mis\u001b[39;00m \u001b[38;5;28;01mNone\u001b[39;00m \u001b[38;5;129;01mand\u001b[39;00m object_pairs_hook \u001b[38;5;129;01mis\u001b[39;00m \u001b[38;5;28;01mNone\u001b[39;00m \u001b[38;5;129;01mand\u001b[39;00m \u001b[38;5;129;01mnot\u001b[39;00m kw):\n\u001b[1;32m--> 346\u001b[0m     \u001b[38;5;28;01mreturn\u001b[39;00m \u001b[43m_default_decoder\u001b[49m\u001b[38;5;241;43m.\u001b[39;49m\u001b[43mdecode\u001b[49m\u001b[43m(\u001b[49m\u001b[43ms\u001b[49m\u001b[43m)\u001b[49m\n\u001b[0;32m    347\u001b[0m \u001b[38;5;28;01mif\u001b[39;00m \u001b[38;5;28mcls\u001b[39m \u001b[38;5;129;01mis\u001b[39;00m \u001b[38;5;28;01mNone\u001b[39;00m:\n\u001b[0;32m    348\u001b[0m     \u001b[38;5;28mcls\u001b[39m \u001b[38;5;241m=\u001b[39m JSONDecoder\n",
      "File \u001b[1;32m~\\miniconda3\\envs\\nba_01_db\\Lib\\json\\decoder.py:337\u001b[0m, in \u001b[0;36mJSONDecoder.decode\u001b[1;34m(self, s, _w)\u001b[0m\n\u001b[0;32m    332\u001b[0m \u001b[38;5;28;01mdef\u001b[39;00m \u001b[38;5;21mdecode\u001b[39m(\u001b[38;5;28mself\u001b[39m, s, _w\u001b[38;5;241m=\u001b[39mWHITESPACE\u001b[38;5;241m.\u001b[39mmatch):\n\u001b[0;32m    333\u001b[0m \u001b[38;5;250m    \u001b[39m\u001b[38;5;124;03m\"\"\"Return the Python representation of ``s`` (a ``str`` instance\u001b[39;00m\n\u001b[0;32m    334\u001b[0m \u001b[38;5;124;03m    containing a JSON document).\u001b[39;00m\n\u001b[0;32m    335\u001b[0m \n\u001b[0;32m    336\u001b[0m \u001b[38;5;124;03m    \"\"\"\u001b[39;00m\n\u001b[1;32m--> 337\u001b[0m     obj, end \u001b[38;5;241m=\u001b[39m \u001b[38;5;28;43mself\u001b[39;49m\u001b[38;5;241;43m.\u001b[39;49m\u001b[43mraw_decode\u001b[49m\u001b[43m(\u001b[49m\u001b[43ms\u001b[49m\u001b[43m,\u001b[49m\u001b[43m \u001b[49m\u001b[43midx\u001b[49m\u001b[38;5;241;43m=\u001b[39;49m\u001b[43m_w\u001b[49m\u001b[43m(\u001b[49m\u001b[43ms\u001b[49m\u001b[43m,\u001b[49m\u001b[43m \u001b[49m\u001b[38;5;241;43m0\u001b[39;49m\u001b[43m)\u001b[49m\u001b[38;5;241;43m.\u001b[39;49m\u001b[43mend\u001b[49m\u001b[43m(\u001b[49m\u001b[43m)\u001b[49m\u001b[43m)\u001b[49m\n\u001b[0;32m    338\u001b[0m     end \u001b[38;5;241m=\u001b[39m _w(s, end)\u001b[38;5;241m.\u001b[39mend()\n\u001b[0;32m    339\u001b[0m     \u001b[38;5;28;01mif\u001b[39;00m end \u001b[38;5;241m!=\u001b[39m \u001b[38;5;28mlen\u001b[39m(s):\n",
      "File \u001b[1;32m~\\miniconda3\\envs\\nba_01_db\\Lib\\json\\decoder.py:355\u001b[0m, in \u001b[0;36mJSONDecoder.raw_decode\u001b[1;34m(self, s, idx)\u001b[0m\n\u001b[0;32m    353\u001b[0m     obj, end \u001b[38;5;241m=\u001b[39m \u001b[38;5;28mself\u001b[39m\u001b[38;5;241m.\u001b[39mscan_once(s, idx)\n\u001b[0;32m    354\u001b[0m \u001b[38;5;28;01mexcept\u001b[39;00m \u001b[38;5;167;01mStopIteration\u001b[39;00m \u001b[38;5;28;01mas\u001b[39;00m err:\n\u001b[1;32m--> 355\u001b[0m     \u001b[38;5;28;01mraise\u001b[39;00m JSONDecodeError(\u001b[38;5;124m\"\u001b[39m\u001b[38;5;124mExpecting value\u001b[39m\u001b[38;5;124m\"\u001b[39m, s, err\u001b[38;5;241m.\u001b[39mvalue) \u001b[38;5;28;01mfrom\u001b[39;00m \u001b[38;5;28;01mNone\u001b[39;00m\n\u001b[0;32m    356\u001b[0m \u001b[38;5;28;01mreturn\u001b[39;00m obj, end\n",
      "\u001b[1;31mJSONDecodeError\u001b[0m: Expecting value: line 1 column 1 (char 0)"
     ]
    }
   ],
   "source": [
    "import pandas as pd\n",
    "from nba_api.stats.endpoints import playergamelog\n",
    "\n",
    "from common_nba_api_functions import get_gamelog_from_years, get_season_start_and_end\n",
    "\n",
    "\n",
    "def rate_limited_request(interval):\n",
    "    import time\n",
    "    time.sleep(interval)\n",
    "\n",
    "season = \"2023-2024\"\n",
    "season_start_and_end = get_season_start_and_end(season)\n",
    "date_from = '2023-01-01'  # Start date of the date range\n",
    "date_to = '2023-01-31'\n",
    "player_ids = [\"201939\", \"202691\", \"203507\"]  # Example player IDs\n",
    "player_id = player_ids[0]\n",
    "gamelog = playergamelog.PlayerGameLog(player_id=player_id, date_from_nullable=date_from, date_to_nullable=date_to)\n",
    "\n",
    "# Convert the result to a DataFrame\n",
    "df = gamelog.get_data_frames()[0]\n",
    "\n",
    "if not df.empty:\n",
    "    print(df)\n",
    "else:\n",
    "    print(\"No games found for the specified date range.\")"
   ]
  },
  {
   "cell_type": "code",
   "execution_count": 9,
   "metadata": {},
   "outputs": [
    {
     "name": "stdout",
     "output_type": "stream",
     "text": [
      "JSON decoding failed: Expecting value: line 1 column 1 (char 0)\n"
     ]
    },
    {
     "ename": "NameError",
     "evalue": "name 'nba_stats_http' is not defined",
     "output_type": "error",
     "traceback": [
      "\u001b[1;31m---------------------------------------------------------------------------\u001b[0m",
      "\u001b[1;31mJSONDecodeError\u001b[0m                           Traceback (most recent call last)",
      "Cell \u001b[1;32mIn[9], line 17\u001b[0m\n\u001b[0;32m     16\u001b[0m \u001b[38;5;28;01mtry\u001b[39;00m:\n\u001b[1;32m---> 17\u001b[0m     gamelog \u001b[38;5;241m=\u001b[39m \u001b[43mplayergamelog\u001b[49m\u001b[38;5;241;43m.\u001b[39;49m\u001b[43mPlayerGameLog\u001b[49m\u001b[43m(\u001b[49m\u001b[43mplayer_id\u001b[49m\u001b[38;5;241;43m=\u001b[39;49m\u001b[43mplayer_id\u001b[49m\u001b[43m,\u001b[49m\u001b[43m \u001b[49m\u001b[43mdate_from_nullable\u001b[49m\u001b[38;5;241;43m=\u001b[39;49m\u001b[43mdate_from\u001b[49m\u001b[43m,\u001b[49m\u001b[43m \u001b[49m\u001b[43mdate_to_nullable\u001b[49m\u001b[38;5;241;43m=\u001b[39;49m\u001b[43mdate_to\u001b[49m\u001b[43m)\u001b[49m\n\u001b[0;32m     18\u001b[0m     nba_stats_http \u001b[38;5;241m=\u001b[39m NBAStatsHTTP()\n",
      "File \u001b[1;32mc:\\Users\\rusta\\.virtualenvs\\nba_01-7yhASJUA\\Lib\\site-packages\\nba_api\\stats\\endpoints\\playergamelog.py:72\u001b[0m, in \u001b[0;36mPlayerGameLog.__init__\u001b[1;34m(self, player_id, season, season_type_all_star, date_from_nullable, date_to_nullable, league_id_nullable, proxy, headers, timeout, get_request)\u001b[0m\n\u001b[0;32m     71\u001b[0m \u001b[38;5;28;01mif\u001b[39;00m get_request:\n\u001b[1;32m---> 72\u001b[0m     \u001b[38;5;28;43mself\u001b[39;49m\u001b[38;5;241;43m.\u001b[39;49m\u001b[43mget_request\u001b[49m\u001b[43m(\u001b[49m\u001b[43m)\u001b[49m\n",
      "File \u001b[1;32mc:\\Users\\rusta\\.virtualenvs\\nba_01-7yhASJUA\\Lib\\site-packages\\nba_api\\stats\\endpoints\\playergamelog.py:82\u001b[0m, in \u001b[0;36mPlayerGameLog.get_request\u001b[1;34m(self)\u001b[0m\n\u001b[0;32m     75\u001b[0m \u001b[38;5;28mself\u001b[39m\u001b[38;5;241m.\u001b[39mnba_response \u001b[38;5;241m=\u001b[39m NBAStatsHTTP()\u001b[38;5;241m.\u001b[39msend_api_request(\n\u001b[0;32m     76\u001b[0m     endpoint\u001b[38;5;241m=\u001b[39m\u001b[38;5;28mself\u001b[39m\u001b[38;5;241m.\u001b[39mendpoint,\n\u001b[0;32m     77\u001b[0m     parameters\u001b[38;5;241m=\u001b[39m\u001b[38;5;28mself\u001b[39m\u001b[38;5;241m.\u001b[39mparameters,\n\u001b[1;32m   (...)\u001b[0m\n\u001b[0;32m     80\u001b[0m     timeout\u001b[38;5;241m=\u001b[39m\u001b[38;5;28mself\u001b[39m\u001b[38;5;241m.\u001b[39mtimeout,\n\u001b[0;32m     81\u001b[0m )\n\u001b[1;32m---> 82\u001b[0m \u001b[38;5;28;43mself\u001b[39;49m\u001b[38;5;241;43m.\u001b[39;49m\u001b[43mload_response\u001b[49m\u001b[43m(\u001b[49m\u001b[43m)\u001b[49m\n",
      "File \u001b[1;32mc:\\Users\\rusta\\.virtualenvs\\nba_01-7yhASJUA\\Lib\\site-packages\\nba_api\\stats\\endpoints\\playergamelog.py:85\u001b[0m, in \u001b[0;36mPlayerGameLog.load_response\u001b[1;34m(self)\u001b[0m\n\u001b[0;32m     84\u001b[0m \u001b[38;5;28;01mdef\u001b[39;00m \u001b[38;5;21mload_response\u001b[39m(\u001b[38;5;28mself\u001b[39m):\n\u001b[1;32m---> 85\u001b[0m     data_sets \u001b[38;5;241m=\u001b[39m \u001b[38;5;28;43mself\u001b[39;49m\u001b[38;5;241;43m.\u001b[39;49m\u001b[43mnba_response\u001b[49m\u001b[38;5;241;43m.\u001b[39;49m\u001b[43mget_data_sets\u001b[49m\u001b[43m(\u001b[49m\u001b[43m)\u001b[49m\n\u001b[0;32m     86\u001b[0m     \u001b[38;5;28mself\u001b[39m\u001b[38;5;241m.\u001b[39mdata_sets \u001b[38;5;241m=\u001b[39m [\n\u001b[0;32m     87\u001b[0m         Endpoint\u001b[38;5;241m.\u001b[39mDataSet(data\u001b[38;5;241m=\u001b[39mdata_set)\n\u001b[0;32m     88\u001b[0m         \u001b[38;5;28;01mfor\u001b[39;00m data_set_name, data_set \u001b[38;5;129;01min\u001b[39;00m data_sets\u001b[38;5;241m.\u001b[39mitems()\n\u001b[0;32m     89\u001b[0m     ]\n",
      "File \u001b[1;32mc:\\Users\\rusta\\.virtualenvs\\nba_01-7yhASJUA\\Lib\\site-packages\\nba_api\\stats\\library\\http.py:122\u001b[0m, in \u001b[0;36mNBAStatsResponse.get_data_sets\u001b[1;34m(self, endpoint)\u001b[0m\n\u001b[0;32m    121\u001b[0m \u001b[38;5;28;01mdef\u001b[39;00m \u001b[38;5;21mget_data_sets\u001b[39m(\u001b[38;5;28mself\u001b[39m, endpoint\u001b[38;5;241m=\u001b[39m\u001b[38;5;28;01mNone\u001b[39;00m):\n\u001b[1;32m--> 122\u001b[0m     raw_dict \u001b[38;5;241m=\u001b[39m \u001b[38;5;28;43mself\u001b[39;49m\u001b[38;5;241;43m.\u001b[39;49m\u001b[43mget_dict\u001b[49m\u001b[43m(\u001b[49m\u001b[43m)\u001b[49m\n\u001b[0;32m    124\u001b[0m     \u001b[38;5;28;01mif\u001b[39;00m endpoint \u001b[38;5;129;01mis\u001b[39;00m \u001b[38;5;28;01mNone\u001b[39;00m:\n\u001b[0;32m    125\u001b[0m         \u001b[38;5;66;03m# Process Tabular Json\u001b[39;00m\n",
      "File \u001b[1;32mc:\\Users\\rusta\\.virtualenvs\\nba_01-7yhASJUA\\Lib\\site-packages\\nba_api\\library\\http.py:42\u001b[0m, in \u001b[0;36mNBAResponse.get_dict\u001b[1;34m(self)\u001b[0m\n\u001b[0;32m     41\u001b[0m \u001b[38;5;28;01mdef\u001b[39;00m \u001b[38;5;21mget_dict\u001b[39m(\u001b[38;5;28mself\u001b[39m):\n\u001b[1;32m---> 42\u001b[0m     \u001b[38;5;28;01mreturn\u001b[39;00m \u001b[43mjson\u001b[49m\u001b[38;5;241;43m.\u001b[39;49m\u001b[43mloads\u001b[49m\u001b[43m(\u001b[49m\u001b[38;5;28;43mself\u001b[39;49m\u001b[38;5;241;43m.\u001b[39;49m\u001b[43m_response\u001b[49m\u001b[43m)\u001b[49m\n",
      "File \u001b[1;32m~\\miniconda3\\envs\\nba_01_db\\Lib\\json\\__init__.py:346\u001b[0m, in \u001b[0;36mloads\u001b[1;34m(s, cls, object_hook, parse_float, parse_int, parse_constant, object_pairs_hook, **kw)\u001b[0m\n\u001b[0;32m    343\u001b[0m \u001b[38;5;28;01mif\u001b[39;00m (\u001b[38;5;28mcls\u001b[39m \u001b[38;5;129;01mis\u001b[39;00m \u001b[38;5;28;01mNone\u001b[39;00m \u001b[38;5;129;01mand\u001b[39;00m object_hook \u001b[38;5;129;01mis\u001b[39;00m \u001b[38;5;28;01mNone\u001b[39;00m \u001b[38;5;129;01mand\u001b[39;00m\n\u001b[0;32m    344\u001b[0m         parse_int \u001b[38;5;129;01mis\u001b[39;00m \u001b[38;5;28;01mNone\u001b[39;00m \u001b[38;5;129;01mand\u001b[39;00m parse_float \u001b[38;5;129;01mis\u001b[39;00m \u001b[38;5;28;01mNone\u001b[39;00m \u001b[38;5;129;01mand\u001b[39;00m\n\u001b[0;32m    345\u001b[0m         parse_constant \u001b[38;5;129;01mis\u001b[39;00m \u001b[38;5;28;01mNone\u001b[39;00m \u001b[38;5;129;01mand\u001b[39;00m object_pairs_hook \u001b[38;5;129;01mis\u001b[39;00m \u001b[38;5;28;01mNone\u001b[39;00m \u001b[38;5;129;01mand\u001b[39;00m \u001b[38;5;129;01mnot\u001b[39;00m kw):\n\u001b[1;32m--> 346\u001b[0m     \u001b[38;5;28;01mreturn\u001b[39;00m \u001b[43m_default_decoder\u001b[49m\u001b[38;5;241;43m.\u001b[39;49m\u001b[43mdecode\u001b[49m\u001b[43m(\u001b[49m\u001b[43ms\u001b[49m\u001b[43m)\u001b[49m\n\u001b[0;32m    347\u001b[0m \u001b[38;5;28;01mif\u001b[39;00m \u001b[38;5;28mcls\u001b[39m \u001b[38;5;129;01mis\u001b[39;00m \u001b[38;5;28;01mNone\u001b[39;00m:\n",
      "File \u001b[1;32m~\\miniconda3\\envs\\nba_01_db\\Lib\\json\\decoder.py:337\u001b[0m, in \u001b[0;36mJSONDecoder.decode\u001b[1;34m(self, s, _w)\u001b[0m\n\u001b[0;32m    333\u001b[0m \u001b[38;5;250m\u001b[39m\u001b[38;5;124;03m\"\"\"Return the Python representation of ``s`` (a ``str`` instance\u001b[39;00m\n\u001b[0;32m    334\u001b[0m \u001b[38;5;124;03mcontaining a JSON document).\u001b[39;00m\n\u001b[0;32m    335\u001b[0m \n\u001b[0;32m    336\u001b[0m \u001b[38;5;124;03m\"\"\"\u001b[39;00m\n\u001b[1;32m--> 337\u001b[0m obj, end \u001b[38;5;241m=\u001b[39m \u001b[38;5;28;43mself\u001b[39;49m\u001b[38;5;241;43m.\u001b[39;49m\u001b[43mraw_decode\u001b[49m\u001b[43m(\u001b[49m\u001b[43ms\u001b[49m\u001b[43m,\u001b[49m\u001b[43m \u001b[49m\u001b[43midx\u001b[49m\u001b[38;5;241;43m=\u001b[39;49m\u001b[43m_w\u001b[49m\u001b[43m(\u001b[49m\u001b[43ms\u001b[49m\u001b[43m,\u001b[49m\u001b[43m \u001b[49m\u001b[38;5;241;43m0\u001b[39;49m\u001b[43m)\u001b[49m\u001b[38;5;241;43m.\u001b[39;49m\u001b[43mend\u001b[49m\u001b[43m(\u001b[49m\u001b[43m)\u001b[49m\u001b[43m)\u001b[49m\n\u001b[0;32m    338\u001b[0m end \u001b[38;5;241m=\u001b[39m _w(s, end)\u001b[38;5;241m.\u001b[39mend()\n",
      "File \u001b[1;32m~\\miniconda3\\envs\\nba_01_db\\Lib\\json\\decoder.py:355\u001b[0m, in \u001b[0;36mJSONDecoder.raw_decode\u001b[1;34m(self, s, idx)\u001b[0m\n\u001b[0;32m    354\u001b[0m \u001b[38;5;28;01mexcept\u001b[39;00m \u001b[38;5;167;01mStopIteration\u001b[39;00m \u001b[38;5;28;01mas\u001b[39;00m err:\n\u001b[1;32m--> 355\u001b[0m     \u001b[38;5;28;01mraise\u001b[39;00m JSONDecodeError(\u001b[38;5;124m\"\u001b[39m\u001b[38;5;124mExpecting value\u001b[39m\u001b[38;5;124m\"\u001b[39m, s, err\u001b[38;5;241m.\u001b[39mvalue) \u001b[38;5;28;01mfrom\u001b[39;00m \u001b[38;5;28;01mNone\u001b[39;00m\n\u001b[0;32m    356\u001b[0m \u001b[38;5;28;01mreturn\u001b[39;00m obj, end\n",
      "\u001b[1;31mJSONDecodeError\u001b[0m: Expecting value: line 1 column 1 (char 0)",
      "\nDuring handling of the above exception, another exception occurred:\n",
      "\u001b[1;31mNameError\u001b[0m                                 Traceback (most recent call last)",
      "Cell \u001b[1;32mIn[9], line 34\u001b[0m\n\u001b[0;32m     32\u001b[0m \u001b[38;5;28;01mexcept\u001b[39;00m json\u001b[38;5;241m.\u001b[39mJSONDecodeError \u001b[38;5;28;01mas\u001b[39;00m jde:\n\u001b[0;32m     33\u001b[0m     \u001b[38;5;28mprint\u001b[39m(\u001b[38;5;124mf\u001b[39m\u001b[38;5;124m\"\u001b[39m\u001b[38;5;124mJSON decoding failed: \u001b[39m\u001b[38;5;132;01m{\u001b[39;00m\u001b[38;5;28mstr\u001b[39m(jde)\u001b[38;5;132;01m}\u001b[39;00m\u001b[38;5;124m\"\u001b[39m)\n\u001b[1;32m---> 34\u001b[0m     \u001b[38;5;28mprint\u001b[39m(\u001b[38;5;124m\"\u001b[39m\u001b[38;5;124mRequest sent:\u001b[39m\u001b[38;5;124m\"\u001b[39m, \u001b[43mnba_stats_http\u001b[49m\u001b[38;5;241m.\u001b[39mlast_url, nba_stats_http\u001b[38;5;241m.\u001b[39mlast_request_headers)\n\u001b[0;32m     35\u001b[0m \u001b[38;5;28;01mexcept\u001b[39;00m \u001b[38;5;167;01mException\u001b[39;00m \u001b[38;5;28;01mas\u001b[39;00m e:\n\u001b[0;32m     36\u001b[0m     \u001b[38;5;28mprint\u001b[39m(\u001b[38;5;124mf\u001b[39m\u001b[38;5;124m\"\u001b[39m\u001b[38;5;124mAn error occurred: \u001b[39m\u001b[38;5;132;01m{\u001b[39;00m\u001b[38;5;28mstr\u001b[39m(e)\u001b[38;5;132;01m}\u001b[39;00m\u001b[38;5;124m\"\u001b[39m)\n",
      "\u001b[1;31mNameError\u001b[0m: name 'nba_stats_http' is not defined"
     ]
    }
   ],
   "source": [
    "import json\n",
    "import pandas as pd\n",
    "from nba_api.stats.endpoints import playergamelog\n",
    "from nba_api.stats.library.http import NBAStatsHTTP\n",
    "\n",
    "def rate_limited_request(interval):\n",
    "    import time\n",
    "    time.sleep(interval)\n",
    "\n",
    "season = \"2023-2024\"\n",
    "date_from = \"2023-10-05\"\n",
    "date_to = \"2024-04-10\"\n",
    "player_ids = [\"201939\", \"202691\", \"203507\"]  # Example player IDs\n",
    "player_id = player_ids[0]\n",
    "\n",
    "try:\n",
    "    gamelog = playergamelog.PlayerGameLog(player_id=player_id, date_from_nullable=date_from, date_to_nullable=date_to)\n",
    "    nba_stats_http = NBAStatsHTTP()\n",
    "    response = nba_stats_http.send_api_request(\n",
    "        endpoint=gamelog.endpoint,\n",
    "        parameters=gamelog.parameters\n",
    "    )\n",
    "    if response.text:\n",
    "        print(\"Raw API Response:\", response.text)  # Inspect raw response\n",
    "        df = gamelog.get_data_frames()[0]\n",
    "        if not df.empty:\n",
    "            print(df)\n",
    "        else:\n",
    "            print(\"No games found for the specified date range.\")\n",
    "    else:\n",
    "        print(\"Empty response received from the API.\")\n",
    "except json.JSONDecodeError as jde:\n",
    "    print(f\"JSON decoding failed: {str(jde)}\")\n",
    "    print(\"Request sent:\", nba_stats_http.last_url, nba_stats_http.last_request_headers)\n",
    "except Exception as e:\n",
    "    print(f\"An error occurred: {str(e)}\")"
   ]
  }
 ],
 "metadata": {
  "kernelspec": {
   "display_name": "nba_01-7yhASJUA",
   "language": "python",
   "name": "python3"
  },
  "language_info": {
   "codemirror_mode": {
    "name": "ipython",
    "version": 3
   },
   "file_extension": ".py",
   "mimetype": "text/x-python",
   "name": "python",
   "nbconvert_exporter": "python",
   "pygments_lexer": "ipython3",
   "version": "3.12.3"
  }
 },
 "nbformat": 4,
 "nbformat_minor": 2
}
