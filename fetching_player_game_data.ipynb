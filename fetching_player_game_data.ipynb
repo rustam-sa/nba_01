{
 "cells": [
  {
   "cell_type": "code",
   "execution_count": 1,
   "metadata": {},
   "outputs": [
    {
     "name": "stdout",
     "output_type": "stream",
     "text": [
      "2023-24 season's first game: 2023-10-05\n",
      "The 2023-24 season's last game: 2024-05-11\n",
      "num eligible players: [1628369, 201950, 1627759, 204001, 1628401, 1630202, 1629052, 1641809, 1631120, 1630214, 1641775, 1630573, 1628436, 201143, 1630531, 1629004, 1629674, 1629622, 1629660, 1627747, 1630596, 1630241, 1631250, 1641854, 1629636, 202684, 1630600, 1627777, 1641734, 202694, 1627745, 1628386, 1629731, 1630171, 1628378, 1631220, 1629627, 203468, 1630529, 1630230, 1630700, 1627742, 1630631, 202685, 1626204, 1641722, 1630530, 1630604, 1630792, 1630346, 203469, 1630526, 203957, 1630314, 1630702, 1641726, 203939, 1630182, 1630639, 203501, 202681, 1641788, 1641765, 1629655, 1629023, 1630535, 1628467, 1627884, 1629029, 202693, 1631128, 1629008, 1631124, 1641816, 203484, 201599, 202704, 1631212, 203200, 1630296, 203999, 1631221, 1630192, 1629618, 1627750, 1630643, 1628427, 203932, 1641945, 203081, 1630699, 1627736, 1641753, 1626171, 201572, 201568, 1631260, 201976, 203114, 1631102, 1626192, 203507, 203648, 1641748, 1631157, 203109, 1641740, 203937, 1630183, 1630162, 1629162, 1631111, 1631169, 1629638, 201144, 1629675, 1630227, 1628420, 203933, 203497, 1626157, 1631159, 1630568, 1628978, 1631210, 1630613, 1630540, 1628404, 1629718, 1630173, 1628384, 1629610, 1628973, 1629003, 202692, 1629603, 1629011, 203944, 202711, 1630579, 1628392]\n"
     ]
    }
   ],
   "source": [
    "from common_nba_api_functions import rate_limited_request, get_season_start_and_end\n",
    "from common_db_functions import get_players_filtered_by_team_playoff_participation, get_players_from_db\n",
    "from manipulation import get_date_n_days_ago\n",
    "\n",
    "season = \"2023-24\"\n",
    "season_type = \"Playoffs\"\n",
    "season_start, season_end = get_season_start_and_end(season)\n",
    "players = get_players_filtered_by_team_playoff_participation(season, True)\n",
    "# players = get_players_from_db()\n",
    "player_ids = [player.player_id for player in players]\n",
    "print(f\"num eligible players: {len(player_ids)}\")\n",
    "end = get_date_n_days_ago(1)\n",
    "start = get_date_n_days_ago(35)\n",
    "\n",
    "\n"
   ]
  },
  {
   "cell_type": "code",
   "execution_count": 2,
   "metadata": {},
   "outputs": [
    {
     "name": "stdout",
     "output_type": "stream",
     "text": [
      "Fetching data for player: Jayson Tatum\n"
     ]
    }
   ],
   "source": [
    "import pandas as pd\n",
    "from nba_api.stats.endpoints import playergamelog\n",
    "from sqlalchemy.exc import SQLAlchemyError\n",
    "from db_config import get_session\n",
    "from models import GameStats, Player\n",
    "from common_nba_api_functions import rate_limited_request\n",
    "session = get_session()\n",
    "\n",
    "\n",
    "\n",
    "def fetch_and_store_player_game_stats(player_id):\n",
    "    try:\n",
    "        player = session.query(Player).filter(Player.player_id == player_id).one_or_none()\n",
    "        print(f\"Fetching data for player: {player.name}\")\n",
    "        gamelog = playergamelog.PlayerGameLog(\n",
    "            player_id=player_id, \n",
    "            season=season, \n",
    "            season_type_all_star=season_type, \n",
    "            date_from_nullable=start, \n",
    "            date_to_nullable=end\n",
    "            )\n",
    "        games_df = gamelog.get_data_frames()[0]\n",
    "        print(games_df.head())\n",
    "        games = []\n",
    "        for index, game in games_df.iterrows():\n",
    "            print(f\"Adding new game stat for game ID: {game['Game_ID']}\")\n",
    "            new_game_stat = GameStats(\n",
    "                player_id=player.id,\n",
    "                game_id=game['Game_ID'],\n",
    "                points=game['PTS'],\n",
    "                assists=game['AST'],\n",
    "                rebounds=game['REB'],\n",
    "                steals=game['STL'],\n",
    "                blocks=game['BLK'],\n",
    "                turnovers=game['TOV'],\n",
    "                fouls=game['PF'],\n",
    "                minutes=game['MIN'],\n",
    "                fg_made=game['FGM'],\n",
    "                fg_attempts=game['FGA'],\n",
    "                fg_percentage=game['FG_PCT'],\n",
    "                fg3_made=game['FG3M'],\n",
    "                fg3_attempts=game['FG3A'],\n",
    "                fg3_percentage=game['FG3_PCT'],\n",
    "                ft_made=game['FTM'],\n",
    "                ft_attempts=game['FTA'],\n",
    "                ft_percentage=game['FT_PCT'],\n",
    "                plus_minus=game['PLUS_MINUS']\n",
    "            )\n",
    "            games.append(new_game_stat)\n",
    "        session.add_all(games)\n",
    "        session.commit()\n",
    "\n",
    "    except SQLAlchemyError as e:\n",
    "        print(f\"Database error: {e}\")\n",
    "        session.rollback()\n",
    "    except Exception as e:\n",
    "        print(f\"An error occurred: {e}\")\n",
    "    finally:\n",
    "        # It's a good practice to ensure the session is closed properly\n",
    "        session.close()\n",
    "\n",
    "for player_id in player_ids:\n",
    "    rate_limited_request(1)\n",
    "    fetch_and_store_player_game_stats(player_id)\n",
    "\n",
    "    # Close session\n",
    "    session.close()"
   ]
  }
 ],
 "metadata": {
  "kernelspec": {
   "display_name": "nba_01-7yhASJUA",
   "language": "python",
   "name": "python3"
  },
  "language_info": {
   "codemirror_mode": {
    "name": "ipython",
    "version": 3
   },
   "file_extension": ".py",
   "mimetype": "text/x-python",
   "name": "python",
   "nbconvert_exporter": "python",
   "pygments_lexer": "ipython3",
   "version": "3.12.3"
  }
 },
 "nbformat": 4,
 "nbformat_minor": 2
}
