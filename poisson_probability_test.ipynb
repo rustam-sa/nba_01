{
 "cells": [
  {
   "cell_type": "code",
   "execution_count": 1,
   "metadata": {},
   "outputs": [],
   "source": [
    "import pandas as pd\n",
    "from scipy.stats import poisson"
   ]
  },
  {
   "cell_type": "code",
   "execution_count": 15,
   "metadata": {},
   "outputs": [],
   "source": [
    "data = pd.read_csv(\"data.csv\", index_col=0).sort_values(by='date')\n",
    "split_ratio = 0.8  \n",
    "split_index = int(len(data) * split_ratio)\n",
    "\n",
    "# Split the DataFrame\n",
    "train_df = data.iloc[:split_index]\n",
    "val_df = data.iloc[split_index:]"
   ]
  },
  {
   "cell_type": "code",
   "execution_count": 17,
   "metadata": {},
   "outputs": [
    {
     "name": "stdout",
     "output_type": "stream",
     "text": [
      "26.057142857142857\n"
     ]
    }
   ],
   "source": [
    "mean = train_df[\"points\"].mean()\n",
    "print(mean)\n"
   ]
  },
  {
   "cell_type": "code",
   "execution_count": 20,
   "metadata": {},
   "outputs": [
    {
     "name": "stdout",
     "output_type": "stream",
     "text": [
      "0.24432256265010233\n"
     ]
    }
   ],
   "source": [
    "lambda_ = mean\n",
    "n = 29\n",
    "probability = 1 - poisson.cdf(n, lambda_)\n",
    "print(probability)"
   ]
  },
  {
   "cell_type": "code",
   "execution_count": 21,
   "metadata": {},
   "outputs": [
    {
     "name": "stdout",
     "output_type": "stream",
     "text": [
      "0.4444444444444444\n"
     ]
    }
   ],
   "source": [
    "success = val_df[val_df['points'] >= n]\n",
    "failure = val_df[val_df['points'] < n]\n",
    "print(len(success)/len(val_df))"
   ]
  },
  {
   "cell_type": "markdown",
   "metadata": {},
   "source": []
  }
 ],
 "metadata": {
  "kernelspec": {
   "display_name": "nba_01-7yhASJUA",
   "language": "python",
   "name": "python3"
  },
  "language_info": {
   "codemirror_mode": {
    "name": "ipython",
    "version": 3
   },
   "file_extension": ".py",
   "mimetype": "text/x-python",
   "name": "python",
   "nbconvert_exporter": "python",
   "pygments_lexer": "ipython3",
   "version": "3.12.3"
  }
 },
 "nbformat": 4,
 "nbformat_minor": 2
}
