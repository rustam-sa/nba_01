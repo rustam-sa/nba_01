{
 "cells": [
  {
   "cell_type": "code",
   "execution_count": 84,
   "metadata": {},
   "outputs": [],
   "source": [
    "import pandas as pd\n",
    "import numpy as np\n",
    "from sklearn.model_selection import train_test_split\n",
    "from data_manager import DataManager\n",
    "\n"
   ]
  },
  {
   "cell_type": "code",
   "execution_count": 85,
   "metadata": {},
   "outputs": [],
   "source": [
    "dm = DataManager()"
   ]
  },
  {
   "cell_type": "code",
   "execution_count": 86,
   "metadata": {},
   "outputs": [],
   "source": [
    "player_name = 'Derrick White'\n",
    "player_id = dm.get_player_id(player_name)\n",
    "player_data = dm.get_and_save_player_data(player_id=player_id)"
   ]
  },
  {
   "cell_type": "code",
   "execution_count": 87,
   "metadata": {},
   "outputs": [],
   "source": [
    "player_threshold = player_data.copy().head(25)['points'].mean() -2.0"
   ]
  },
  {
   "cell_type": "code",
   "execution_count": 88,
   "metadata": {},
   "outputs": [],
   "source": [
    "player_data['points'] = player_data['points'].shift(-1)\n",
    "player_data = player_data.dropna()\n",
    "player_data['points'] = player_data['points'].astype(int)\n",
    "y_label = player_data['points']\n",
    "X = player_data.drop('points', axis=1)"
   ]
  },
  {
   "cell_type": "code",
   "execution_count": 90,
   "metadata": {},
   "outputs": [
    {
     "name": "stdout",
     "output_type": "stream",
     "text": [
      "[1 1 1 0 0 0 1 1 1 1 0 1 0 0 1 0 1 1 1 1 1 1 1 0 1 0 0 0 0 0 0 0 0 1 1 1 0\n",
      " 0 1 1 0 1 1 0 1 0 1 1 1 0 0 0 0 0 0 1 1 1 1 1 1 1 1 0 1 0 1 1 1 1 0 1 1 0\n",
      " 0 0 1 0 0 0 1 1 0 1 0]\n"
     ]
    }
   ],
   "source": [
    "y = np.where(y_label > player_threshold, 1, 0)\n",
    "print(y)"
   ]
  },
  {
   "cell_type": "markdown",
   "metadata": {},
   "source": []
  },
  {
   "cell_type": "code",
   "execution_count": 96,
   "metadata": {},
   "outputs": [
    {
     "name": "stdout",
     "output_type": "stream",
     "text": [
      "Index(['player_name', 'player_position', 'minutes', 'points', 'rebounds',\n",
      "       'assists', 'efg', 'fg3a', 'fg3m', 'fg3_pct', 'fga', 'fgm', 'fta',\n",
      "       'ft_pct', 'steals', 'blocks', 'date', 'game_id'],\n",
      "      dtype='object')\n"
     ]
    }
   ],
   "source": [
    "print(player_data.columns)\n",
    "X_cols = ['minutes', \n",
    "          'points', \n",
    "          'rebounds', \n",
    "          'assists', \n",
    "          'efg', \n",
    "          'fg3a', \n",
    "          'fg3m', \n",
    "          'fg3_pct', \n",
    "          'fga', \n",
    "          'fgm', \n",
    "          'steals', \n",
    "          'blocks'\n",
    "          ]\n"
   ]
  }
 ],
 "metadata": {
  "kernelspec": {
   "display_name": "nba_01-7yhASJUA",
   "language": "python",
   "name": "python3"
  },
  "language_info": {
   "codemirror_mode": {
    "name": "ipython",
    "version": 3
   },
   "file_extension": ".py",
   "mimetype": "text/x-python",
   "name": "python",
   "nbconvert_exporter": "python",
   "pygments_lexer": "ipython3",
   "version": "3.12.3"
  }
 },
 "nbformat": 4,
 "nbformat_minor": 2
}
