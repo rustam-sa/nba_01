{
 "cells": [
  {
   "cell_type": "code",
   "execution_count": null,
   "metadata": {},
   "outputs": [],
   "source": [
    "import requests\n",
    "from bs4 import BeautifulSoup"
   ]
  },
  {
   "cell_type": "code",
   "execution_count": null,
   "metadata": {},
   "outputs": [],
   "source": [
    "\n",
    "# URL for WNBA boxscores\n",
    "url = \"https://www.basketball-reference.com/wnba/boxscores/\"\n",
    "\n",
    "# Send a GET request to the URL\n",
    "response = requests.get(url)\n",
    "\n",
    "# Check if the request was successful\n",
    "if response.status_code == 200:\n",
    "    # Parse the HTML content\n",
    "    soup = BeautifulSoup(response.content, 'html.parser')\n",
    "    \n",
    "    # Find the section containing the boxscores\n",
    "    boxscores = soup.find_all('div', class_='game_summary expanded nohover')\n",
    "    \n",
    "    # Iterate through each boxscore and extract relevant data\n",
    "    for boxscore in boxscores:\n",
    "        teams = boxscore.find_all('td', class_='right gamelink')\n",
    "        for team in teams:\n",
    "            team_name = team.find('a').text\n",
    "            print(f\"Team: {team_name}\")\n",
    "        \n",
    "        # Add more extraction logic as needed\n",
    "else:\n",
    "    print(f\"Failed to retrieve the page. Status code: {response.status_code}\")\n",
    "\n",
    "# You can add further processing and data extraction as needed\n",
    "\n"
   ]
  },
  {
   "cell_type": "code",
   "execution_count": 13,
   "metadata": {},
   "outputs": [
    {
     "name": "stdout",
     "output_type": "stream",
     "text": [
      "HTML content fetched successfully.\n",
      "HTML content saved to wnba_2024_games.html\n",
      "Extracted 'csk' IDs: []\n"
     ]
    }
   ],
   "source": [
    "class WebCrawler:\n",
    "    def __init__(self, url):\n",
    "        self.url = url\n",
    "        self.html_content = None\n",
    "        self.soup = None\n",
    "\n",
    "    def fetch_html(self):\n",
    "        \"\"\"Fetches HTML content from the specified URL.\"\"\"\n",
    "        response = requests.get(self.url)\n",
    "        if response.status_code == 200:\n",
    "            self.html_content = response.text\n",
    "            self.soup = BeautifulSoup(self.html_content, 'html.parser')\n",
    "            print(\"HTML content fetched successfully.\")\n",
    "        else:\n",
    "            print(f\"Failed to retrieve the page. Status code: {response.status_code}\")\n",
    "\n",
    "    def save_html_to_file(self, filename):\n",
    "        \"\"\"Saves the fetched HTML content to a file.\"\"\"\n",
    "        if self.html_content:\n",
    "            with open(filename, \"w\", encoding='utf-8') as file:\n",
    "                file.write(self.html_content)\n",
    "            print(f\"HTML content saved to {filename}\")\n",
    "        else:\n",
    "            print(\"No HTML content to save. Please fetch the HTML content first.\")\n",
    "\n",
    "    def print_html(self):\n",
    "        \"\"\"Prints the fetched HTML content to the console.\"\"\"\n",
    "        if self.html_content:\n",
    "            print(self.html_content)\n",
    "        else:\n",
    "            print(\"No HTML content to print. Please fetch the HTML content first.\")\n",
    "\n",
    "    def extract_csk_ids(self):\n",
    "        \"\"\"Extracts all 'csk' attributes from the specified elements.\"\"\"\n",
    "        if not self.soup:\n",
    "            print(\"No HTML content parsed. Please fetch the HTML content first.\")\n",
    "            return []\n",
    "\n",
    "        # Find all <th> elements with the specified attributes\n",
    "        th_elements = self.soup.find_all('th', {'scope': 'row', 'class': 'left ', 'data-stat': 'date_game'})\n",
    "\n",
    "        # Extract the 'csk' attribute values\n",
    "        csk_ids = [th['csk'] for th in th_elements if 'csk' in th.attrs]\n",
    "        \n",
    "        return csk_ids\n",
    "\n",
    "# Example usage\n",
    "if __name__ == \"__main__\":\n",
    "    # URL for WNBA games\n",
    "    url = \"https://www.basketball-reference.com/wnba/years/2024_games.html\"\n",
    "\n",
    "    # Create an instance of WebCrawler\n",
    "    crawler = WebCrawler(url)\n",
    "\n",
    "    # Fetch HTML content\n",
    "    crawler.fetch_html()\n",
    "\n",
    "    # Save HTML content to a file\n",
    "    crawler.save_html_to_file(\"wnba_2024_games.html\")\n",
    "\n",
    "    # Extract and print all 'csk' ids\n",
    "    csk_ids = crawler.extract_csk_ids()\n",
    "    print(\"Extracted 'csk' IDs:\", csk_ids)\n"
   ]
  }
 ],
 "metadata": {
  "kernelspec": {
   "display_name": "nba_01-7yhASJUA",
   "language": "python",
   "name": "python3"
  },
  "language_info": {
   "codemirror_mode": {
    "name": "ipython",
    "version": 3
   },
   "file_extension": ".py",
   "mimetype": "text/x-python",
   "name": "python",
   "nbconvert_exporter": "python",
   "pygments_lexer": "ipython3",
   "version": "3.12.3"
  }
 },
 "nbformat": 4,
 "nbformat_minor": 2
}
