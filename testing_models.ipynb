{
 "cells": [
  {
   "cell_type": "code",
   "execution_count": 1,
   "metadata": {},
   "outputs": [],
   "source": [
    "%matplotlib inline\n",
    "import pandas as pd\n",
    "import seaborn as sns\n",
    "import numpy as np\n",
    "import matplotlib.pyplot as plt\n",
    "from sqlalchemy import select\n",
    "from scipy.stats import poisson\n",
    "from data_manager import DataManager\n",
    "from models import TradPlayerStats, Game\n",
    "\n"
   ]
  },
  {
   "cell_type": "code",
   "execution_count": 2,
   "metadata": {},
   "outputs": [],
   "source": [
    "dm = DataManager()\n",
    "engine = dm.get_engine()"
   ]
  },
  {
   "cell_type": "code",
   "execution_count": 3,
   "metadata": {},
   "outputs": [],
   "source": [
    "def query_plater_trad_stats(player_id):\n",
    "    stmt = (\n",
    "        select(TradPlayerStats, Game.date)\n",
    "        .join(Game, TradPlayerStats.game_id == Game.id)\n",
    "        .where(TradPlayerStats.player_id == player_id)\n",
    "        .order_by(Game.date)\n",
    "    )\n",
    "\n",
    "    df = pd.read_sql(stmt, engine)\n",
    "    return df"
   ]
  },
  {
   "cell_type": "code",
   "execution_count": 4,
   "metadata": {},
   "outputs": [],
   "source": [
    "player_id = dm.get_player_id(\"LeBron James\")\n",
    "data = query_plater_trad_stats(player_id).head(200)\n"
   ]
  },
  {
   "cell_type": "code",
   "execution_count": 5,
   "metadata": {},
   "outputs": [],
   "source": [
    "# display(data.head(25))\n",
    "# Create a histogram\n",
    "sns.histplot(data, kde=True)\n",
    "plt.title('Distribution of Data')\n",
    "plt.xlabel('Value')\n",
    "plt.ylabel('Frequency')\n",
    "plt.show()"
   ]
  }
 ],
 "metadata": {
  "kernelspec": {
   "display_name": "nba_01-7yhASJUA",
   "language": "python",
   "name": "python3"
  },
  "language_info": {
   "codemirror_mode": {
    "name": "ipython",
    "version": 3
   },
   "file_extension": ".py",
   "mimetype": "text/x-python",
   "name": "python",
   "nbconvert_exporter": "python",
   "pygments_lexer": "ipython3",
   "version": "3.12.3"
  }
 },
 "nbformat": 4,
 "nbformat_minor": 2
}
