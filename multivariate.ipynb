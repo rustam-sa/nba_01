{
 "cells": [
  {
   "cell_type": "code",
   "execution_count": 1,
   "metadata": {},
   "outputs": [],
   "source": [
    "# getting data\n",
    "import pandas as pd\n",
    "import numpy as np\n",
    "import scipy.stats as stats\n",
    "from scipy.stats import pearsonr\n",
    "from statsmodels.distributions.copula.api import GaussianCopula"
   ]
  },
  {
   "cell_type": "code",
   "execution_count": 2,
   "metadata": {},
   "outputs": [],
   "source": [
    "from data_manager import DataManager"
   ]
  },
  {
   "cell_type": "code",
   "execution_count": 3,
   "metadata": {},
   "outputs": [],
   "source": [
    "\n",
    "def create_correlation_matrix(df, columns):\n",
    "    df = df[columns].copy()\n",
    "    corr_matrix = df.corr()\n",
    "\n",
    "    return corr_matrix\n",
    "\n",
    "def calculate_p_values(df):\n",
    "    \"\"\"Calculate p-values for the correlation matrix of a DataFrame.\"\"\"\n",
    "    df_cols = pd.DataFrame(columns=df.columns)\n",
    "    p_values = df_cols.transpose().join(df_cols, how='outer')\n",
    "    for r in df.columns:\n",
    "        for c in df.columns:\n",
    "            if r == c:\n",
    "                p_values.loc[r, c] = np.nan\n",
    "            else:\n",
    "                _, p_value = pearsonr(df[r], df[c])\n",
    "                p_values.loc[r, c] = round(p_value, 4)\n",
    "    print(\"P-Values Matrix:\")\n",
    "    print(p_values)\n",
    "    return p_values"
   ]
  },
  {
   "cell_type": "code",
   "execution_count": 4,
   "metadata": {},
   "outputs": [
    {
     "name": "stdout",
     "output_type": "stream",
     "text": [
      "541\n"
     ]
    }
   ],
   "source": [
    "\n",
    "\n",
    "dm = DataManager()\n",
    "player_id = dm.get_player_id(\"Nikola Jokic\")\n",
    "print(player_id)\n",
    "data = dm.get_and_save_player_data(player_id)"
   ]
  },
  {
   "cell_type": "code",
   "execution_count": 5,
   "metadata": {},
   "outputs": [
    {
     "name": "stdout",
     "output_type": "stream",
     "text": [
      "1.0\n"
     ]
    }
   ],
   "source": []
  }
 ],
 "metadata": {
  "kernelspec": {
   "display_name": "nba_01-7yhASJUA",
   "language": "python",
   "name": "python3"
  },
  "language_info": {
   "codemirror_mode": {
    "name": "ipython",
    "version": 3
   },
   "file_extension": ".py",
   "mimetype": "text/x-python",
   "name": "python",
   "nbconvert_exporter": "python",
   "pygments_lexer": "ipython3",
   "version": "3.12.3"
  }
 },
 "nbformat": 4,
 "nbformat_minor": 2
}
