{
 "cells": [
  {
   "cell_type": "code",
   "execution_count": 9,
   "metadata": {},
   "outputs": [],
   "source": [
    "import pandas as pd\n",
    "from pathlib import Path\n",
    "filename = Path(r\"E:\\coding_projects\\nba_01\\days\\2024-05-22\\parlays\\20240522194448_study\\parlays.csv\")\n",
    "df = pd.read_csv(filename, index_col=0)\n",
    "pivot_df = df.assign(value=1).pivot_table(index=['PROP_TAG', 'THRESH'], columns='PARLAY_ID', values='value', fill_value=\"\")\n",
    "\n",
    "# Reset index to move PROP_TAG and THRESH to columns\n",
    "pivot_df = pivot_df.reset_index()\n",
    "pivot_df.to_csv(\"manual_tracking_test.csv\")"
   ]
  },
  {
   "cell_type": "code",
   "execution_count": 7,
   "metadata": {},
   "outputs": [
    {
     "name": "stdout",
     "output_type": "stream",
     "text": [
      "PARLAY_ID                              PROP_TAG  THRESH    3   11   12   13  \\\n",
      "0                  Anthony Edwards_blocks_under     0.5  0.0  0.0  0.0  0.0   \n",
      "1                   Daniel Gafford_assists_over     0.5  1.0  0.0  0.0  0.0   \n",
      "2                    Daniel Gafford_points_over     8.5  1.0  1.0  1.0  1.0   \n",
      "3                 Dereck Lively II_steals_under     0.5  0.0  0.0  0.0  0.0   \n",
      "4                 Derrick Jones Jr._blocks_over     0.5  0.0  0.0  0.0  0.0   \n",
      "5                  Jaden McDaniels_steals_under     1.5  0.0  0.0  0.0  0.0   \n",
      "6                  Karl-Anthony Towns_fgm_under     7.5  0.0  0.0  0.0  0.0   \n",
      "7               Karl-Anthony Towns_points_under    20.5  0.0  0.0  0.0  1.0   \n",
      "8                      Kyrie Irving_points_over    21.5  0.0  0.0  1.0  0.0   \n",
      "9                       Mike Conley_points_over    11.5  1.0  1.0  1.0  1.0   \n",
      "10                        Naz Reid_assists_over     0.5  0.0  0.0  0.0  0.0   \n",
      "11                            Naz Reid_fgm_over     3.5  0.0  0.0  0.0  0.0   \n",
      "12                         Naz Reid_points_over     9.5  1.0  1.0  1.0  1.0   \n",
      "13                       Naz Reid_rebounds_over     3.5  0.0  1.0  0.0  0.0   \n",
      "14         Nickeil Alexander-Walker_points_over     6.5  1.0  1.0  1.0  1.0   \n",
      "15                 Tim Hardaway Jr._points_over     4.5  1.0  1.0  1.0  1.0   \n",
      "\n",
      "PARLAY_ID   24   25   28   31  ...  7032  8325  9296  9348  9561  9625  10106  \\\n",
      "0          0.0  1.0  0.0  0.0  ...   1.0   1.0   0.0   1.0   0.0   1.0    1.0   \n",
      "1          0.0  0.0  1.0  1.0  ...   1.0   0.0   0.0   0.0   0.0   0.0    0.0   \n",
      "2          1.0  1.0  1.0  0.0  ...   0.0   0.0   0.0   0.0   0.0   0.0    0.0   \n",
      "3          1.0  0.0  0.0  0.0  ...   1.0   1.0   1.0   0.0   1.0   0.0    1.0   \n",
      "4          0.0  0.0  0.0  0.0  ...   0.0   0.0   1.0   1.0   0.0   0.0    1.0   \n",
      "5          0.0  0.0  0.0  0.0  ...   0.0   0.0   0.0   0.0   1.0   1.0    0.0   \n",
      "6          0.0  0.0  0.0  0.0  ...   0.0   0.0   0.0   0.0   0.0   0.0    0.0   \n",
      "7          0.0  0.0  0.0  0.0  ...   1.0   1.0   1.0   1.0   1.0   1.0    1.0   \n",
      "8          0.0  0.0  0.0  0.0  ...   0.0   1.0   1.0   1.0   1.0   1.0    1.0   \n",
      "9          1.0  1.0  0.0  1.0  ...   0.0   0.0   0.0   0.0   0.0   0.0    0.0   \n",
      "10         0.0  0.0  0.0  0.0  ...   0.0   0.0   0.0   0.0   0.0   0.0    0.0   \n",
      "11         0.0  0.0  0.0  0.0  ...   1.0   1.0   1.0   1.0   1.0   1.0    1.0   \n",
      "12         1.0  1.0  1.0  1.0  ...   0.0   0.0   0.0   0.0   0.0   0.0    0.0   \n",
      "13         0.0  0.0  1.0  1.0  ...   1.0   1.0   1.0   1.0   1.0   1.0    0.0   \n",
      "14         1.0  1.0  1.0  1.0  ...   0.0   0.0   0.0   0.0   0.0   0.0    0.0   \n",
      "15         1.0  1.0  1.0  1.0  ...   0.0   0.0   0.0   0.0   0.0   0.0    0.0   \n",
      "\n",
      "PARLAY_ID  10337  10802  11178  \n",
      "0            1.0    1.0    0.0  \n",
      "1            0.0    0.0    0.0  \n",
      "2            0.0    0.0    0.0  \n",
      "3            1.0    1.0    1.0  \n",
      "4            0.0    0.0    1.0  \n",
      "5            1.0    0.0    1.0  \n",
      "6            0.0    0.0    0.0  \n",
      "7            1.0    1.0    1.0  \n",
      "8            1.0    1.0    1.0  \n",
      "9            0.0    0.0    0.0  \n",
      "10           0.0    1.0    0.0  \n",
      "11           1.0    1.0    1.0  \n",
      "12           0.0    0.0    0.0  \n",
      "13           0.0    0.0    0.0  \n",
      "14           0.0    0.0    0.0  \n",
      "15           0.0    0.0    0.0  \n",
      "\n",
      "[16 rows x 34 columns]\n"
     ]
    }
   ],
   "source": []
  }
 ],
 "metadata": {
  "kernelspec": {
   "display_name": "nba_01-7yhASJUA",
   "language": "python",
   "name": "python3"
  },
  "language_info": {
   "codemirror_mode": {
    "name": "ipython",
    "version": 3
   },
   "file_extension": ".py",
   "mimetype": "text/x-python",
   "name": "python",
   "nbconvert_exporter": "python",
   "pygments_lexer": "ipython3",
   "version": "3.12.3"
  }
 },
 "nbformat": 4,
 "nbformat_minor": 2
}
