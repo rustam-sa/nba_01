{
 "cells": [
  {
   "cell_type": "code",
   "execution_count": 2,
   "metadata": {},
   "outputs": [
    {
     "name": "stdout",
     "output_type": "stream",
     "text": [
      "Index(['fgm', 'ft_pct', 'pf', 'fga', 'oreb', 'pts', 'fg_pct', 'dreb',\n",
      "       'plus_minus', 'game_id', 'fg3m', 'reb', 'id', 'fg3a', 'ast',\n",
      "       'player_id', 'fg3_pct', 'stl', 'start_position', 'ftm', 'blk',\n",
      "       'minutes', 'fta', 'to'],\n",
      "      dtype='object')\n"
     ]
    }
   ],
   "source": [
    "import pandas as pd \n",
    "from sqlalchemy import and_\n",
    "from models import Player, TradPlayerStats, AdvPlayerStats, Game\n",
    "from data_manager import DataManager\n",
    "dm = DataManager()\n",
    "session = dm.get_session()\n",
    "player_name = \"Nikola Jokic\"\n",
    "player = session.query(Player).filter(Player.name==player_name).all()[0]\n",
    "player_id = player.id\n",
    "\n",
    "stats = session.query(TradPlayerStats).join(TradPlayerStats.game).filter(TradPlayerStats.player_id == player_id).all()\n",
    "stats = dm.convert_to_df(stats)\n",
    "print(stats.columns)\n"
   ]
  },
  {
   "cell_type": "code",
   "execution_count": 7,
   "metadata": {},
   "outputs": [
    {
     "name": "stdout",
     "output_type": "stream",
     "text": [
      "     player_name player_position  minutes  points  rebounds  assists    efg  \\\n",
      "0   Nikola Jokic               C     41.0      25        20        9  0.595   \n",
      "1   Nikola Jokic               C     41.0      33        14       14  0.550   \n",
      "2   Nikola Jokic               C     38.0      24        15        9  0.692   \n",
      "3   Nikola Jokic               C     41.0      27        20       10  0.625   \n",
      "4   Nikola Jokic               C     39.0      32        12        7  0.674   \n",
      "..           ...             ...      ...     ...       ...      ...    ...   \n",
      "83  Nikola Jokic               C     42.0      38        19        8  0.500   \n",
      "84  Nikola Jokic               C     38.0      36        21       11  0.538   \n",
      "85  Nikola Jokic               C     40.0      36        17       10  0.646   \n",
      "86  Nikola Jokic               C     37.0      22        15       10  0.313   \n",
      "87  Nikola Jokic               C     35.0      32        16        9  0.391   \n",
      "\n",
      "    fg3a  fg3m  fg3_pct  fga  fgm  fta  ft_pct        date  \n",
      "0      5     1    0.200   21   12    0   0.000  2024-04-29  \n",
      "1      5     2    0.400   20   10   11   1.000  2024-04-27  \n",
      "2      1     0    0.000   13    9    7   0.857  2024-04-25  \n",
      "3      4     2    0.500   16    9    7   1.000  2024-04-22  \n",
      "4      3     1    0.333   23   15    2   0.500  2024-04-20  \n",
      "..   ...   ...      ...  ...  ...  ...     ...         ...  \n",
      "83     8     3    0.375   31   14   11   0.636  2023-11-24  \n",
      "84     6     2    0.333   26   13    8   1.000  2023-11-12  \n",
      "85     8     3    0.375   24   14    6   0.833  2024-04-04  \n",
      "86     7     2    0.286   32    9    2   1.000  2023-12-06  \n",
      "87     7     2    0.286   23    8   14   1.000  2023-11-14  \n",
      "\n",
      "[88 rows x 15 columns]\n"
     ]
    }
   ],
   "source": [
    "\n",
    "# Query to join four tables with correct join conditions and multiple filters\n",
    "def get_and_save_player_data(player_id, player_name):\n",
    "    data = session.query(\n",
    "        Player,\n",
    "        TradPlayerStats,\n",
    "        AdvPlayerStats,\n",
    "        Game\n",
    "    ).join(Game, TradPlayerStats.game_id == Game.id)\\\n",
    "    .join(Player, TradPlayerStats.player_id == Player.id)\\\n",
    "    .join(AdvPlayerStats, and_(TradPlayerStats.game_id == AdvPlayerStats.game_id, \n",
    "                                TradPlayerStats.player_id == AdvPlayerStats.player_id))\\\n",
    "    .filter(\n",
    "        (TradPlayerStats.player_id == player_id)# &\n",
    "        #  (Game.season_type == \"Playoffs\")\n",
    "    ).all()\n",
    "\n",
    "    # Convert the query result to a DataFrame\n",
    "    data_list = []\n",
    "    for player, trad_stats, adv_stats, game in data:\n",
    "        row = {\n",
    "            'player_name': player.name,\n",
    "            'player_position': player.position,\n",
    "            'minutes': trad_stats.minutes,\n",
    "            'points': trad_stats.pts,\n",
    "            'rebounds': trad_stats.reb,\n",
    "            'assists': trad_stats.ast,\n",
    "            'efg': adv_stats.efg_pct,\n",
    "            'fg3a': trad_stats.fg3a,\n",
    "            'fg3m': trad_stats.fg3m,\n",
    "            'fg3_pct': trad_stats.fg3_pct,\n",
    "            'fga': trad_stats.fga,\n",
    "            'fgm': trad_stats.fgm,\n",
    "            'fta': trad_stats.fta,\n",
    "            'ft_pct': trad_stats.ft_pct, \n",
    "            'date': game.date,\n",
    "\n",
    "        }\n",
    "        data_list.append(row)\n",
    "\n",
    "    data_df = pd.DataFrame(data_list)\n",
    "\n",
    "    data_df.to_csv(\"data_pile/{player_name}.csv\")\n",
    "    return data_df\n"
   ]
  },
  {
   "cell_type": "code",
   "execution_count": 8,
   "metadata": {},
   "outputs": [],
   "source": [
    "data_df = pd.DataFrame(data_list)\n",
    "data_df.to_csv('data.csv')"
   ]
  }
 ],
 "metadata": {
  "kernelspec": {
   "display_name": "nba_01-7yhASJUA",
   "language": "python",
   "name": "python3"
  },
  "language_info": {
   "codemirror_mode": {
    "name": "ipython",
    "version": 3
   },
   "file_extension": ".py",
   "mimetype": "text/x-python",
   "name": "python",
   "nbconvert_exporter": "python",
   "pygments_lexer": "ipython3",
   "version": "3.12.3"
  }
 },
 "nbformat": 4,
 "nbformat_minor": 2
}
