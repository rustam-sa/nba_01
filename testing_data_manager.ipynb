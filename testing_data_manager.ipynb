{
 "cells": [
  {
   "cell_type": "code",
   "execution_count": 1,
   "metadata": {},
   "outputs": [],
   "source": [
    "\n",
    "\n",
    "import pandas as pd\n",
    "from datetime import datetime\n",
    "from nba_api.stats.endpoints import playergamelog\n",
    "from sqlalchemy.dialects.postgresql import insert\n",
    "\n",
    "\n",
    "from models import Team\n",
    "import date_utils as date_mng\n",
    "from data_manager import DataManager\n",
    "data_manager = DataManager()\n",
    "self = data_manager"
   ]
  },
  {
   "cell_type": "code",
   "execution_count": 2,
   "metadata": {},
   "outputs": [
    {
     "name": "stdout",
     "output_type": "stream",
     "text": [
      "An error occurred: HTTPSConnectionPool(host='stats.nba.com', port=443): Read timed out. (read timeout=30)\n",
      "An error occurred: HTTPSConnectionPool(host='stats.nba.com', port=443): Read timed out. (read timeout=30)\n",
      "An error occurred: HTTPSConnectionPool(host='stats.nba.com', port=443): Read timed out. (read timeout=30)\n",
      "An error occurred: HTTPSConnectionPool(host='stats.nba.com', port=443): Read timed out. (read timeout=30)\n",
      "An error occurred: HTTPSConnectionPool(host='stats.nba.com', port=443): Read timed out. (read timeout=30)\n",
      "An error occurred: HTTPSConnectionPool(host='stats.nba.com', port=443): Read timed out. (read timeout=30)\n",
      "An error occurred: HTTPSConnectionPool(host='stats.nba.com', port=443): Read timed out. (read timeout=30)\n",
      "An error occurred: HTTPSConnectionPool(host='stats.nba.com', port=443): Read timed out. (read timeout=30)\n",
      "An error occurred: HTTPSConnectionPool(host='stats.nba.com', port=443): Read timed out. (read timeout=30)\n",
      "An error occurred: HTTPSConnectionPool(host='stats.nba.com', port=443): Read timed out. (read timeout=30)\n",
      "An error occurred: HTTPSConnectionPool(host='stats.nba.com', port=443): Read timed out. (read timeout=30)\n"
     ]
    }
   ],
   "source": [
    "players = self.pull_players()"
   ]
  },
  {
   "cell_type": "code",
   "execution_count": null,
   "metadata": {},
   "outputs": [],
   "source": [
    "    @session_management\n",
    "    def update_player_record(self, session, player):\n",
    "        insert_stmt = insert(Player).values(\n",
    "            nba_team_id = team[\"id\"],\n",
    "            nickname = team[\"nickname\"],\n",
    "            city = team[\"city\"],\n",
    "            state = team[\"state\"],\n",
    "            full_name = team[\"full_name\"],\n",
    "            abbreviation = team[\"abbreviation\"],\n",
    "            )\n",
    "\n",
    "        do_update_stmt = insert_stmt.on_conflict_do_update(\n",
    "            index_elements=['nba_team_id'], # possible conflicting column\n",
    "            set_=dict(\n",
    "                nickname=insert_stmt.excluded.nickname,\n",
    "                city=insert_stmt.excluded.city,\n",
    "                state=insert_stmt.excluded.state,\n",
    "                full_name=insert_stmt.excluded.full_name,\n",
    "                abbreviation=insert_stmt.excluded.abbreviation\n",
    "            )\n",
    "        )\n",
    "\n",
    "        session.execute(do_update_stmt)\n",
    "        session.commit()\n"
   ]
  },
  {
   "cell_type": "code",
   "execution_count": null,
   "metadata": {},
   "outputs": [],
   "source": [
    "@session_management\n",
    "def update_team_record(self, session, team):\n",
    "    insert_stmt = insert(Team).values(\n",
    "        nba_team_id = team[\"id\"],\n",
    "        nickname = team[\"nickname\"],\n",
    "        city = team[\"city\"],\n",
    "        state = team[\"state\"],\n",
    "        full_name = team[\"full_name\"],\n",
    "        abbreviation = team[\"abbreviation\"],\n",
    "    )\n",
    "\n",
    "    do_update_stmt = insert_stmt.on_conflict_do_update(\n",
    "        index_elements=['nba_team_id'], # possible conflicting column\n",
    "        set_=dict(\n",
    "            nickname=insert_stmt.excluded.nickname,\n",
    "            city=insert_stmt.excluded.city,\n",
    "            state=insert_stmt.excluded.state,\n",
    "            full_name=insert_stmt.excluded.full_name,\n",
    "            abbreviation=insert_stmt.excluded.abbreviation\n",
    "        )\n",
    "    )\n",
    "\n",
    "    session.execute(do_update_stmt)\n",
    "    session.commit()"
   ]
  }
 ],
 "metadata": {
  "kernelspec": {
   "display_name": "nba_01-7yhASJUA",
   "language": "python",
   "name": "python3"
  },
  "language_info": {
   "codemirror_mode": {
    "name": "ipython",
    "version": 3
   },
   "file_extension": ".py",
   "mimetype": "text/x-python",
   "name": "python",
   "nbconvert_exporter": "python",
   "pygments_lexer": "ipython3",
   "version": "3.12.3"
  }
 },
 "nbformat": 4,
 "nbformat_minor": 2
}
