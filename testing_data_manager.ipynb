{
 "cells": [
  {
   "cell_type": "code",
   "execution_count": 1,
   "metadata": {},
   "outputs": [],
   "source": [
    "import pandas as pd\n",
    "from datetime import datetime\n",
    "from nba_api.stats.endpoints import playergamelog\n",
    "from sqlalchemy.dialects.postgresql import insert\n",
    "\n",
    "\n",
    "from models import Game\n",
    "import date_utils as date_mng\n",
    "from data_manager import DataManager\n",
    "data_manager = DataManager()\n",
    "self = data_manager"
   ]
  },
  {
   "cell_type": "code",
   "execution_count": 2,
   "metadata": {},
   "outputs": [
    {
     "name": "stdout",
     "output_type": "stream",
     "text": [
      "[<models.Team object at 0x000001DD7E956BD0>, <models.Team object at 0x000001DD7E956DE0>, <models.Team object at 0x000001DD7E956F90>, <models.Team object at 0x000001DD7E956330>, <models.Team object at 0x000001DD7E956480>, <models.Team object at 0x000001DD7E956BA0>, <models.Team object at 0x000001DD7E9577A0>, <models.Team object at 0x000001DD7E955700>, <models.Team object at 0x000001DD7E956000>, <models.Team object at 0x000001DD7E956210>, <models.Team object at 0x000001DD7E9560F0>, <models.Team object at 0x000001DD7E955970>, <models.Team object at 0x000001DD7E955AC0>, <models.Team object at 0x000001DD7E955C70>, <models.Team object at 0x000001DD7E955430>, <models.Team object at 0x000001DD7E9556D0>, <models.Team object at 0x000001DD7E954D10>, <models.Team object at 0x000001DD7E955AF0>, <models.Team object at 0x000001DD7E955E50>, <models.Team object at 0x000001DD7E954AD0>, <models.Team object at 0x000001DD7E954C20>, <models.Team object at 0x000001DD7E9552B0>, <models.Team object at 0x000001DD7E954260>, <models.Team object at 0x000001DD7E9547A0>, <models.Team object at 0x000001DD7E9549B0>, <models.Team object at 0x000001DD7E954530>, <models.Team object at 0x000001DD7E954140>, <models.Team object at 0x000001DD7E957C80>, <models.Team object at 0x000001DD7E954200>, <models.Team object at 0x000001DD7E954440>]\n"
     ]
    }
   ],
   "source": [
    "teams = self.query_teams()\n",
    "season_type = \"Playoffs\"\n",
    "season = \"2023-24\"\n",
    "team = teams[1]\n",
    "print(teams)\n"
   ]
  },
  {
   "cell_type": "code",
   "execution_count": 3,
   "metadata": {},
   "outputs": [
    {
     "name": "stderr",
     "output_type": "stream",
     "text": [
      "e:\\coding_projects\\nba_01\\data_manager.py:216: FutureWarning: The behavior of DataFrame concatenation with empty or all-NA entries is deprecated. In a future version, this will no longer exclude empty or all-NA columns when determining the result dtypes. To retain the old behavior, exclude the relevant entries before the concat operation.\n",
      "  all_games = pd.concat(all_games, axis=0, ignore_index=True)\n"
     ]
    }
   ],
   "source": [
    "games = self.pull_all_games_from_season(season, season_type)\n",
    "\n"
   ]
  },
  {
   "cell_type": "code",
   "execution_count": 4,
   "metadata": {},
   "outputs": [],
   "source": [
    "#for game in games:\n",
    "for _, game in games.iterrows():\n",
    "    break"
   ]
  },
  {
   "cell_type": "code",
   "execution_count": 5,
   "metadata": {},
   "outputs": [],
   "source": [
    "nba_game_id = game['GAME_ID']\n",
    "adv_player_stats, adv_team_stats = self.pull_advanced_stats_for_game(nba_game_id)\n",
    "trad_player_stats, trad_team_stats = self.pull_traditional_stats_for_game(nba_game_id)"
   ]
  },
  {
   "cell_type": "code",
   "execution_count": 6,
   "metadata": {},
   "outputs": [],
   "source": [
    "\n",
    "db_game_id = self.sync_game(game, season, season_type)\n"
   ]
  },
  {
   "cell_type": "code",
   "execution_count": 7,
   "metadata": {},
   "outputs": [],
   "source": [
    "trad_team_stats_ids = self.sync_trad_team_stats(trad_team_stats=trad_team_stats, db_game_id=db_game_id)"
   ]
  },
  {
   "cell_type": "code",
   "execution_count": 9,
   "metadata": {},
   "outputs": [],
   "source": [
    "adv_team_stats_ids = self.sync_adv_team_stats(adv_team_stats=adv_team_stats, db_game_id=db_game_id)"
   ]
  },
  {
   "cell_type": "code",
   "execution_count": 10,
   "metadata": {},
   "outputs": [],
   "source": [
    "trad_player_stats_ids = self.sync_trad_player_stats(trad_player_stats=trad_player_stats, db_game_id=db_game_id)"
   ]
  },
  {
   "cell_type": "code",
   "execution_count": null,
   "metadata": {},
   "outputs": [],
   "source": [
    "adv_player_stats_ids = self.sync_adv_player_stats(adv_player_stats=adv_player_stats, db_game_id=db_game_id)"
   ]
  }
 ],
 "metadata": {
  "kernelspec": {
   "display_name": "nba_01-7yhASJUA",
   "language": "python",
   "name": "python3"
  },
  "language_info": {
   "codemirror_mode": {
    "name": "ipython",
    "version": 3
   },
   "file_extension": ".py",
   "mimetype": "text/x-python",
   "name": "python",
   "nbconvert_exporter": "python",
   "pygments_lexer": "ipython3",
   "version": "3.12.3"
  }
 },
 "nbformat": 4,
 "nbformat_minor": 2
}
