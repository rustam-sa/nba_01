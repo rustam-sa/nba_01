{
 "cells": [
  {
   "cell_type": "code",
   "execution_count": 15,
   "metadata": {},
   "outputs": [],
   "source": [
    "from data_manager import DataManager\n",
    "dm = DataManager()"
   ]
  },
  {
   "cell_type": "code",
   "execution_count": 16,
   "metadata": {},
   "outputs": [],
   "source": [
    "player_id = dm.get_player_id(\"Luka Doncic\")\n",
    "team_id = dm.get_player_team_id(\"Luka Doncic\")\n",
    "player_data = dm.get_and_save_player_data(player_id)"
   ]
  },
  {
   "cell_type": "code",
   "execution_count": 17,
   "metadata": {},
   "outputs": [],
   "source": [
    " \n",
    "stat = \"e_def_rating\"\n",
    "window_size = 15\n"
   ]
  },
  {
   "cell_type": "code",
   "execution_count": 18,
   "metadata": {},
   "outputs": [],
   "source": [
    "def get_rolling_stat(team_id, stat, window_size):\n",
    "    team_data = dm.get_and_save_team_data(team_id)\n",
    "    team_data = team_data.sort_values(by=\"date\", ascending=True).reset_index(drop=True)\n",
    "    rolling_stat = team_data[stat].rolling(window=window_size).mean().shift(1)\n",
    "    rolling_stat.name = f'rolling_{stat}_window_{window_size}'\n",
    "    return rolling_stat\n",
    "\n",
    "\n",
    "test = get_rolling_stat(team_id, stat, window_size)"
   ]
  },
  {
   "cell_type": "code",
   "execution_count": 19,
   "metadata": {},
   "outputs": [
    {
     "name": "stdout",
     "output_type": "stream",
     "text": [
      "0            NaN\n",
      "1            NaN\n",
      "2            NaN\n",
      "3            NaN\n",
      "4            NaN\n",
      "         ...    \n",
      "90    107.726667\n",
      "91    108.566667\n",
      "92    108.600000\n",
      "93    107.526667\n",
      "94    108.293333\n",
      "Name: rolling_e_def_rating_window_15, Length: 95, dtype: float64\n"
     ]
    }
   ],
   "source": []
  }
 ],
 "metadata": {
  "kernelspec": {
   "display_name": "nba_01-7yhASJUA",
   "language": "python",
   "name": "python3"
  },
  "language_info": {
   "codemirror_mode": {
    "name": "ipython",
    "version": 3
   },
   "file_extension": ".py",
   "mimetype": "text/x-python",
   "name": "python",
   "nbconvert_exporter": "python",
   "pygments_lexer": "ipython3",
   "version": "3.12.3"
  }
 },
 "nbformat": 4,
 "nbformat_minor": 2
}
