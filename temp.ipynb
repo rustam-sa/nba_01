{
 "cells": [
  {
   "cell_type": "code",
   "execution_count": 6,
   "metadata": {},
   "outputs": [
    {
     "name": "stdout",
     "output_type": "stream",
     "text": [
      "False\n"
     ]
    }
   ],
   "source": [
    "from common_nba_api_functions import rate_limited_request\n",
    "from common_db_functions import get_players_filtered_by_team_playoff_participation\n",
    "from db_config import get_session\n",
    "from models import Player\n",
    "season = \"2023-24\"\n",
    "season_type = \"Playoffs\"\n",
    "players = get_players_filtered_by_team_playoff_participation(season, season_type)\n",
    "player_ids = [player.player_id for player in players]\n",
    "session = get_session()\n",
    "\n",
    "player_names = [session.query(Player).filter(Player.player_id == player_id).one_or_none().name for player_id in player_ids]\n",
    "session.close()\n",
    "\n",
    "print(\"db_player\" in player_names)\n",
    "\n",
    "\n"
   ]
  },
  {
   "cell_type": "code",
   "execution_count": 8,
   "metadata": {},
   "outputs": [
    {
     "name": "stdout",
     "output_type": "stream",
     "text": [
      "(datetime.datetime(2024, 5, 11, 0, 0), '05/11/2024')\n"
     ]
    }
   ],
   "source": [
    "from datetime import datetime\n",
    "\n",
    "\n",
    "def enforce_date_format(date_str):\n",
    "    try:\n",
    "        # Parse the date string into a datetime object\n",
    "        date_obj = datetime.strptime(date_str, \"%m/%d/%Y\")\n",
    "        # Return the date object and formatted string\n",
    "        return date_obj, date_obj.strftime(\"%m/%d/%Y\")\n",
    "    except ValueError:\n",
    "        return \"Error: The date must be in MM/DD/YYYY format.\"\n",
    "\n",
    "# Example usage\n",
    "input_date = \"05/11/2024\"\n",
    "result = enforce_date_format(input_date)\n",
    "print(result)"
   ]
  },
  {
   "cell_type": "code",
   "execution_count": 15,
   "metadata": {},
   "outputs": [
    {
     "ename": "SyntaxError",
     "evalue": "'(' was never closed (2659354184.py, line 8)",
     "output_type": "error",
     "traceback": [
      "\u001b[1;36m  Cell \u001b[1;32mIn[15], line 8\u001b[1;36m\u001b[0m\n\u001b[1;33m    ten_days_ago = int(datetime.strptime(date.today(), \"%m/%d/%Y\") - 10 * 60 * 60 * 24\u001b[0m\n\u001b[1;37m                      ^\u001b[0m\n\u001b[1;31mSyntaxError\u001b[0m\u001b[1;31m:\u001b[0m '(' was never closed\n"
     ]
    }
   ],
   "source": [
    "from datetime import date\n",
    "\n",
    "\n",
    "\n",
    "\n",
    "today = get_todays_date_formatted()\n",
    "print(today)\n",
    "ten_days_ago = int(datetime.strptime(date.today(), \"%m/%d/%Y\") - 10 * 60 * 60 * 24\n",
    "print(ten_days_ago)"
   ]
  }
 ],
 "metadata": {
  "kernelspec": {
   "display_name": "nba_01-7yhASJUA",
   "language": "python",
   "name": "python3"
  },
  "language_info": {
   "codemirror_mode": {
    "name": "ipython",
    "version": 3
   },
   "file_extension": ".py",
   "mimetype": "text/x-python",
   "name": "python",
   "nbconvert_exporter": "python",
   "pygments_lexer": "ipython3",
   "version": "3.12.3"
  }
 },
 "nbformat": 4,
 "nbformat_minor": 2
}
