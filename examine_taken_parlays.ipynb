{
 "cells": [
  {
   "cell_type": "code",
   "execution_count": 5,
   "metadata": {},
   "outputs": [
    {
     "name": "stdout",
     "output_type": "stream",
     "text": [
      "Directory already exists: e:\\coding_projects\\nba_01\\days\n",
      "Directory already exists: e:\\coding_projects\\nba_01\\days\\2024-05-22\n"
     ]
    }
   ],
   "source": [
    "import pandas as pd\n",
    "import date_utils as dt_mng\n",
    "today_dir = dt_mng.get_or_create_directory_in_days()"
   ]
  },
  {
   "cell_type": "code",
   "execution_count": 8,
   "metadata": {},
   "outputs": [
    {
     "name": "stdout",
     "output_type": "stream",
     "text": [
      "                                       count     count\n",
      "PROPS                                                 \n",
      "Naz Reid-points-over                      10  0.434783\n",
      "Nickeil Alexander-Walker-points-over      10  0.434783\n",
      "Nickeil Alexander-Walker-fgm-over         10  0.434783\n",
      "Kyrie Irving-points-over                   8  0.347826\n",
      "Daniel Gafford-assists-over                8  0.347826\n",
      "Mike Conley-points-over                    7  0.304348\n",
      "Anthony Edwards-blocks-under               7  0.304348\n",
      "Naz Reid-fgm-over                          7  0.304348\n",
      "Daniel Gafford-points-over                 7  0.304348\n",
      "Daniel Gafford-fgm-over                    7  0.304348\n",
      "Luka Doncic-rebounds-over                  6  0.260870\n",
      "Anthony Edwards-points-under               6  0.260870\n",
      "Derrick Jones Jr.-blocks-over              5  0.217391\n",
      "Dereck Lively II-steals-under              4  0.173913\n",
      "Karl-Anthony Towns-assists-under           4  0.173913\n",
      "Mike Conley-assists-under                  3  0.130435\n",
      "Karl-Anthony Towns-points-under            3  0.130435\n",
      "Kyrie Irving-fgm-over                      3  0.130435\n",
      "Nickeil Alexander-Walker-assists-over      3  0.130435\n",
      "Jaden McDaniels-points-over                3  0.130435\n",
      "Luka Doncic-steals-under                   2  0.086957\n",
      "Naz Reid-assists-over                      2  0.086957\n",
      "Kyrie Irving-rebounds-over                 2  0.086957\n",
      "Jaden McDaniels-assists-under              2  0.086957\n",
      "Derrick Jones Jr.-fg3m-under               2  0.086957\n",
      "Mike Conley-fgm-over                       2  0.086957\n",
      "Dereck Lively II-fgm-over                  2  0.086957\n",
      "Naz Reid-rebounds-over                     1  0.043478\n",
      "Jaden McDaniels-steals-under               1  0.043478\n",
      "Jaden McDaniels-fg3m-under                 1  0.043478\n"
     ]
    }
   ],
   "source": [
    "taken_parlays = pd.read_csv(f\"{today_dir}/taken_parlays.csv\", index_col=0)\n",
    "appearance_counts = taken_parlays['PROPS'].value_counts()\n",
    "count_of_parlays = len(taken_parlays['PARLAY_ID'].unique())\n",
    "percentages = pd.Series(appearance_counts/count_of_parlays)\n",
    "parlay_distribution = pd.concat([appearance_counts, percentages], axis=1)\n",
    "print(parlay_distribution)"
   ]
  }
 ],
 "metadata": {
  "kernelspec": {
   "display_name": "nba_01-7yhASJUA",
   "language": "python",
   "name": "python3"
  },
  "language_info": {
   "codemirror_mode": {
    "name": "ipython",
    "version": 3
   },
   "file_extension": ".py",
   "mimetype": "text/x-python",
   "name": "python",
   "nbconvert_exporter": "python",
   "pygments_lexer": "ipython3",
   "version": "3.12.3"
  }
 },
 "nbformat": 4,
 "nbformat_minor": 2
}
