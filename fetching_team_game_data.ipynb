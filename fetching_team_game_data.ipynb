{
 "cells": [
  {
   "cell_type": "code",
   "execution_count": 1,
   "metadata": {},
   "outputs": [],
   "source": [
    "import pandas as pd\n",
    "\n",
    "from nba_api.stats.static import teams\n",
    "from nba_api.stats.endpoints import leaguegamefinder\n",
    "from sqlalchemy.orm import sessionmaker\n",
    "\n",
    "from models import Team\n",
    "from db_config import get_session\n",
    "session = get_session()"
   ]
  },
  {
   "cell_type": "code",
   "execution_count": 2,
   "metadata": {},
   "outputs": [],
   "source": [
    "teams = session.query(Team).all()\n",
    "session.close()"
   ]
  },
  {
   "cell_type": "code",
   "execution_count": 3,
   "metadata": {},
   "outputs": [
    {
     "name": "stdout",
     "output_type": "stream",
     "text": [
      "[1610612737, 1610612738, 1610612739, 1610612740, 1610612741, 1610612742, 1610612743, 1610612744, 1610612745, 1610612746, 1610612747, 1610612748, 1610612749, 1610612750, 1610612751, 1610612752, 1610612753, 1610612754, 1610612755, 1610612756, 1610612757, 1610612758, 1610612759, 1610612760, 1610612761, 1610612762, 1610612763, 1610612764, 1610612765, 1610612766]\n"
     ]
    }
   ],
   "source": [
    "team_ids = [team.id for team in teams]\n",
    "print(team_ids)"
   ]
  },
  {
   "cell_type": "code",
   "execution_count": 4,
   "metadata": {},
   "outputs": [],
   "source": [
    "def get_2023_2024_by_team_id(team_id):\n",
    "    try:\n",
    "        # Create the game finder instance with season and season type specified\n",
    "        gamefinder = leaguegamefinder.LeagueGameFinder(team_id_nullable=team_id, season_nullable=\"2023-24\", season_type_nullable=\"Regular Season\")\n",
    "        \n",
    "        # Get the data and convert to DataFrame\n",
    "        games_df = gamefinder.get_data_frames()[0]\n",
    "        return games_df\n",
    "        # Display the DataFrame\n",
    "        print(games_df.head())\n",
    "    except Exception as e:\n",
    "        print(f\"An error occurred: {e}\")\n",
    "        # Optionally, print out the raw API response for debugging\n",
    "        print(gamefinder.get_json())\n",
    "\n"
   ]
  },
  {
   "cell_type": "code",
   "execution_count": 5,
   "metadata": {},
   "outputs": [],
   "source": [
    "games_by_teams = [get_2023_2024_by_team_id(team_id) for team_id in team_ids]\n"
   ]
  },
  {
   "cell_type": "code",
   "execution_count": 6,
   "metadata": {},
   "outputs": [
    {
     "name": "stdout",
     "output_type": "stream",
     "text": [
      "  SEASON_ID     TEAM_ID TEAM_ABBREVIATION      TEAM_NAME     GAME_ID  \\\n",
      "0     22023  1610612737               ATL  Atlanta Hawks  0022301188   \n",
      "1     22023  1610612737               ATL  Atlanta Hawks  0022301178   \n",
      "2     22023  1610612737               ATL  Atlanta Hawks  0022301159   \n",
      "3     22023  1610612737               ATL  Atlanta Hawks  0022301147   \n",
      "4     22023  1610612737               ATL  Atlanta Hawks  0022301130   \n",
      "\n",
      "    GAME_DATE      MATCHUP WL  MIN  PTS  ...  FT_PCT  OREB  DREB  REB  AST  \\\n",
      "0  2024-04-14    ATL @ IND  L  241  115  ...   0.926     9    23   32   25   \n",
      "1  2024-04-12    ATL @ MIN  L  240  106  ...   0.680     9    31   40   23   \n",
      "2  2024-04-10  ATL vs. CHA  L  240  114  ...   0.625     7    31   38   35   \n",
      "3  2024-04-09  ATL vs. MIA  L  292  111  ...   0.786    17    42   59   28   \n",
      "4  2024-04-06    ATL @ DEN  L  240  110  ...   0.828    11    27   38   30   \n",
      "\n",
      "   STL  BLK  TOV  PF  PLUS_MINUS  \n",
      "0    6    5   15  12       -42.0  \n",
      "1    4    1   14  25        -3.0  \n",
      "2    7    2   16  20        -1.0  \n",
      "3   13    2   15  23        -6.0  \n",
      "4    8    2   16  18       -32.0  \n",
      "\n",
      "[5 rows x 28 columns]\n"
     ]
    }
   ],
   "source": [
    "games = pd.concat(games_by_teams, axis=0)\n",
    "print(games.head())"
   ]
  },
  {
   "cell_type": "code",
   "execution_count": 7,
   "metadata": {},
   "outputs": [],
   "source": [
    "from datetime import datetime\n",
    "from models import Game, TeamStats\n",
    "\n",
    "\n",
    "for index, row in games.iterrows():\n",
    "    game_date = datetime.strptime(row['GAME_DATE'], '%Y-%m-%d')\n",
    "\n",
    "    # Check if the game already exists\n",
    "    game = session.query(Game).filter_by(id=row['GAME_ID']).first()\n",
    "    if not game:\n",
    "        game = Game(id=row['GAME_ID'], date=game_date,\n",
    "                    home_team_id=row['TEAM_ID'] if 'vs.' in row['MATCHUP'] else None,\n",
    "                    away_team_id=row['TEAM_ID'] if '@' in row['MATCHUP'] else None)\n",
    "        session.add(game)\n",
    "\n",
    "    # Check if TeamStats already exists for this game and team\n",
    "    team_stats = session.query(TeamStats).filter_by(game_id=row['GAME_ID'], team_id=row['TEAM_ID']).first()\n",
    "    if not team_stats:\n",
    "        # Create new TeamStats if none exist\n",
    "        team_stats = TeamStats(\n",
    "            game=game,\n",
    "            team_id=row['TEAM_ID']\n",
    "        )\n",
    "        session.add(team_stats)\n",
    "\n",
    "    # Update existing or new TeamStats with current data\n",
    "    team_stats.points=row['PTS']\n",
    "    team_stats.field_goals_made=row['FGM']\n",
    "    team_stats.field_goals_attempted=row['FGA']\n",
    "    team_stats.field_goal_percentage=row['FG_PCT']\n",
    "    team_stats.three_point_field_goals_made=row['FG3M']\n",
    "    team_stats.three_point_field_goals_attempted=row['FG3A']\n",
    "    team_stats.three_point_field_goal_percentage=row['FG3_PCT']\n",
    "    team_stats.free_throws_made=row['FTM']\n",
    "    team_stats.free_throws_attempted=row['FTA']\n",
    "    team_stats.free_throw_percentage=row['FT_PCT']\n",
    "    team_stats.offensive_rebounds=row['OREB']\n",
    "    team_stats.defensive_rebounds=row['DREB']\n",
    "    team_stats.total_rebounds=row['REB']\n",
    "    team_stats.assists=row['AST']\n",
    "    team_stats.steals=row['STL']\n",
    "    team_stats.blocks=row['BLK']\n",
    "    team_stats.turnovers=row['TOV']\n",
    "    team_stats.personal_fouls=row['PF']\n",
    "    team_stats.plus_minus=row['PLUS_MINUS']\n",
    "\n",
    "session.commit()\n"
   ]
  }
 ],
 "metadata": {
  "kernelspec": {
   "display_name": "nba_01-7yhASJUA",
   "language": "python",
   "name": "python3"
  },
  "language_info": {
   "codemirror_mode": {
    "name": "ipython",
    "version": 3
   },
   "file_extension": ".py",
   "mimetype": "text/x-python",
   "name": "python",
   "nbconvert_exporter": "python",
   "pygments_lexer": "ipython3",
   "version": "3.12.3"
  }
 },
 "nbformat": 4,
 "nbformat_minor": 2
}
