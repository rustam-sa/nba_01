{
 "cells": [
  {
   "cell_type": "code",
   "execution_count": 1,
   "metadata": {},
   "outputs": [],
   "source": [
    "import pandas as pd\n",
    "\n",
    "from nba_api.stats.static import teams\n",
    "from nba_api.stats.endpoints import leaguegamefinder\n",
    "from sqlalchemy.orm import sessionmaker\n",
    "\n",
    "from models import Team\n",
    "from db_config import get_session\n",
    "session = get_session()"
   ]
  },
  {
   "cell_type": "code",
   "execution_count": 2,
   "metadata": {},
   "outputs": [],
   "source": [
    "teams = session.query(Team).all()\n",
    "session.close()"
   ]
  },
  {
   "cell_type": "code",
   "execution_count": 3,
   "metadata": {},
   "outputs": [],
   "source": [
    "team_ids = [team.id for team in teams]\n",
    "season_type = \"Playoffs\"\n",
    "season = \"2023-24\""
   ]
  },
  {
   "cell_type": "code",
   "execution_count": 4,
   "metadata": {},
   "outputs": [],
   "source": [
    "def get_2023_2024_by_team_id(team_id):\n",
    "    try:\n",
    "        # Create the game finder instance with season and season type specified\n",
    "        gamefinder = leaguegamefinder.LeagueGameFinder(team_id_nullable=team_id, season_nullable=season, season_type_nullable=season_type)\n",
    "        \n",
    "        # Get the data and convert to DataFrame\n",
    "        games_df = gamefinder.get_data_frames()[0]\n",
    "        return games_df\n",
    "        # Display the DataFrame\n",
    "        print(games_df.head())\n",
    "    except Exception as e:\n",
    "        print(f\"An error occurred: {e}\")\n",
    "        # Optionally, print out the raw API response for debugging\n",
    "        print(gamefinder.get_json())\n",
    "\n"
   ]
  },
  {
   "cell_type": "code",
   "execution_count": 5,
   "metadata": {},
   "outputs": [
    {
     "name": "stdout",
     "output_type": "stream",
     "text": [
      "Index(['SEASON_ID', 'TEAM_ID', 'TEAM_ABBREVIATION', 'TEAM_NAME', 'GAME_ID',\n",
      "       'GAME_DATE', 'MATCHUP', 'WL', 'MIN', 'PTS', 'FGM', 'FGA', 'FG_PCT',\n",
      "       'FG3M', 'FG3A', 'FG3_PCT', 'FTM', 'FTA', 'FT_PCT', 'OREB', 'DREB',\n",
      "       'REB', 'AST', 'STL', 'BLK', 'TOV', 'PF', 'PLUS_MINUS'],\n",
      "      dtype='object')\n",
      "  SEASON_ID     TEAM_ID TEAM_ABBREVIATION         TEAM_NAME     GAME_ID  \\\n",
      "0     42023  1610612742               DAL  Dallas Mavericks  0042300223   \n",
      "1     42023  1610612742               DAL  Dallas Mavericks  0042300222   \n",
      "2     42023  1610612742               DAL  Dallas Mavericks  0042300221   \n",
      "3     42023  1610612742               DAL  Dallas Mavericks  0042300176   \n",
      "4     42023  1610612742               DAL  Dallas Mavericks  0042300175   \n",
      "5     42023  1610612742               DAL  Dallas Mavericks  0042300174   \n",
      "6     42023  1610612742               DAL  Dallas Mavericks  0042300173   \n",
      "7     42023  1610612742               DAL  Dallas Mavericks  0042300172   \n",
      "8     42023  1610612742               DAL  Dallas Mavericks  0042300171   \n",
      "\n",
      "    GAME_DATE      MATCHUP WL  MIN  PTS  ...  FT_PCT  OREB  DREB  REB  AST  \\\n",
      "0  2024-05-11  DAL vs. OKC  W  241  105  ...   0.640    15    33   48   21   \n",
      "1  2024-05-09    DAL @ OKC  W  238  119  ...   0.708    12    32   44   30   \n",
      "2  2024-05-07    DAL @ OKC  L  240   95  ...   0.680    11    28   39   19   \n",
      "3  2024-05-03  DAL vs. LAC  W  238  114  ...   0.667    18    27   45   26   \n",
      "4  2024-05-01    DAL @ LAC  W  241  123  ...   0.750     9    31   40   27   \n",
      "5  2024-04-28  DAL vs. LAC  L  241  111  ...   0.800    14    28   42   22   \n",
      "6  2024-04-26  DAL vs. LAC  W  240  101  ...   0.737    11    25   36   21   \n",
      "7  2024-04-23    DAL @ LAC  W  239   96  ...   0.667    11    39   50   17   \n",
      "8  2024-04-21    DAL @ LAC  L  241   97  ...   0.758     9    32   41   14   \n",
      "\n",
      "   STL  BLK  TOV  PF  PLUS_MINUS  \n",
      "0    7    2   13  16         2.6  \n",
      "1    8    6   10  21         9.0  \n",
      "2    5    8   15  21       -22.0  \n",
      "3    6    4    9  24        13.0  \n",
      "4    5    6    8  22        30.0  \n",
      "5    5    5   16  21        -5.0  \n",
      "6   12    7    8  16        11.0  \n",
      "7    8    7   13  23         3.0  \n",
      "8    7    9    8  15       -12.0  \n",
      "\n",
      "[9 rows x 28 columns]\n"
     ]
    }
   ],
   "source": [
    "test_games = get_2023_2024_by_team_id(team_ids[5])\n",
    "print(test_games.columns)\n",
    "print(test_games)"
   ]
  },
  {
   "cell_type": "code",
   "execution_count": 6,
   "metadata": {},
   "outputs": [
    {
     "name": "stderr",
     "output_type": "stream",
     "text": [
      "C:\\Users\\rusta\\AppData\\Local\\Temp\\ipykernel_25680\\3298023606.py:2: FutureWarning: The behavior of DataFrame concatenation with empty or all-NA entries is deprecated. In a future version, this will no longer exclude empty or all-NA columns when determining the result dtypes. To retain the old behavior, exclude the relevant entries before the concat operation.\n",
      "  games = pd.concat(games_by_teams, axis=0)\n"
     ]
    }
   ],
   "source": [
    "games_by_teams = [get_2023_2024_by_team_id(team_id) for team_id in team_ids]\n",
    "games = pd.concat(games_by_teams, axis=0)"
   ]
  },
  {
   "cell_type": "code",
   "execution_count": 7,
   "metadata": {},
   "outputs": [],
   "source": [
    "from datetime import datetime\n",
    "from models import TeamStats, Game\n",
    "\n",
    "\n",
    "for index, row in games.iterrows():\n",
    "    game_date = datetime.strptime(row['GAME_DATE'], '%Y-%m-%d')\n",
    "\n",
    "    # Check if the game already exists\n",
    "    game = session.query(Game).filter_by(id=row['GAME_ID']).first()\n",
    "    if not game:\n",
    "        game = Game(id=row['GAME_ID'], date=game_date,\n",
    "                    season = season, \n",
    "                    season_type = season_type,\n",
    "                    home_team_id=row['TEAM_ID'] if 'vs.' in row['MATCHUP'] else None,\n",
    "                    away_team_id=row['TEAM_ID'] if '@' in row['MATCHUP'] else None)\n",
    "        session.add(game)\n",
    "\n",
    "    # Check if TeamStats already exists for this game and team\n",
    "    team_stats = session.query(TeamStats).filter_by(game_id=row['GAME_ID'], team_id=row['TEAM_ID']).first()\n",
    "    if not team_stats:\n",
    "        # Create new TeamStats if none exist\n",
    "        team_stats = TeamStats(\n",
    "            game=game,\n",
    "            team_id=row['TEAM_ID']\n",
    "        )\n",
    "        session.add(team_stats)\n",
    "\n",
    "    # Update existing or new TeamStats with current data\n",
    "    team_stats.points=row['PTS']\n",
    "    team_stats.field_goals_made=row['FGM']\n",
    "    team_stats.field_goals_attempted=row['FGA']\n",
    "    team_stats.field_goal_percentage=row['FG_PCT']\n",
    "    team_stats.three_point_field_goals_made=row['FG3M']\n",
    "    team_stats.three_point_field_goals_attempted=row['FG3A']\n",
    "    team_stats.three_point_field_goal_percentage=row['FG3_PCT']\n",
    "    team_stats.free_throws_made=row['FTM']\n",
    "    team_stats.free_throws_attempted=row['FTA']\n",
    "    team_stats.free_throw_percentage=row['FT_PCT']\n",
    "    team_stats.offensive_rebounds=row['OREB']\n",
    "    team_stats.defensive_rebounds=row['DREB']\n",
    "    team_stats.total_rebounds=row['REB']\n",
    "    team_stats.assists=row['AST']\n",
    "    team_stats.steals=row['STL']\n",
    "    team_stats.blocks=row['BLK']\n",
    "    team_stats.turnovers=row['TOV']\n",
    "    team_stats.personal_fouls=row['PF']\n",
    "    team_stats.plus_minus=row['PLUS_MINUS']\n",
    "\n",
    "session.commit()\n"
   ]
  }
 ],
 "metadata": {
  "kernelspec": {
   "display_name": "nba_01-7yhASJUA",
   "language": "python",
   "name": "python3"
  },
  "language_info": {
   "codemirror_mode": {
    "name": "ipython",
    "version": 3
   },
   "file_extension": ".py",
   "mimetype": "text/x-python",
   "name": "python",
   "nbconvert_exporter": "python",
   "pygments_lexer": "ipython3",
   "version": "3.12.3"
  }
 },
 "nbformat": 4,
 "nbformat_minor": 2
}
