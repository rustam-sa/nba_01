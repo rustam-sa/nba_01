{
 "cells": [
  {
   "cell_type": "code",
   "execution_count": null,
   "metadata": {},
   "outputs": [],
   "source": [
    "import pandas as pd\n",
    "\n",
    "from nba_api.stats.static import teams\n",
    "from nba_api.stats.endpoints import leaguegamefinder\n",
    "from sqlalchemy.orm import sessionmaker\n",
    "\n",
    "from models import Team\n",
    "from db_config import get_session\n",
    "session = get_session()"
   ]
  },
  {
   "cell_type": "code",
   "execution_count": null,
   "metadata": {},
   "outputs": [],
   "source": [
    "teams = session.query(Team).all()\n",
    "session.close()"
   ]
  },
  {
   "cell_type": "code",
   "execution_count": null,
   "metadata": {},
   "outputs": [],
   "source": [
    "team_ids = [team.id for team in teams]\n",
    "season_type = \"Regular Season\"\n",
    "season = \"2023-24\""
   ]
  },
  {
   "cell_type": "code",
   "execution_count": null,
   "metadata": {},
   "outputs": [],
   "source": [
    "def get_2023_2024_by_team_id(team_id):\n",
    "    try:\n",
    "        # Create the game finder instance with season and season type specified\n",
    "        gamefinder = leaguegamefinder.LeagueGameFinder(team_id_nullable=team_id, season_nullable=season, season_type_nullable=season_type)\n",
    "        \n",
    "        # Get the data and convert to DataFrame\n",
    "        games_df = gamefinder.get_data_frames()[0]\n",
    "        return games_df\n",
    "        # Display the DataFrame\n",
    "        print(games_df.head())\n",
    "    except Exception as e:\n",
    "        print(f\"An error occurred: {e}\")\n",
    "        # Optionally, print out the raw API response for debugging\n",
    "        print(gamefinder.get_json())\n",
    "\n"
   ]
  },
  {
   "cell_type": "code",
   "execution_count": null,
   "metadata": {},
   "outputs": [],
   "source": [
    "test_games = get_2023_2024_by_team_id(team_ids[5])\n",
    "print(test_games.columns)\n",
    "print(test_games)"
   ]
  },
  {
   "cell_type": "code",
   "execution_count": null,
   "metadata": {},
   "outputs": [],
   "source": [
    "games_by_teams = [get_2023_2024_by_team_id(team_id) for team_id in team_ids]\n",
    "games = pd.concat(games_by_teams, axis=0)"
   ]
  },
  {
   "cell_type": "code",
   "execution_count": null,
   "metadata": {},
   "outputs": [],
   "source": [
    "from datetime import datetime\n",
    "from models import TeamStats, Game\n",
    "\n",
    "\n",
    "for index, row in games.iterrows():\n",
    "    game_date = datetime.strptime(row['GAME_DATE'], '%Y-%m-%d')\n",
    "\n",
    "    # Check if the game already exists\n",
    "    game = session.query(Game).filter_by(id=row['GAME_ID']).first()\n",
    "    if not game:\n",
    "        game = Game(id=row['GAME_ID'], date=game_date,\n",
    "                    season = season, \n",
    "                    season_type = season_type,\n",
    "                    home_team_id=row['TEAM_ID'] if 'vs.' in row['MATCHUP'] else None,\n",
    "                    away_team_id=row['TEAM_ID'] if '@' in row['MATCHUP'] else None)\n",
    "        session.add(game)\n",
    "\n",
    "    # Check if TeamStats already exists for this game and team\n",
    "    team_stats = session.query(TeamStats).filter_by(game_id=row['GAME_ID'], team_id=row['TEAM_ID']).first()\n",
    "    if not team_stats:\n",
    "        # Create new TeamStats if none exist\n",
    "        team_stats = TeamStats(\n",
    "            game=game,\n",
    "            team_id=row['TEAM_ID']\n",
    "        )\n",
    "        session.add(team_stats)\n",
    "\n",
    "    # Update existing or new TeamStats with current data\n",
    "    team_stats.points=row['PTS']\n",
    "    team_stats.field_goals_made=row['FGM']\n",
    "    team_stats.field_goals_attempted=row['FGA']\n",
    "    team_stats.field_goal_percentage=row['FG_PCT']\n",
    "    team_stats.three_point_field_goals_made=row['FG3M']\n",
    "    team_stats.three_point_field_goals_attempted=row['FG3A']\n",
    "    team_stats.three_point_field_goal_percentage=row['FG3_PCT']\n",
    "    team_stats.free_throws_made=row['FTM']\n",
    "    team_stats.free_throws_attempted=row['FTA']\n",
    "    team_stats.free_throw_percentage=row['FT_PCT']\n",
    "    team_stats.offensive_rebounds=row['OREB']\n",
    "    team_stats.defensive_rebounds=row['DREB']\n",
    "    team_stats.total_rebounds=row['REB']\n",
    "    team_stats.assists=row['AST']\n",
    "    team_stats.steals=row['STL']\n",
    "    team_stats.blocks=row['BLK']\n",
    "    team_stats.turnovers=row['TOV']\n",
    "    team_stats.personal_fouls=row['PF']\n",
    "    team_stats.plus_minus=row['PLUS_MINUS']\n",
    "\n",
    "session.commit()\n"
   ]
  }
 ],
 "metadata": {
  "kernelspec": {
   "display_name": "nba_01-7yhASJUA",
   "language": "python",
   "name": "python3"
  },
  "language_info": {
   "codemirror_mode": {
    "name": "ipython",
    "version": 3
   },
   "file_extension": ".py",
   "mimetype": "text/x-python",
   "name": "python",
   "nbconvert_exporter": "python",
   "pygments_lexer": "ipython3",
   "version": "3.12.3"
  }
 },
 "nbformat": 4,
 "nbformat_minor": 2
}
