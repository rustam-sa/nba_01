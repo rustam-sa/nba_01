{
 "cells": [
  {
   "cell_type": "code",
   "execution_count": 1,
   "metadata": {},
   "outputs": [],
   "source": [
    "import pandas as pd\n",
    "from sqlalchemy import select\n",
    "from sqlalchemy.sql import join\n",
    "from models import Player, TradPlayerStats, AdvPlayerStats, TradTeamStats, AdvTeamStats, Game\n",
    "from data_manager import DataManager\n",
    "import date_utils as dt_mng\n"
   ]
  },
  {
   "cell_type": "code",
   "execution_count": 2,
   "metadata": {},
   "outputs": [],
   "source": [
    "class Player_Data:\n",
    "    def __init__(self, player_name, season, start_at):\n",
    "        self.dm = DataManager()\n",
    "        self.engine = self.dm.get_database_engine()\n",
    "        session = self.dm.get_session()\n",
    "        self.player =  session.query(Player).filter(Player.name == player_name).one_or_none()\n",
    "        self.player_name = player_name\n",
    "        self.start_at = start_at\n",
    "        if not self.player:\n",
    "            raise KeyError(f\"No player found with the name {player_name}.\")\n",
    "        \n",
    "        self.season = season[:5] + season[-2:] if len(season) == 9 else season\n",
    "        self.team_games = self.get_team_games()\n",
    "        self.stats = self.get_individual_game_stats()\n",
    "        session.close()\n",
    "\n",
    "    def get_team_games(self):\n",
    "        session = self.dm.get_session()\n",
    "        try:\n",
    "            if self.start_at == \"Regular Season\" or self.start_at == \"Playoffs\":\n",
    "                query = (\n",
    "                    select(\n",
    "                        TradTeamStats,\n",
    "                        AdvTeamStats,\n",
    "                        Game.date.label('game_date')\n",
    "                        )\n",
    "                        .select_from(\n",
    "                            join(TradTeamStats, Game, TradTeamStats.game_id == Game.id)\n",
    "                            .join(AdvTeamStats, (AdvTeamStats.game_id == Game.id) & (AdvTeamStats.team_id == TradTeamStats.team_id))\n",
    "                        )\n",
    "                        .where(TradTeamStats.team_id == self.player.team_id)\n",
    "                        .where(AdvTeamStats.team_id == self.player.team_id)\n",
    "                        .where(Game.season_type == self.start_at)\n",
    "                    )\n",
    "                return pd.read_sql(query, self.engine)\n",
    "            \n",
    "            elif self.start_at.isinstance(int):\n",
    "                start_date = dt_mng.get_date_n_days_ago(self.start_at)\n",
    "                query = (\n",
    "                    select(\n",
    "                        TradTeamStats,\n",
    "                        AdvTeamStats,\n",
    "                        Game.date.label('game_date')\n",
    "                    )\n",
    "                    .select_from(\n",
    "                        join(TradTeamStats, Game, TradTeamStats.game_id == Game.id)\n",
    "                        .join(AdvTeamStats, (AdvTeamStats.game_id == Game.id) & (AdvTeamStats.team_id == TradTeamStats.team_id))\n",
    "                    )\n",
    "                    .where(TradTeamStats.team_id == self.player.team_id)\n",
    "                    .where(AdvTeamStats.team_id == self.player.team_id)\n",
    "                    .where(Game.date >= start_date)\n",
    "                    .where(Game.date < dt_mng.get_todays_date())\n",
    "                    )\n",
    "                return pd.read_sql(query, self.engine)\n",
    "        finally:\n",
    "            session.close()\n",
    "            \n",
    "    def get_player_games(self):\n",
    "        session = self.dm.get_session()\n",
    "        try:\n",
    "            if self.start_at in [\"Regular Season\", \"Playoffs\"]:\n",
    "                query = (\n",
    "                    select(\n",
    "                        Player,\n",
    "                        AdvPlayerStats,\n",
    "                        TradPlayerStats,\n",
    "                        Game.date.label('game_date')\n",
    "                    )\n",
    "                    .select_from(\n",
    "                        join(TradPlayerStats, Game, TradPlayerStats.game_id == Game.id)\n",
    "                        .join(AdvPlayerStats, (AdvPlayerStats.game_id == Game.id) & (AdvPlayerStats.player_id == TradPlayerStats.player_id))\n",
    "                        .join(Player, Player.id == TradPlayerStats.player_id)\n",
    "                    )\n",
    "                    .where(Player.id == self.player.id)\n",
    "                    .where(Game.season_type == self.start_at)\n",
    "                )\n",
    "            elif isinstance(self.start_at, int):\n",
    "                start_date = dt_mng.get_date_n_days_ago(self.start_at)\n",
    "                query = (\n",
    "                    select(\n",
    "                        Player,\n",
    "                        AdvPlayerStats,\n",
    "                        TradPlayerStats,\n",
    "                        Game.date.label('game_date')\n",
    "                    )\n",
    "                    .select_from(\n",
    "                        join(TradPlayerStats, Game, TradPlayerStats.game_id == Game.id)\n",
    "                        .join(AdvPlayerStats, (AdvPlayerStats.game_id == Game.id) & (AdvPlayerStats.player_id == TradPlayerStats.player_id))\n",
    "                        .join(Player, Player.id == TradPlayerStats.player_id)\n",
    "                    )\n",
    "                    .where(Player.id == self.player.id)\n",
    "                    .where(Game.date >= start_date)\n",
    "                    .where(Game.date < get_todays_date())\n",
    "                )\n",
    "\n",
    "            return pd.read_sql(query, self.engine)\n",
    "        finally:\n",
    "            session.close()\n"
   ]
  },
  {
   "cell_type": "code",
   "execution_count": 10,
   "metadata": {},
   "outputs": [
    {
     "name": "stdout",
     "output_type": "stream",
     "text": [
      "Parlays taken: 8\n",
      "Props involved: 14\n"
     ]
    }
   ],
   "source": [
    "pd.set_option(\"display.max_columns\", None)\n",
    "taken_parlays = pd.read_csv(\"parlays/taken_parlays_5_21_2024_partial.csv\", index_col=0)\n",
    "\n",
    "taken_parlays['PROPS'] = taken_parlays['PLAYER'] + \"-\" + taken_parlays['STAT'] + \"-\" + taken_parlays['TYPE']\n",
    "n_parlays = len(taken_parlays['PARLAY_ID'].unique())\n",
    "print(f\"Parlays taken: {n_parlays}\")\n",
    "props = taken_parlays['PROPS'].unique()\n",
    "n_props = len(props)\n",
    "print(f\"Props involved: {n_props}\")\n",
    "\n"
   ]
  },
  {
   "cell_type": "code",
   "execution_count": 98,
   "metadata": {},
   "outputs": [
    {
     "name": "stdout",
     "output_type": "stream",
     "text": [
      "1630169\n"
     ]
    }
   ],
   "source": [
    "from excel_funcs import save_as_excel_workbook\n",
    "\n",
    "player_name = \"Tyrese Haliburton\"\n",
    "season = \"2023-24\"\n",
    "games_start_last_n_or_date_or_season_type = \"Playoffs\"\n",
    "player_data = Player_Data(\n",
    "    player_name,\n",
    "    season, \n",
    "    games_start_last_n_or_date_or_season_type\n",
    "    )\n",
    "team_stats = player_data.team_games\n",
    "player_stats = player_data.stats\n",
    "filename = f\"data_pile/{player_data.player_name}_{player_data.start_at}_{player_data.season}\"\n",
    "save_as_excel_workbook([team_stats, player_stats], filename)"
   ]
  },
  {
   "cell_type": "code",
   "execution_count": null,
   "metadata": {},
   "outputs": [],
   "source": []
  },
  {
   "cell_type": "code",
   "execution_count": 99,
   "metadata": {},
   "outputs": [
    {
     "name": "stdout",
     "output_type": "stream",
     "text": [
      "1610612750\n",
      "['Jaylen Clark', 'Kyle Anderson', 'Jaden McDaniels', 'Anthony Edwards', 'Jordan McLaughlin', 'Wendell Moore Jr.', 'Josh Minott', 'Nickeil Alexander-Walker', 'Mike Conley', 'Naz Reid', 'Daishen Nix', 'Monte Morris', 'T.J. Warren', 'Rudy Gobert', 'Karl-Anthony Towns', 'Leonard Miller', 'Luka Garza']\n"
     ]
    }
   ],
   "source": [
    "\n",
    "dm = DataManager()\n",
    "season = \"2023-24\"\n",
    "season_type = \"Playoffs\"\n",
    "players = dm.get_players_from_db()\n",
    "players_x = [player for player in players if player.name == \"Anthony Edwards\"]\n",
    "test_player = players_x[0]\n",
    "print(test_player.team_id)\n",
    "players = [player for player in players if player.team_id == test_player.team_id]\n",
    "player_names = [player.name for player in players]\n",
    "print(player_names)\n",
    "\n",
    "for player_name in player_names:\n",
    "    season = \"2023-24\"\n",
    "    games_start_last_n_or_date_or_season_type = \"Playoffs\"\n",
    "    player_data = Player_Data(\n",
    "        player_name,\n",
    "        season, \n",
    "        games_start_last_n_or_date_or_season_type\n",
    "        )\n",
    "    team_stats = player_data.team_games\n",
    "    player_stats = player_data.stats\n",
    "    filename = f\"data_pile/{player_data.player_name}_{player_data.start_at}_{player_data.season}\"\n",
    "    save_as_excel_workbook([team_stats, player_stats], filename)"
   ]
  }
 ],
 "metadata": {
  "kernelspec": {
   "display_name": "nba_01-7yhASJUA",
   "language": "python",
   "name": "python3"
  },
  "language_info": {
   "codemirror_mode": {
    "name": "ipython",
    "version": 3
   },
   "file_extension": ".py",
   "mimetype": "text/x-python",
   "name": "python",
   "nbconvert_exporter": "python",
   "pygments_lexer": "ipython3",
   "version": "3.12.3"
  }
 },
 "nbformat": 4,
 "nbformat_minor": 2
}
