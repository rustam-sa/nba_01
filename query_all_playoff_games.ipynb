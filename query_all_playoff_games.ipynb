{
 "cells": [
  {
   "cell_type": "code",
   "execution_count": 1,
   "metadata": {},
   "outputs": [
    {
     "name": "stdout",
     "output_type": "stream",
     "text": [
      "        id  player_id   game_id  points  assists  rebounds  steals  blocks  \\\n",
      "0    25833         19  42300202      25        6         7       1       0   \n",
      "1    25834         19  42300201      18        5        11       0       3   \n",
      "2    25835         19  42300105      16        3        12       0       1   \n",
      "3    25836         19  42300104      20        5        11       0       0   \n",
      "4    25837         19  42300103      22        6        11       0       1   \n",
      "..     ...        ...       ...     ...      ...       ...     ...     ...   \n",
      "580  26414        223  42300125      13       12         4       2       1   \n",
      "581  26415        223  42300124       9        4         1       1       0   \n",
      "582  26416        223  42300123      11        1         2       0       1   \n",
      "583  26417        223  42300122       5        3         4       1       2   \n",
      "584  26418        223  42300121       5        8         7       2       0   \n",
      "\n",
      "     turnovers  fouls  ...  weight  birth_date  age  experience    school  \\\n",
      "0            1      3  ...   210.0  1998-03-03   26           6      Duke   \n",
      "1            1      3  ...   210.0  1998-03-03   26           6      Duke   \n",
      "2            2      2  ...   210.0  1998-03-03   26           6      Duke   \n",
      "3            1      3  ...   210.0  1998-03-03   26           6      Duke   \n",
      "4            0      3  ...   210.0  1998-03-03   26           6      Duke   \n",
      "..         ...    ...  ...     ...         ...  ...         ...       ...   \n",
      "580          2      3  ...   180.0  1988-07-12   35          11  Arkansas   \n",
      "581          0      1  ...   180.0  1988-07-12   35          11  Arkansas   \n",
      "582          2      6  ...   180.0  1988-07-12   35          11  Arkansas   \n",
      "583          1      2  ...   180.0  1988-07-12   35          11  Arkansas   \n",
      "584          1      3  ...   180.0  1988-07-12   35          11  Arkansas   \n",
      "\n",
      "     player_id_1                 how_acquired     team_id        date     team  \n",
      "0        1628369        #3 Pick in 2017 Draft  1610612738  2024-05-09  Celtics  \n",
      "1        1628369        #3 Pick in 2017 Draft  1610612738  2024-05-07  Celtics  \n",
      "2        1628369        #3 Pick in 2017 Draft  1610612738  2024-05-01  Celtics  \n",
      "3        1628369        #3 Pick in 2017 Draft  1610612738  2024-04-29  Celtics  \n",
      "4        1628369        #3 Pick in 2017 Draft  1610612738  2024-04-27  Celtics  \n",
      "..           ...                          ...         ...         ...      ...  \n",
      "580       201976  Traded from PHI on 02/08/24  1610612749  2024-04-30    Bucks  \n",
      "581       201976  Traded from PHI on 02/08/24  1610612749  2024-04-28    Bucks  \n",
      "582       201976  Traded from PHI on 02/08/24  1610612749  2024-04-26    Bucks  \n",
      "583       201976  Traded from PHI on 02/08/24  1610612749  2024-04-23    Bucks  \n",
      "584       201976  Traded from PHI on 02/08/24  1610612749  2024-04-21    Bucks  \n",
      "\n",
      "[585 rows x 38 columns]\n"
     ]
    }
   ],
   "source": [
    "\n",
    "import pandas as pd\n",
    "from models import GameStats, Player, Game, Team  # Make sure to import your actual model classes\n",
    "from db_config import get_session, get_database_engine\n",
    "engine = get_database_engine()\n",
    "session = get_session()\n",
    "\n",
    "\n",
    "\n",
    "# SQLAlchemy query\n",
    "query = session.query(GameStats, Player, Game.date, Team.nickname.label(\"team\")).\\\n",
    "    join(Player, GameStats.player_id == Player.id).\\\n",
    "    join(Game, GameStats.game_id == Game.id).\\\n",
    "    join(Team, Player.team_id == Team.id).\\\n",
    "    filter(Game.season_type == 'Playoffs')\n",
    "\n",
    "# Convert the query to a DataFrame\n",
    "df = pd.read_sql(query.statement, engine)\n",
    "\n",
    "# Optionally, display the DataFrame\n",
    "print(df)\n",
    "\n",
    "# Close the session\n",
    "session.close()\n",
    "\n"
   ]
  },
  {
   "cell_type": "code",
   "execution_count": 4,
   "metadata": {},
   "outputs": [],
   "source": [
    "df.groupby(\"team\")\n",
    "df.to_csv(\"all_playoff_games_in_db.csv\")"
   ]
  },
  {
   "cell_type": "code",
   "execution_count": 3,
   "metadata": {},
   "outputs": [
    {
     "data": {
      "text/plain": [
       "<pandas.core.groupby.generic.DataFrameGroupBy object at 0x00000218BB4C0110>"
      ]
     },
     "execution_count": 3,
     "metadata": {},
     "output_type": "execute_result"
    }
   ],
   "source": []
  }
 ],
 "metadata": {
  "kernelspec": {
   "display_name": "nba_01-7yhASJUA",
   "language": "python",
   "name": "python3"
  },
  "language_info": {
   "codemirror_mode": {
    "name": "ipython",
    "version": 3
   },
   "file_extension": ".py",
   "mimetype": "text/x-python",
   "name": "python",
   "nbconvert_exporter": "python",
   "pygments_lexer": "ipython3",
   "version": "3.12.3"
  }
 },
 "nbformat": 4,
 "nbformat_minor": 2
}
