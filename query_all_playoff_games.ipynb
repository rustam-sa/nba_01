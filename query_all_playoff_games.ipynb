{
 "cells": [
  {
   "cell_type": "code",
   "execution_count": 5,
   "metadata": {},
   "outputs": [
    {
     "name": "stdout",
     "output_type": "stream",
     "text": [
      "        id  player_id   game_id  points  assists  rebounds  steals  blocks  \\\n",
      "0    25833         19  42300202      25        6         7       1       0   \n",
      "1    25834         19  42300201      18        5        11       0       3   \n",
      "2    25835         19  42300105      16        3        12       0       1   \n",
      "3    25836         19  42300104      20        5        11       0       0   \n",
      "4    25837         19  42300103      22        6        11       0       1   \n",
      "..     ...        ...       ...     ...      ...       ...     ...     ...   \n",
      "580  26414        223  42300125      13       12         4       2       1   \n",
      "581  26415        223  42300124       9        4         1       1       0   \n",
      "582  26416        223  42300123      11        1         2       0       1   \n",
      "583  26417        223  42300122       5        3         4       1       2   \n",
      "584  26418        223  42300121       5        8         7       2       0   \n",
      "\n",
      "     turnovers  fouls  ...  height  weight  birth_date  age  experience  \\\n",
      "0            1      3  ...     6-8   210.0  1998-03-03   26           6   \n",
      "1            1      3  ...     6-8   210.0  1998-03-03   26           6   \n",
      "2            2      2  ...     6-8   210.0  1998-03-03   26           6   \n",
      "3            1      3  ...     6-8   210.0  1998-03-03   26           6   \n",
      "4            0      3  ...     6-8   210.0  1998-03-03   26           6   \n",
      "..         ...    ...  ...     ...     ...         ...  ...         ...   \n",
      "580          2      3  ...     6-2   180.0  1988-07-12   35          11   \n",
      "581          0      1  ...     6-2   180.0  1988-07-12   35          11   \n",
      "582          2      6  ...     6-2   180.0  1988-07-12   35          11   \n",
      "583          1      2  ...     6-2   180.0  1988-07-12   35          11   \n",
      "584          1      3  ...     6-2   180.0  1988-07-12   35          11   \n",
      "\n",
      "       school  player_id_1                 how_acquired     team_id  \\\n",
      "0        Duke      1628369        #3 Pick in 2017 Draft  1610612738   \n",
      "1        Duke      1628369        #3 Pick in 2017 Draft  1610612738   \n",
      "2        Duke      1628369        #3 Pick in 2017 Draft  1610612738   \n",
      "3        Duke      1628369        #3 Pick in 2017 Draft  1610612738   \n",
      "4        Duke      1628369        #3 Pick in 2017 Draft  1610612738   \n",
      "..        ...          ...                          ...         ...   \n",
      "580  Arkansas       201976  Traded from PHI on 02/08/24  1610612749   \n",
      "581  Arkansas       201976  Traded from PHI on 02/08/24  1610612749   \n",
      "582  Arkansas       201976  Traded from PHI on 02/08/24  1610612749   \n",
      "583  Arkansas       201976  Traded from PHI on 02/08/24  1610612749   \n",
      "584  Arkansas       201976  Traded from PHI on 02/08/24  1610612749   \n",
      "\n",
      "           date  \n",
      "0    2024-05-09  \n",
      "1    2024-05-07  \n",
      "2    2024-05-01  \n",
      "3    2024-04-29  \n",
      "4    2024-04-27  \n",
      "..          ...  \n",
      "580  2024-04-30  \n",
      "581  2024-04-28  \n",
      "582  2024-04-26  \n",
      "583  2024-04-23  \n",
      "584  2024-04-21  \n",
      "\n",
      "[585 rows x 37 columns]\n"
     ]
    }
   ],
   "source": [
    "\n",
    "import pandas as pd\n",
    "from models import GameStats, Player, Game  # Make sure to import your actual model classes\n",
    "from db_config import get_session, get_database_engine\n",
    "engine = get_database_engine()\n",
    "session = get_session()\n",
    "\n",
    "\n",
    "\n",
    "# SQLAlchemy query\n",
    "query = session.query(GameStats, Player, Game.date).\\\n",
    "    join(Player, GameStats.player_id == Player.id).\\\n",
    "    join(Game, GameStats.game_id == Game.id).\\\n",
    "    filter(Game.season_type == 'Playoffs')\n",
    "\n",
    "# Convert the query to a DataFrame\n",
    "df = pd.read_sql(query.statement, engine)\n",
    "\n",
    "# Optionally, display the DataFrame\n",
    "print(df)\n",
    "\n",
    "# Close the session\n",
    "session.close()\n",
    "\n"
   ]
  },
  {
   "cell_type": "code",
   "execution_count": 6,
   "metadata": {},
   "outputs": [],
   "source": [
    "df.to_csv(\"all_playoff_games_in_db.csv\")"
   ]
  },
  {
   "cell_type": "code",
   "execution_count": null,
   "metadata": {},
   "outputs": [],
   "source": []
  }
 ],
 "metadata": {
  "kernelspec": {
   "display_name": "nba_01-7yhASJUA",
   "language": "python",
   "name": "python3"
  },
  "language_info": {
   "codemirror_mode": {
    "name": "ipython",
    "version": 3
   },
   "file_extension": ".py",
   "mimetype": "text/x-python",
   "name": "python",
   "nbconvert_exporter": "python",
   "pygments_lexer": "ipython3",
   "version": "3.12.3"
  }
 },
 "nbformat": 4,
 "nbformat_minor": 2
}
