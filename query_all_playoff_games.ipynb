{
 "cells": [
  {
   "cell_type": "code",
   "execution_count": 7,
   "metadata": {},
   "outputs": [
    {
     "name": "stdout",
     "output_type": "stream",
     "text": [
      "        id  player_id   game_id  points  assists  rebounds  steals  blocks  \\\n",
      "0    26514         22  42300104       7        0         3       0       0   \n",
      "1    26515         22  42300103      18        2         5       1       2   \n",
      "2    26516         22  42300102       6        4         8       3       2   \n",
      "3    26517         22  42300101      18        1         4       1       2   \n",
      "4    26478         22  42300104       7        0         3       0       0   \n",
      "..     ...        ...       ...     ...      ...       ...     ...     ...   \n",
      "626  27157        284  42300115       6        4         7       1       1   \n",
      "627  27158        284  42300114       8        2         4       1       0   \n",
      "628  27159        284  42300113      14        1         4       0       0   \n",
      "629  27160        284  42300112      14        4         8       0       3   \n",
      "630  27161        284  42300111       6        3         7       0       2   \n",
      "\n",
      "     turnovers  fouls  ...  weight  birth_date  age  experience  \\\n",
      "0            0      1  ...   240.0  1995-08-02   28           7   \n",
      "1            0      3  ...   240.0  1995-08-02   28           7   \n",
      "2            2      3  ...   240.0  1995-08-02   28           7   \n",
      "3            2      3  ...   240.0  1995-08-02   28           7   \n",
      "4            0      1  ...   240.0  1995-08-02   28           7   \n",
      "..         ...    ...  ...     ...         ...  ...         ...   \n",
      "626          2      3  ...   250.0  1998-05-05   26           5   \n",
      "627          3      5  ...   250.0  1998-05-05   26           5   \n",
      "628          0      5  ...   250.0  1998-05-05   26           5   \n",
      "629          2      4  ...   250.0  1998-05-05   26           5   \n",
      "630          0      3  ...   250.0  1998-05-05   26           5   \n",
      "\n",
      "              school  player_id_1                 how_acquired     team_id  \\\n",
      "0    Cajasol Sevilla       204001  Traded from WAS on 06/23/23  1610612738   \n",
      "1    Cajasol Sevilla       204001  Traded from WAS on 06/23/23  1610612738   \n",
      "2    Cajasol Sevilla       204001  Traded from WAS on 06/23/23  1610612738   \n",
      "3    Cajasol Sevilla       204001  Traded from WAS on 06/23/23  1610612738   \n",
      "4    Cajasol Sevilla       204001  Traded from WAS on 06/23/23  1610612738   \n",
      "..               ...          ...                          ...         ...   \n",
      "626         Zalgiris      1628392           Signed on 07/12/22  1610612752   \n",
      "627         Zalgiris      1628392           Signed on 07/12/22  1610612752   \n",
      "628         Zalgiris      1628392           Signed on 07/12/22  1610612752   \n",
      "629         Zalgiris      1628392           Signed on 07/12/22  1610612752   \n",
      "630         Zalgiris      1628392           Signed on 07/12/22  1610612752   \n",
      "\n",
      "           date     team  \n",
      "0    2024-04-29  Celtics  \n",
      "1    2024-04-27  Celtics  \n",
      "2    2024-04-24  Celtics  \n",
      "3    2024-04-21  Celtics  \n",
      "4    2024-04-29  Celtics  \n",
      "..          ...      ...  \n",
      "626  2024-04-30   Knicks  \n",
      "627  2024-04-28   Knicks  \n",
      "628  2024-04-25   Knicks  \n",
      "629  2024-04-22   Knicks  \n",
      "630  2024-04-20   Knicks  \n",
      "\n",
      "[631 rows x 38 columns]\n"
     ]
    }
   ],
   "source": [
    "\n",
    "import pandas as pd\n",
    "from models import GameStats, Player, Game, Team  # Make sure to import your actual model classes\n",
    "from db_config import get_session, get_database_engine\n",
    "engine = get_database_engine()\n",
    "session = get_session()\n",
    "\n",
    "\n",
    "\n",
    "# SQLAlchemy query\n",
    "query = session.query(GameStats, Player, Game.date, Team.nickname.label(\"team\")).\\\n",
    "    join(Player, GameStats.player_id == Player.id).\\\n",
    "    join(Game, GameStats.game_id == Game.id).\\\n",
    "    join(Team, Player.team_id == Team.id).\\\n",
    "    filter(Game.season_type == 'Playoffs')\n",
    "\n",
    "# Convert the query to a DataFrame\n",
    "df = pd.read_sql(query.statement, engine)\n",
    "\n",
    "# Optionally, display the DataFrame\n",
    "print(df)\n",
    "\n",
    "# Close the session\n",
    "session.close()\n",
    "\n"
   ]
  },
  {
   "cell_type": "code",
   "execution_count": 8,
   "metadata": {},
   "outputs": [],
   "source": [
    "df.groupby(\"team\")\n",
    "df.to_csv(\"all_playoff_games_in_db.csv\")"
   ]
  },
  {
   "cell_type": "code",
   "execution_count": null,
   "metadata": {},
   "outputs": [],
   "source": []
  }
 ],
 "metadata": {
  "kernelspec": {
   "display_name": "nba_01-7yhASJUA",
   "language": "python",
   "name": "python3"
  },
  "language_info": {
   "codemirror_mode": {
    "name": "ipython",
    "version": 3
   },
   "file_extension": ".py",
   "mimetype": "text/x-python",
   "name": "python",
   "nbconvert_exporter": "python",
   "pygments_lexer": "ipython3",
   "version": "3.12.3"
  }
 },
 "nbformat": 4,
 "nbformat_minor": 2
}
