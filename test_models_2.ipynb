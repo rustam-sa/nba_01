{
 "cells": [
  {
   "cell_type": "code",
   "execution_count": 1,
   "metadata": {},
   "outputs": [
    {
     "name": "stderr",
     "output_type": "stream",
     "text": [
      "c:\\Users\\rusta\\.virtualenvs\\nba_01-7yhASJUA\\Lib\\site-packages\\numpy\\lib\\function_base.py:520: RuntimeWarning: Mean of empty slice.\n",
      "  avg = a.mean(axis, **keepdims_kw)\n",
      "c:\\Users\\rusta\\.virtualenvs\\nba_01-7yhASJUA\\Lib\\site-packages\\numpy\\core\\_methods.py:129: RuntimeWarning: invalid value encountered in scalar divide\n",
      "  ret = ret.dtype.type(ret / rcount)\n",
      "c:\\Users\\rusta\\.virtualenvs\\nba_01-7yhASJUA\\Lib\\site-packages\\sklearn\\metrics\\_classification.py:1509: UndefinedMetricWarning: Precision is ill-defined and being set to 0.0 due to no predicted samples. Use `zero_division` parameter to control this behavior.\n",
      "  _warn_prf(average, modifier, f\"{metric.capitalize()} is\", len(result))\n",
      "c:\\Users\\rusta\\.virtualenvs\\nba_01-7yhASJUA\\Lib\\site-packages\\sklearn\\metrics\\_classification.py:1509: UndefinedMetricWarning: Recall is ill-defined and being set to 0.0 due to no true samples. Use `zero_division` parameter to control this behavior.\n",
      "  _warn_prf(average, modifier, f\"{metric.capitalize()} is\", len(result))\n",
      "c:\\Users\\rusta\\.virtualenvs\\nba_01-7yhASJUA\\Lib\\site-packages\\sklearn\\metrics\\_classification.py:1509: UndefinedMetricWarning: F-score is ill-defined and being set to 0.0 due to no true nor predicted samples. Use `zero_division` parameter to control this behavior.\n",
      "  _warn_prf(average, modifier, f\"{metric.capitalize()} is\", len(result))\n",
      "c:\\Users\\rusta\\.virtualenvs\\nba_01-7yhASJUA\\Lib\\site-packages\\numpy\\lib\\function_base.py:520: RuntimeWarning: Mean of empty slice.\n",
      "  avg = a.mean(axis, **keepdims_kw)\n",
      "c:\\Users\\rusta\\.virtualenvs\\nba_01-7yhASJUA\\Lib\\site-packages\\numpy\\core\\_methods.py:129: RuntimeWarning: invalid value encountered in scalar divide\n",
      "  ret = ret.dtype.type(ret / rcount)\n",
      "c:\\Users\\rusta\\.virtualenvs\\nba_01-7yhASJUA\\Lib\\site-packages\\sklearn\\metrics\\_classification.py:1509: UndefinedMetricWarning: Precision is ill-defined and being set to 0.0 due to no predicted samples. Use `zero_division` parameter to control this behavior.\n",
      "  _warn_prf(average, modifier, f\"{metric.capitalize()} is\", len(result))\n",
      "c:\\Users\\rusta\\.virtualenvs\\nba_01-7yhASJUA\\Lib\\site-packages\\sklearn\\metrics\\_classification.py:1509: UndefinedMetricWarning: Recall is ill-defined and being set to 0.0 due to no true samples. Use `zero_division` parameter to control this behavior.\n",
      "  _warn_prf(average, modifier, f\"{metric.capitalize()} is\", len(result))\n",
      "c:\\Users\\rusta\\.virtualenvs\\nba_01-7yhASJUA\\Lib\\site-packages\\sklearn\\metrics\\_classification.py:1509: UndefinedMetricWarning: F-score is ill-defined and being set to 0.0 due to no true nor predicted samples. Use `zero_division` parameter to control this behavior.\n",
      "  _warn_prf(average, modifier, f\"{metric.capitalize()} is\", len(result))\n"
     ]
    }
   ],
   "source": [
    "import numpy as np\n",
    "import pandas as pd\n",
    "from sklearn.metrics import accuracy_score, precision_score, recall_score, f1_score, confusion_matrix\n",
    "\n",
    "# Define the poisson_prob_above_threshold function\n",
    "def poisson_prob_above_threshold(mean, threshold):\n",
    "    from scipy.stats import poisson\n",
    "    return 1 - poisson.cdf(threshold, mean)\n",
    "\n",
    "# Sample DataFrame dictionary for demonstration\n",
    "dfs = {\n",
    "    '2020': pd.DataFrame({'pts': [10, 20, 15, 30, 25], 'date': pd.date_range(start='1/1/2020', periods=5)}),\n",
    "    '2021': pd.DataFrame({'pts': [5, 10, 15, 20, 25], 'date': pd.date_range(start='1/1/2021', periods=5)})\n",
    "}\n",
    "\n",
    "# Define the threshold\n",
    "threshold = 18\n",
    "\n",
    "# Initialize a list to collect results\n",
    "results = []\n",
    "\n",
    "# Process each DataFrame in the dictionary\n",
    "for season, df in dfs.items():\n",
    "    df = df[['pts', 'date']]\n",
    "    df = df.assign(rolling_mean=df['pts'].rolling(window=25).mean())\n",
    "    df = df.assign(prob_above_threshold=df['rolling_mean'].apply(lambda x: poisson_prob_above_threshold(x, 18) if not np.isnan(x) else np.nan))\n",
    "    df['prob_above_threshold'] = df['prob_above_threshold'].shift(1)\n",
    "    df = df.dropna()\n",
    "    df['positive_pred'] = np.where(df['prob_above_threshold'] > 0.5, 1, 0)\n",
    "    df['positive_true'] = np.where(df['pts'] > threshold, 1, 0)\n",
    "    dfs[season] = df  # Update the dictionary with the modified DataFrame\n",
    "\n",
    "    # Calculate evaluation metrics\n",
    "    y_true = df['positive_true']\n",
    "    y_pred = df['positive_pred']\n",
    "\n",
    "    accuracy = accuracy_score(y_true, y_pred)\n",
    "    precision = precision_score(y_true, y_pred)\n",
    "    recall = recall_score(y_true, y_pred)\n",
    "    f1 = f1_score(y_true, y_pred)\n",
    "    conf_matrix = confusion_matrix(y_true, y_pred)\n",
    "\n",
    "    # Append results to the list\n",
    "    results.append({\n",
    "        'season': season,\n",
    "        'accuracy': accuracy,\n",
    "        'precision': precision,\n",
    "        'recall': recall,\n",
    "        'f1_score': f1,\n",
    "        'confusion_matrix': conf_matrix.tolist()  # Convert numpy array to list for display\n",
    "    })\n",
    "\n",
    "# Convert results to DataFrame for display\n",
    "results_df = pd.DataFrame(results)"
   ]
  }
 ],
 "metadata": {
  "kernelspec": {
   "display_name": "nba_01-7yhASJUA",
   "language": "python",
   "name": "python3"
  },
  "language_info": {
   "codemirror_mode": {
    "name": "ipython",
    "version": 3
   },
   "file_extension": ".py",
   "mimetype": "text/x-python",
   "name": "python",
   "nbconvert_exporter": "python",
   "pygments_lexer": "ipython3",
   "version": "3.12.3"
  }
 },
 "nbformat": 4,
 "nbformat_minor": 2
}
