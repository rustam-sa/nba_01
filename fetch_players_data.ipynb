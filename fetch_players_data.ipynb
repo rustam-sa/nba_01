{
 "cells": [
  {
   "cell_type": "code",
   "execution_count": 1,
   "metadata": {},
   "outputs": [],
   "source": [
    "import pandas as pd\n",
    "from nba_api.stats.static import teams\n",
    "from nba_api.stats.endpoints import commonteamroster\n",
    "from common_functions import get_teams_from_db\n",
    "\n",
    "team_ids = [team.id for team in get_teams_from_db()]\n"
   ]
  },
  {
   "cell_type": "code",
   "execution_count": 2,
   "metadata": {},
   "outputs": [],
   "source": [
    "def get_team_roster_by_team_id(team_id):\n",
    "    try:\n",
    "        roster = commonteamroster.CommonTeamRoster(team_id=team_id)\n",
    "        roster_df = roster.get_data_frames()[0]\n",
    "        \n",
    "    except Exception as e:\n",
    "        print(f\"An error occurred: {e}\")\n",
    "        print(roster_df.get_json())\n",
    "    \n",
    "    return roster_df"
   ]
  },
  {
   "cell_type": "code",
   "execution_count": 21,
   "metadata": {},
   "outputs": [
    {
     "name": "stdout",
     "output_type": "stream",
     "text": [
      "        TeamID SEASON LeagueID             PLAYER  NICKNAME  \\\n",
      "0   1610612737   2023       00      Jalen Johnson     Jalen   \n",
      "1   1610612737   2023       00      Trent Forrest     Trent   \n",
      "2   1610612737   2023       00         Seth Lundy      Seth   \n",
      "3   1610612737   2023       00        Kobe Bufkin      Kobe   \n",
      "4   1610612737   2023       00    Dejounte Murray  Dejounte   \n",
      "5   1610612737   2023       00         Trae Young      Trae   \n",
      "6   1610612737   2023       00    De'Andre Hunter  De'Andre   \n",
      "7   1610612737   2023       00  Bogdan Bogdanovic    Bogdan   \n",
      "8   1610612737   2023       00         AJ Griffin        AJ   \n",
      "9   1610612737   2023       00       Clint Capela     Clint   \n",
      "10  1610612737   2023       00     Onyeka Okongwu    Onyeka   \n",
      "11  1610612737   2023       00     Mouhamed Gueye  Mouhamed   \n",
      "12  1610612737   2023       00      Dylan Windler     Dylan   \n",
      "13  1610612737   2023       00     Bruno Fernando     Bruno   \n",
      "14  1610612737   2023       00   Garrison Mathews  Garrison   \n",
      "15  1610612737   2023       00         Vit Krejci       Vit   \n",
      "16  1610612737   2023       00    Wesley Matthews    Wesley   \n",
      "17  1610612737   2023       00         Saddiq Bey    Saddiq   \n",
      "\n",
      "          PLAYER_SLUG NUM POSITION HEIGHT WEIGHT    BIRTH_DATE   AGE EXP  \\\n",
      "0       jalen-johnson   1        F    6-8    219  DEC 18, 2001  22.0   2   \n",
      "1       trent-forrest   2        G    6-4    210  JUN 12, 1998  25.0   3   \n",
      "2          seth-lundy   3      G-F    6-4    220  APR 02, 2000  24.0   R   \n",
      "3         kobe-bufkin   4        G    6-5    195  SEP 21, 2003  20.0   R   \n",
      "4     dejounte-murray   5        G    6-5    180  SEP 19, 1996  27.0   6   \n",
      "5          trae-young  11        G    6-1    164  SEP 19, 1998  25.0   5   \n",
      "6      deandre-hunter  12      F-G    6-8    221  DEC 02, 1997  26.0   4   \n",
      "7   bogdan-bogdanovic  13        G    6-5    225  AUG 18, 1992  31.0   6   \n",
      "8          aj-griffin  14        F    6-6    220  AUG 25, 2003  20.0   1   \n",
      "9        clint-capela  15        C   6-10    256  MAY 18, 1994  29.0   9   \n",
      "10     onyeka-okongwu  17      F-C   6-10    240  DEC 11, 2000  23.0   3   \n",
      "11     mouhamed-gueye  18        F   6-10    210  NOV 09, 2002  21.0   R   \n",
      "12      dylan-windler  20      G-F    6-7    196  SEP 22, 1996  27.0   3   \n",
      "13     bruno-fernando  24      F-C    6-9    240  AUG 15, 1998  25.0   4   \n",
      "14   garrison-mathews  25        G    6-6    215  OCT 24, 1996  27.0   4   \n",
      "15         vit-krejci  27        G    6-8    195  JUN 19, 2000  23.0   2   \n",
      "16    wesley-matthews  32        G    6-5    220  OCT 14, 1986  37.0  14   \n",
      "17         saddiq-bey  41      G-F    6-7    215  APR 09, 1999  25.0   3   \n",
      "\n",
      "                 SCHOOL  PLAYER_ID                              HOW_ACQUIRED  \n",
      "0                  Duke    1630552                    #20 Pick in 2021 Draft  \n",
      "1         Florida State    1630235                        Signed on 08/08/22  \n",
      "2            Penn State    1641754                    #46 Pick in 2023 Draft  \n",
      "3              Michigan    1641723                    #15 Pick in 2023 Draft  \n",
      "4            Washington    1627749               Traded from SAS on 06/30/22  \n",
      "5              Oklahoma    1629027  Draft Rights Traded from DAL on 06/21/18  \n",
      "6              Virginia    1629631  Draft Rights Traded from NOP on 07/07/19  \n",
      "7            Fenerbahce     203992                        Signed on 11/25/20  \n",
      "8                  Duke    1631100                    #16 Pick in 2022 Draft  \n",
      "9           Elan Chalon     203991               Traded from HOU on 02/05/20  \n",
      "10  Southern California    1630168                     #6 Pick in 2020 Draft  \n",
      "11     Washington State    1631243  Draft Rights Traded from BOS on 06/28/23  \n",
      "12              Belmont    1629685                        Signed on 03/04/24  \n",
      "13             Maryland    1628981               Traded from HOU on 02/09/23  \n",
      "14             Lipscomb    1629726               Traded from HOU on 02/09/23  \n",
      "15             Zaragoza    1630249                        Signed on 12/22/23  \n",
      "16            Marquette     202083                        Signed on 07/21/23  \n",
      "17            Villanova    1630180               Traded from DET on 02/09/23  \n"
     ]
    }
   ],
   "source": [
    "rosters = [get_team_roster_by_team_id(team_id) for team_id in team_ids]\n"
   ]
  },
  {
   "cell_type": "code",
   "execution_count": 23,
   "metadata": {},
   "outputs": [
    {
     "name": "stdout",
     "output_type": "stream",
     "text": [
      "<class 'pandas.core.frame.DataFrame'>\n"
     ]
    }
   ],
   "source": [
    "print(type(rosters[0]))"
   ]
  },
  {
   "cell_type": "code",
   "execution_count": 24,
   "metadata": {},
   "outputs": [],
   "source": [
    "from datetime import datetime\n",
    "\n",
    "from models import Player\n",
    "\n",
    "players = []\n",
    "for team in rosters:\n",
    "    team = team.to_dict(\"records\")\n",
    "    for player in team:\n",
    "        player_record = Player(\n",
    "            name=player['PLAYER'],\n",
    "            nickname=player.get('NICKNAME'),  # Using .get() to handle cases where the key might not exist\n",
    "            player_slug=player['PLAYER_SLUG'],\n",
    "            jersey_number=player['NUM'],\n",
    "            position=player['POSITION'],\n",
    "            height=player['HEIGHT'],\n",
    "            weight=float(player['WEIGHT']) if player['WEIGHT'] else None,\n",
    "            birth_date=datetime.strptime(player['BIRTH_DATE'], '%b %d, %Y') if player['BIRTH_DATE'] else None,\n",
    "            age=int(player['AGE']) if player['AGE'] else None,\n",
    "            experience=player['EXP'],\n",
    "            school=player['SCHOOL'],\n",
    "            player_id=player['PLAYER_ID'],\n",
    "            how_acquired=player['HOW_ACQUIRED'],\n",
    "            team_id=player['TeamID']  # Make sure the 'TeamID' matches your Team table ID\n",
    "        )\n",
    "        players.append(player_record)\n",
    "    "
   ]
  },
  {
   "cell_type": "code",
   "execution_count": 27,
   "metadata": {},
   "outputs": [],
   "source": [
    "from db_config import get_session\n",
    "session = get_session()\n",
    "\n",
    "try:\n",
    "    session.add_all(players)\n",
    "    session.commit()\n",
    "except Exception as e:\n",
    "    session.rollback()  # Rollback if there are any errors\n",
    "    raise e  # Optionally re-raise the exception after handling it\n",
    "finally:\n",
    "    session.close()  # Always close the session"
   ]
  }
 ],
 "metadata": {
  "kernelspec": {
   "display_name": "nba_01-7yhASJUA",
   "language": "python",
   "name": "python3"
  },
  "language_info": {
   "codemirror_mode": {
    "name": "ipython",
    "version": 3
   },
   "file_extension": ".py",
   "mimetype": "text/x-python",
   "name": "python",
   "nbconvert_exporter": "python",
   "pygments_lexer": "ipython3",
   "version": "3.12.3"
  }
 },
 "nbformat": 4,
 "nbformat_minor": 2
}
