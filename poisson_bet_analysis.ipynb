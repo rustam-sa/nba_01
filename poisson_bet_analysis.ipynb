{
 "cells": [
  {
   "cell_type": "code",
   "execution_count": 3,
   "metadata": {},
   "outputs": [],
   "source": [
    "import pandas as pd\n",
    "from scipy.stats import poisson\n",
    "from sqlalchemy import and_\n",
    "\n",
    "from models import Player, TradPlayerStats, AdvPlayerStats, Game\n",
    "from data_manager import DataManager\n",
    "dm = DataManager()\n",
    "session = dm.get_session()\n"
   ]
  },
  {
   "cell_type": "code",
   "execution_count": 69,
   "metadata": {},
   "outputs": [],
   "source": [
    "def estimate_probability_poisson(data, stat, n):\n",
    "    mean = data[stat].mean()\n",
    "    probability = 1 - poisson.cdf(n, mean)\n",
    "    return probability\n",
    "\n",
    "def american_to_decimal(american_odds):\n",
    "    \"\"\"Convert American odds to decimal odds.\"\"\"\n",
    "    if american_odds > 0:\n",
    "        return 1 + (american_odds / 100)\n",
    "    else:\n",
    "        return 1 + (100 / abs(american_odds))\n",
    "\n",
    "def calculate_parlay_odds(american_odds_list):\n",
    "    \"\"\"Calculate the combined decimal odds for a parlay given a list of American odds.\"\"\"\n",
    "    decimal_odds = [american_to_decimal(odds) for odds in american_odds_list]\n",
    "    \n",
    "    # Calculate combined odds for the parlay\n",
    "    combined_odds = 1\n",
    "    for odds in decimal_odds:\n",
    "        combined_odds *= odds\n",
    "        \n",
    "    return combined_odds\n",
    "\n",
    "# Query to join four tables with correct join conditions and multiple filters\n",
    "def get_and_save_player_data(player_id, player_name):\n",
    "    data = session.query(\n",
    "        Player,\n",
    "        TradPlayerStats,\n",
    "        AdvPlayerStats,\n",
    "        Game\n",
    "    ).join(Game, TradPlayerStats.game_id == Game.id)\\\n",
    "    .join(Player, TradPlayerStats.player_id == Player.id)\\\n",
    "    .join(AdvPlayerStats, and_(TradPlayerStats.game_id == AdvPlayerStats.game_id, \n",
    "                                TradPlayerStats.player_id == AdvPlayerStats.player_id))\\\n",
    "    .filter(\n",
    "        (TradPlayerStats.player_id == player_id)# &\n",
    "        #  (Game.season_type == \"Playoffs\")\n",
    "    ).all()\n",
    "\n",
    "    # Convert the query result to a DataFrame\n",
    "    data_list = []\n",
    "    for player, trad_stats, adv_stats, game in data:\n",
    "        row = {\n",
    "            'player_name': player.name,\n",
    "            'player_position': player.position,\n",
    "            'minutes': trad_stats.minutes,\n",
    "            'points': trad_stats.pts,\n",
    "            'rebounds': trad_stats.reb,\n",
    "            'assists': trad_stats.ast,\n",
    "            'efg': adv_stats.efg_pct,\n",
    "            'fg3a': trad_stats.fg3a,\n",
    "            'fg3m': trad_stats.fg3m,\n",
    "            'fg3_pct': trad_stats.fg3_pct,\n",
    "            'fga': trad_stats.fga,\n",
    "            'fgm': trad_stats.fgm,\n",
    "            'fta': trad_stats.fta,\n",
    "            'ft_pct': trad_stats.ft_pct, \n",
    "            'steals': trad_stats.stl,\n",
    "            'blocks': trad_stats.blk,\n",
    "            'date': game.date,\n",
    "\n",
    "        }\n",
    "        data_list.append(row)\n",
    "\n",
    "    data_df = pd.DataFrame(data_list)\n",
    "\n",
    "    data_df.to_csv(f\"data_pile/{player_name}.csv\")\n",
    "    return data_df\n",
    "\n",
    "\n",
    "def get_player_id(player_name):\n",
    "    player = session.query(Player).filter(Player.name==player_name).all()[0]\n",
    "    player_id = player.id\n",
    "    return player_id\n",
    "\n",
    "\n",
    "def calculate_ev(probability, decimal_odds, bet_amount):\n",
    "    \"\"\"\n",
    "    Calculate the expected value (EV) of a bet.\n",
    "\n",
    "    Args:\n",
    "        probability (float): The probability of the event occurring (between 0 and 1).\n",
    "        decimal_odds (float): The decimal odds for the bet.\n",
    "        bet_amount (float): The amount wagered.\n",
    "\n",
    "    Returns:\n",
    "        float: The expected value (EV) of the bet.\n",
    "    \"\"\"\n",
    "    payout = decimal_odds * bet_amount\n",
    "    ev = (probability * payout) - bet_amount\n",
    "    return ev\n",
    "\n",
    "\n",
    "def implied_probability(decimal_odds):\n",
    "    \"\"\"Convert decimal odds to implied probability.\"\"\"\n",
    "    return 1 / decimal_odds\n",
    "\n",
    "\n",
    "def estimate_probability_poisson_under(data, stat, n):\n",
    "    mean = data[stat].mean()\n",
    "    probability = poisson.cdf(n, mean)  # Calculate P(X <= n)\n",
    "    return probability\n",
    "\n",
    "\n",
    "def get_prop_probability(player_name, stat, prop_threshold, last_n_games=25, bet_type=\"over\"):\n",
    "    player_id = get_player_id(player_name)\n",
    "    data = get_and_save_player_data(player_id, player_name).sort_values(by='date', ascending=False).head(last_n_games).copy()\n",
    "    print(data.head())\n",
    "    if bet_type == \"over\":\n",
    "        return estimate_probability_poisson(data, stat, prop_threshold)\n",
    "    elif bet_type == \"under\":\n",
    "        return estimate_probability_poisson_under(data, stat, prop_threshold)\n",
    "    else:\n",
    "        raise ValueError(\"Invalid bet type. Use 'over' or 'under'.\")\n",
    "    \n",
    "\n",
    "def analyze_bet(player_name, stat, threshold, odds, last_n_games, bet_type):\n",
    "    probability = get_prop_probability(player_name, stat, threshold, last_n_games=last_n_games, bet_type=bet_type)\n",
    "    odds = american_to_decimal(odds)\n",
    "    house_probability = implied_probability(odds)\n",
    "    ev = calculate_ev(probability, odds, 5)\n",
    "    print(f\"house_probability: {house_probability}\")\n",
    "    print(f\"our probability: {probability}\")\n",
    "    print(f\"odds: {odds}\")\n",
    "    print(f\"ev: {ev}\")\n",
    "    return probability, odds\n",
    "\n",
    "\n",
    "def calculate_combined_probability(probabilities):\n",
    "    \"\"\"Calculate the combined probability for a parlay.\"\"\"\n",
    "    combined_probability = 1\n",
    "    for prob in probabilities:\n",
    "        combined_probability *= prob\n",
    "    return combined_probability\n",
    "\n",
    "\n",
    "def calculate_combined_odds(decimal_odds_list):\n",
    "    \"\"\"Calculate the combined decimal odds for a parlay.\"\"\"\n",
    "    combined_odds = 1\n",
    "    for odds in decimal_odds_list:\n",
    "        combined_odds *= odds\n",
    "    return combined_odds\n",
    "\n",
    "\n",
    "def analyze_parlay(probabilities, odds_list, bet_amount):\n",
    "    \"\"\"\n",
    "    Analyze a parlay bet and print the combined probability, combined odds, and expected value.\n",
    "\n",
    "    Args:\n",
    "        probabilities (list of float): The probabilities of individual bets.\n",
    "        american_odds_list (list of int): The American odds for individual bets.\n",
    "        bet_amount (float): The amount wagered.\n",
    "    \"\"\"\n",
    "    combined_probability = calculate_combined_probability(probabilities)\n",
    "    combined_odds = calculate_combined_odds(odds_list)\n",
    "    ev = calculate_ev(combined_probability, combined_odds, bet_amount)\n",
    "    \n",
    "    print(f\"Combined Probability: {combined_probability:.4f}\")\n",
    "    print(f\"Combined Odds: {combined_odds:.2f}\")\n",
    "    print(f\"Expected Value (EV): ${ev:.2f}\")\n",
    "\n",
    "    return ev\n",
    "\n",
    "class Prop:\n",
    "    def __init__(self, name, stat, threshold, probability, odds, bet_type):\n",
    "        self.name = name\n",
    "        self.stat = stat\n",
    "        self.n = threshold\n",
    "        self.probability = probability\n",
    "        self.odds = odds\n",
    "        self.bet_type = bet_type\n",
    "        \n",
    "\n",
    "def analyze_parlay_list(parlay_list, bet_amount):\n",
    "    probabilities = [prop.probability for prop in parlay_list]\n",
    "    odds = [prop.odds for prop in parlay_list]\n",
    "    return analyze_parlay(probabilities, odds, bet_amount)\n",
    "    "
   ]
  },
  {
   "cell_type": "code",
   "execution_count": null,
   "metadata": {},
   "outputs": [],
   "source": [
    "for prop in parlay:\n",
    "    analyze_bet()"
   ]
  },
  {
   "cell_type": "code",
   "execution_count": 124,
   "metadata": {},
   "outputs": [
    {
     "name": "stdout",
     "output_type": "stream",
     "text": [
      "     player_name player_position  minutes  points  rebounds  assists    efg  \\\n",
      "88  Nikola Jokic               C     41.0      40         7       13  0.727   \n",
      "1   Nikola Jokic               C     39.0      35         7        7  0.596   \n",
      "0   Nikola Jokic               C     38.0      24        14        9  0.583   \n",
      "5   Nikola Jokic               C     38.0      16        16        8  0.385   \n",
      "3   Nikola Jokic               C     40.0      32         8        9  0.480   \n",
      "\n",
      "    fg3a  fg3m  fg3_pct  fga  fgm  fta  ft_pct  steals  blocks        date  \n",
      "88     3     2    0.667   22   15    9   0.889       2       1  2024-05-14  \n",
      "1      5     1    0.200   26   15    6   0.667       3       1  2024-05-12  \n",
      "0      3     1    0.333   18   10    4   0.750       3       3  2024-05-10  \n",
      "5      1     0    0.000   13    5    6   1.000       0       1  2024-05-06  \n",
      "3      9     2    0.222   25   11    8   1.000       3       0  2024-05-04  \n",
      "house_probability: 0.5454545454545454\n",
      "our probability: 0.5875226979999304\n",
      "odds: 1.8333333333333335\n",
      "ev: 0.38562473166602906\n"
     ]
    }
   ],
   "source": [
    "player_name = \"Nikola Jokic\"\n",
    "stat = \"points\"\n",
    "threshold = 29.5\n",
    "odds = -120\n",
    "# bet_type = \"over\"\n",
    "bet_type = \"under\"\n",
    "\n",
    "probability, odds = analyze_bet(player_name, stat, threshold, odds, last_n_games = 25, bet_type = bet_type)\n",
    "\n"
   ]
  },
  {
   "cell_type": "code",
   "execution_count": 110,
   "metadata": {},
   "outputs": [],
   "source": [
    "parlay = []"
   ]
  },
  {
   "cell_type": "code",
   "execution_count": 82,
   "metadata": {},
   "outputs": [
    {
     "name": "stdout",
     "output_type": "stream",
     "text": [
      "Luguentz Dort blocks 0.5 under\n"
     ]
    },
    {
     "data": {
      "text/plain": [
       "[None]"
      ]
     },
     "execution_count": 82,
     "metadata": {},
     "output_type": "execute_result"
    }
   ],
   "source": [
    "[print(prop.name, prop.stat, prop.n, prop.bet_type) for prop in parlay]"
   ]
  },
  {
   "cell_type": "code",
   "execution_count": 89,
   "metadata": {},
   "outputs": [
    {
     "name": "stdout",
     "output_type": "stream",
     "text": [
      "Luguentz Dort blocks 0.5 under\n",
      "Derrick Jones Jr. fg3m 0.5 under\n"
     ]
    },
    {
     "data": {
      "text/plain": [
       "[None, None]"
      ]
     },
     "execution_count": 89,
     "metadata": {},
     "output_type": "execute_result"
    }
   ],
   "source": [
    "parlay.pop()\n",
    "[print(prop.name, prop.stat, prop.n, prop.bet_type) for prop in parlay]"
   ]
  },
  {
   "cell_type": "code",
   "execution_count": 122,
   "metadata": {},
   "outputs": [
    {
     "name": "stdout",
     "output_type": "stream",
     "text": [
      "Kyrie Irving points 21.5 over\n",
      "Shai Gilgeous-Alexander points 32.5 under\n",
      "Luguentz Dort steals 1.5 under\n"
     ]
    },
    {
     "data": {
      "text/plain": [
       "[None, None, None]"
      ]
     },
     "execution_count": 122,
     "metadata": {},
     "output_type": "execute_result"
    }
   ],
   "source": [
    "prop_to_add = Prop(player_name, stat, threshold, probability, odds, bet_type)\n",
    "parlay.append(prop_to_add)\n",
    "[print(prop.name, prop.stat, prop.n, prop.bet_type) for prop in parlay]\n",
    "\n"
   ]
  },
  {
   "cell_type": "code",
   "execution_count": 123,
   "metadata": {},
   "outputs": [
    {
     "name": "stdout",
     "output_type": "stream",
     "text": [
      "Kyrie Irving points 21.5 over\n",
      "Shai Gilgeous-Alexander points 32.5 under\n",
      "Luguentz Dort steals 1.5 under\n",
      "Combined Probability: 0.4782\n",
      "Combined Odds: 4.98\n",
      "Expected Value (EV): $6.90\n",
      "6.904746624032631\n"
     ]
    }
   ],
   "source": [
    "[print(prop.name, prop.stat, prop.n, prop.bet_type) for prop in parlay]\n",
    "print(analyze_parlay_list(parlay, 5))"
   ]
  }
 ],
 "metadata": {
  "kernelspec": {
   "display_name": "nba_01-7yhASJUA",
   "language": "python",
   "name": "python3"
  },
  "language_info": {
   "codemirror_mode": {
    "name": "ipython",
    "version": 3
   },
   "file_extension": ".py",
   "mimetype": "text/x-python",
   "name": "python",
   "nbconvert_exporter": "python",
   "pygments_lexer": "ipython3",
   "version": "3.12.3"
  }
 },
 "nbformat": 4,
 "nbformat_minor": 2
}
